{
 "cells": [
  {
   "cell_type": "markdown",
   "metadata": {},
   "source": [
    "# Evaluation - Echo Chamber"
   ]
  },
  {
   "cell_type": "markdown",
   "metadata": {},
   "source": [
    "The primary goal of this project is to provide users with recommendations that are different from those produced by an ALS recommendation system, but not too different. To evaluate the performance of the augmented, four metrics were developed to evaluate how different the movies recommended by the augmented model are from those recommened by the ALS model.\n",
    "\n",
    "The <a href='#metric1'>first metric</a> looks a user's Top 100 ALS recommendations (based on predicted user ratings) and the Top 100 recommendations from the user's cluster (based on the cluster centroid's ratings). The proportion of the ALS recommended movies also found in the cluster recommendations should be high. A high proportion indicates that the user's cluster is representative of the user's movie preferences. \n",
    "\n",
    "The <a href='#metric2'>second metric</a> looks a user's Top 100 ALS recommendations (based on predicted user ratings) and the top recommendations from the augmented model (based on the cluster centroid's ratings for the two clusters nearest to the user's cluster). The proportion of the ALS recommended movies also found in the augmented model recommendations should be low. A low proportion indicates that the recommendations from the augmented model differ from those produced by the ALS model.\n",
    "\n",
    "The <a href='#metric3'>third metric</a> utilizes the distance between movies (based on the ALS item factors) to evaluate the extent to which the movies from the augmented model are qualitatively different from the movies from the ALS model. For this metric, the mean squared distance between the Top 100 movies from the ALS model (excluding the distance between a movie and itself) is calculated for each user in the sample. Likewise, the mean squared distance between each of the Top 100 ALS movies and each of the top movies from augmented model is calculated for each user in the sample. The difference between these mean squared distances for the sample are tested using a t-test. A negative and statistically significant t-statistic indicates the mean difference between the two sets of recommendations is greater than the mean difference within the ALS recommendations and, thus, the movies from the augmented model are qualitatively different from the movies from the ALS model.\n",
    "\n",
    "The <a href='#metric4'>final metric</a> evaluates whether the movies recommended by the augmented model are too qualitatively different from the ALS recommendations. The metric tests the difference between two differences: the difference between ALS and the augmented model and the difference between ALS and recommendations from the two clusters furthest away from the user's cluster. These differences are calculated in the same way as described above for third metric. The difference in differences is tested using a t-test. A positive and statistically significant t-statistic indicates the difference between the ALS recommendations and those from the furthest clusters is greater than the distance between the ALS recommendations and the augmented model's recommendations. A greater distance is evidence that the augmented model recommendations are not too different from the ALS recommendations since the movies recommended by the furthest clusters are more different. \n",
    "\n",
    "The performance of the augmented model is evaluated in the cells below by applying the above metrics to a sample of 1000 users from the MovieLens dataset. The links above can be used to skip to a particular metric in Sections 5 - 8. Sections 2 - 4 demonstrate the process for importing, sampling, filtering, and engineering the data for evaluation. "
   ]
  },
  {
   "cell_type": "markdown",
   "metadata": {
    "heading_collapsed": true
   },
   "source": [
    "## Local Code Imports"
   ]
  },
  {
   "cell_type": "code",
   "execution_count": 117,
   "metadata": {
    "ExecuteTime": {
     "end_time": "2019-07-30T17:51:24.155795Z",
     "start_time": "2019-07-30T17:51:24.153384Z"
    },
    "hidden": true
   },
   "outputs": [],
   "source": [
    "from src import model as mdl\n",
    "from src import custom as cm"
   ]
  },
  {
   "cell_type": "markdown",
   "metadata": {
    "heading_collapsed": true
   },
   "source": [
    "## Code Imports"
   ]
  },
  {
   "cell_type": "code",
   "execution_count": 2,
   "metadata": {
    "ExecuteTime": {
     "end_time": "2019-07-30T14:00:55.157145Z",
     "start_time": "2019-07-30T14:00:55.151865Z"
    },
    "hidden": true
   },
   "outputs": [],
   "source": [
    "import pandas as pd\n",
    "import numpy as np\n",
    "from joblib import load\n",
    "from scipy import stats\n",
    "import matplotlib.pyplot as plt\n",
    "%matplotlib inline"
   ]
  },
  {
   "cell_type": "markdown",
   "metadata": {},
   "source": [
    "# Data"
   ]
  },
  {
   "cell_type": "markdown",
   "metadata": {},
   "source": [
    "## Import Data Files"
   ]
  },
  {
   "cell_type": "code",
   "execution_count": 3,
   "metadata": {
    "ExecuteTime": {
     "end_time": "2019-07-30T14:00:57.281831Z",
     "start_time": "2019-07-30T14:00:55.159064Z"
    }
   },
   "outputs": [],
   "source": [
    "user_fac = pd.read_csv('../data/processed/user_factors.csv', index_col='id')"
   ]
  },
  {
   "cell_type": "code",
   "execution_count": 5,
   "metadata": {
    "ExecuteTime": {
     "end_time": "2019-07-30T14:00:57.624030Z",
     "start_time": "2019-07-30T14:00:57.306487Z"
    }
   },
   "outputs": [],
   "source": [
    "item_fac = pd.read_csv(\n",
    "    '../data/processed/item_factors_unstacked.csv', index_col='id')"
   ]
  },
  {
   "cell_type": "markdown",
   "metadata": {},
   "source": [
    "## Build Rankings Matrix"
   ]
  },
  {
   "cell_type": "markdown",
   "metadata": {},
   "source": [
    "The following cell multiplies the user factors and item factors calculated from the ALS model implementation to get the ALS movie ratings for each user (see the SparkALS.py file in the model folder for the ALS implementation code)."
   ]
  },
  {
   "cell_type": "code",
   "execution_count": 8,
   "metadata": {
    "ExecuteTime": {
     "end_time": "2019-07-30T14:02:25.853656Z",
     "start_time": "2019-07-30T14:00:58.987618Z"
    }
   },
   "outputs": [],
   "source": [
    "ALS_rankings_matrix = user_fac.to_numpy().dot(item_fac.T.to_numpy())"
   ]
  },
  {
   "cell_type": "code",
   "execution_count": 9,
   "metadata": {
    "ExecuteTime": {
     "end_time": "2019-07-30T14:02:26.016813Z",
     "start_time": "2019-07-30T14:02:25.934336Z"
    }
   },
   "outputs": [
    {
     "data": {
      "text/plain": [
       "(243658, 28755)"
      ]
     },
     "execution_count": 9,
     "metadata": {},
     "output_type": "execute_result"
    }
   ],
   "source": [
    "ALS_rankings_matrix.shape"
   ]
  },
  {
   "cell_type": "markdown",
   "metadata": {},
   "source": [
    "## Sample Users"
   ]
  },
  {
   "cell_type": "markdown",
   "metadata": {},
   "source": [
    "To sample users, an index of random values is generated. The index is then used to filter rows from the user factors object (user_fac) and the ALS rankings matrix. The sample is transformed from a numpy array to a dataframe, the columns set to be the movie IDs (take from the item_fac index), and then transposed so that each column represents a user and each row a movie. Lastly, the index is reset making the movieId a column in the dataframe. "
   ]
  },
  {
   "cell_type": "code",
   "execution_count": 10,
   "metadata": {
    "ExecuteTime": {
     "end_time": "2019-07-30T14:02:26.078119Z",
     "start_time": "2019-07-30T14:02:26.018867Z"
    }
   },
   "outputs": [],
   "source": [
    "idx = np.random.randint(0, 243658, size=1000)"
   ]
  },
  {
   "cell_type": "code",
   "execution_count": 11,
   "metadata": {
    "ExecuteTime": {
     "end_time": "2019-07-30T14:02:32.137996Z",
     "start_time": "2019-07-30T14:02:26.084639Z"
    }
   },
   "outputs": [],
   "source": [
    "sample_user_facs = user_fac.to_numpy()[idx, :]"
   ]
  },
  {
   "cell_type": "code",
   "execution_count": 12,
   "metadata": {
    "ExecuteTime": {
     "end_time": "2019-07-30T14:03:03.481254Z",
     "start_time": "2019-07-30T14:02:32.139236Z"
    }
   },
   "outputs": [],
   "source": [
    "sample = ALS_rankings_matrix[idx, :]"
   ]
  },
  {
   "cell_type": "code",
   "execution_count": 13,
   "metadata": {
    "ExecuteTime": {
     "end_time": "2019-07-30T14:03:03.528850Z",
     "start_time": "2019-07-30T14:03:03.482983Z"
    }
   },
   "outputs": [],
   "source": [
    "sample_df = pd.DataFrame(sample)"
   ]
  },
  {
   "cell_type": "code",
   "execution_count": 15,
   "metadata": {
    "ExecuteTime": {
     "end_time": "2019-07-30T14:03:03.631680Z",
     "start_time": "2019-07-30T14:03:03.627903Z"
    }
   },
   "outputs": [],
   "source": [
    "sample_df.columns = item_fac.index"
   ]
  },
  {
   "cell_type": "code",
   "execution_count": 17,
   "metadata": {
    "ExecuteTime": {
     "end_time": "2019-07-30T14:03:03.672352Z",
     "start_time": "2019-07-30T14:03:03.668820Z"
    }
   },
   "outputs": [],
   "source": [
    "sample_T = sample_df.T"
   ]
  },
  {
   "cell_type": "code",
   "execution_count": 19,
   "metadata": {
    "ExecuteTime": {
     "end_time": "2019-07-30T14:03:03.702684Z",
     "start_time": "2019-07-30T14:03:03.694320Z"
    }
   },
   "outputs": [],
   "source": [
    "sample_T.reset_index(inplace=True)"
   ]
  },
  {
   "cell_type": "markdown",
   "metadata": {},
   "source": [
    "## Filter for Most Rated Movies"
   ]
  },
  {
   "cell_type": "markdown",
   "metadata": {},
   "source": [
    "The ALS and augmented models used in this project only recommend movies that have been rated by more than 50 users. The file most_rated.csv contains the movie ID, title, and genre for these often rated movies. Using the most rated movies, the sample is filtered to include only those movies with more than 50 user reviews. This is done so that the evaluation below is based on the same set of possible movie recommendations as used in the recommendation system. "
   ]
  },
  {
   "cell_type": "code",
   "execution_count": 21,
   "metadata": {
    "ExecuteTime": {
     "end_time": "2019-07-30T14:03:03.762026Z",
     "start_time": "2019-07-30T14:03:03.721697Z"
    }
   },
   "outputs": [],
   "source": [
    "most_rated = pd.read_csv(\n",
    "    '../data/processed/most_rated.csv', index_col='Unnamed: 0')"
   ]
  },
  {
   "cell_type": "code",
   "execution_count": 23,
   "metadata": {
    "ExecuteTime": {
     "end_time": "2019-07-30T14:03:03.867503Z",
     "start_time": "2019-07-30T14:03:03.777126Z"
    }
   },
   "outputs": [],
   "source": [
    "sample_redx = pd.merge(sample_T, most_rated, how='inner',\n",
    "                       left_on='id', right_on='movieId')"
   ]
  },
  {
   "cell_type": "code",
   "execution_count": 24,
   "metadata": {
    "ExecuteTime": {
     "end_time": "2019-07-30T14:03:03.871591Z",
     "start_time": "2019-07-30T14:03:03.868884Z"
    }
   },
   "outputs": [],
   "source": [
    "sample_redx.set_index('id', inplace=True)"
   ]
  },
  {
   "cell_type": "code",
   "execution_count": 25,
   "metadata": {
    "ExecuteTime": {
     "end_time": "2019-07-30T14:03:03.951724Z",
     "start_time": "2019-07-30T14:03:03.872829Z"
    }
   },
   "outputs": [],
   "source": [
    "sample_redx.drop(['movieId', 'title', 'genres'], axis=1, inplace=True)"
   ]
  },
  {
   "cell_type": "markdown",
   "metadata": {},
   "source": [
    "# Get ALS Top 100 for Sample"
   ]
  },
  {
   "cell_type": "markdown",
   "metadata": {},
   "source": [
    "The following cell creates a list of the Top 100 rated movies for each user based on the ALS model. "
   ]
  },
  {
   "cell_type": "code",
   "execution_count": 26,
   "metadata": {
    "ExecuteTime": {
     "end_time": "2019-07-30T14:03:14.417945Z",
     "start_time": "2019-07-30T14:03:12.373863Z"
    }
   },
   "outputs": [],
   "source": [
    "als_top_100s = []\n",
    "for idx, col in enumerate(sample_redx):\n",
    "    top_100 = sample_redx[col].sort_values(ascending=False).head(100)\n",
    "    top_100_df = pd.DataFrame(top_100)\n",
    "    top_100_df.reset_index(inplace=True)\n",
    "    als_top_100s.append(top_100_df)"
   ]
  },
  {
   "cell_type": "markdown",
   "metadata": {},
   "source": [
    "# Get Cluster Top 100 for Sample"
   ]
  },
  {
   "cell_type": "markdown",
   "metadata": {},
   "source": [
    "The augmented model gets recommendations from the two clusters nearest to the user's cluster. The following cells predict the cluster of each user in the sample, gets creates a dataframe with the movie ratings for each cluster, and generates a list of the Top 100 movies recommendations for each user in the sample from the user's predicted cluster. "
   ]
  },
  {
   "cell_type": "markdown",
   "metadata": {},
   "source": [
    "## Predict Users' Clusters"
   ]
  },
  {
   "cell_type": "code",
   "execution_count": 27,
   "metadata": {
    "ExecuteTime": {
     "end_time": "2019-07-30T14:03:14.854809Z",
     "start_time": "2019-07-30T14:03:14.419428Z"
    }
   },
   "outputs": [],
   "source": [
    "gbc = load('../models/fifp_classification.joblib')"
   ]
  },
  {
   "cell_type": "code",
   "execution_count": 28,
   "metadata": {
    "ExecuteTime": {
     "end_time": "2019-07-30T14:03:14.890687Z",
     "start_time": "2019-07-30T14:03:14.856483Z"
    }
   },
   "outputs": [],
   "source": [
    "preds = gbc.predict(sample_user_facs)"
   ]
  },
  {
   "cell_type": "markdown",
   "metadata": {},
   "source": [
    "## Get Cluster Centroid Ratings"
   ]
  },
  {
   "cell_type": "code",
   "execution_count": 29,
   "metadata": {
    "ExecuteTime": {
     "end_time": "2019-07-30T14:03:14.923619Z",
     "start_time": "2019-07-30T14:03:14.892523Z"
    }
   },
   "outputs": [],
   "source": [
    "centroids = pd.read_csv(\n",
    "    '../data/processed/centroids.csv', index_col='Unnamed: 0')\n",
    "centroid_ratings_T_df = cm.get_centroid_ratings(centroids, item_fac)"
   ]
  },
  {
   "cell_type": "code",
   "execution_count": 30,
   "metadata": {
    "ExecuteTime": {
     "end_time": "2019-07-30T14:03:14.929551Z",
     "start_time": "2019-07-30T14:03:14.925606Z"
    },
    "scrolled": true
   },
   "outputs": [],
   "source": [
    "centroid_ratings_T_df.reset_index(inplace=True)"
   ]
  },
  {
   "cell_type": "code",
   "execution_count": 31,
   "metadata": {
    "ExecuteTime": {
     "end_time": "2019-07-30T14:03:14.943497Z",
     "start_time": "2019-07-30T14:03:14.931667Z"
    }
   },
   "outputs": [],
   "source": [
    "centroid_ratings_redx = pd.merge(\n",
    "    centroid_ratings_T_df, most_rated, how='inner', left_on='id', right_on='movieId')"
   ]
  },
  {
   "cell_type": "code",
   "execution_count": 32,
   "metadata": {
    "ExecuteTime": {
     "end_time": "2019-07-30T14:03:14.949101Z",
     "start_time": "2019-07-30T14:03:14.945192Z"
    }
   },
   "outputs": [],
   "source": [
    "centroid_ratings_redx.set_index('id', inplace=True)"
   ]
  },
  {
   "cell_type": "code",
   "execution_count": 33,
   "metadata": {
    "ExecuteTime": {
     "end_time": "2019-07-30T14:03:14.956536Z",
     "start_time": "2019-07-30T14:03:14.951636Z"
    }
   },
   "outputs": [],
   "source": [
    "centroid_ratings_redx.drop(\n",
    "    ['movieId', 'title', 'genres'], axis=1, inplace=True)"
   ]
  },
  {
   "cell_type": "markdown",
   "metadata": {},
   "source": [
    "## Get Cluster Top 100"
   ]
  },
  {
   "cell_type": "code",
   "execution_count": 36,
   "metadata": {
    "ExecuteTime": {
     "end_time": "2019-07-30T14:03:21.260452Z",
     "start_time": "2019-07-30T14:03:18.882414Z"
    }
   },
   "outputs": [],
   "source": [
    "cluster_top_100s = []\n",
    "for cluster in preds:\n",
    "    top_100 = centroid_ratings_redx[cluster].sort_values(\n",
    "        ascending=False).head(100)\n",
    "    top_100_df = pd.DataFrame(top_100)\n",
    "    top_100_df.reset_index(inplace=True)\n",
    "    cluster_top_100s.append(top_100_df)"
   ]
  },
  {
   "cell_type": "markdown",
   "metadata": {},
   "source": [
    "<a id='metric1'></a>"
   ]
  },
  {
   "cell_type": "markdown",
   "metadata": {},
   "source": [
    "# Evaluation Metric 1: Proportion of Top 100 Movies Shared between the ALS recommendations and the User's Cluster Centroid"
   ]
  },
  {
   "cell_type": "markdown",
   "metadata": {},
   "source": [
    "The first metric evaluates the similarity between the top 100 ALS recommendations (based on predicted user ratings) and those generated by the user's cluster (based on the cluster centroid's ratings). The proportion of the ALS recommended movies also found in the cluster recommendations should be high indicating the user's cluster is representative of the user's movie preferences."
   ]
  },
  {
   "cell_type": "code",
   "execution_count": 153,
   "metadata": {
    "ExecuteTime": {
     "end_time": "2019-07-30T20:13:40.064417Z",
     "start_time": "2019-07-30T20:13:39.907332Z"
    },
    "scrolled": true
   },
   "outputs": [],
   "source": [
    "proportions1 = []\n",
    "for i in range(len(cluster_top_100s)):\n",
    "    als_set = set(als_top_100s[i].iloc[:, 0])\n",
    "    cluster_set = set(cluster_top_100s[i].iloc[:, 0])\n",
    "    intersection = als_set.intersection(cluster_set)\n",
    "    n_in_common = len(intersection)\n",
    "    proportion_in_common = (n_in_common/100)\n",
    "    proportions1.append(proportion_in_common)"
   ]
  },
  {
   "cell_type": "code",
   "execution_count": 158,
   "metadata": {
    "ExecuteTime": {
     "end_time": "2019-07-30T20:17:17.936174Z",
     "start_time": "2019-07-30T20:17:17.730901Z"
    },
    "scrolled": true
   },
   "outputs": [
    {
     "data": {
      "image/png": "[encoded data removed]",
      "text/plain": [
       "<Figure size 864x432 with 1 Axes>"
      ]
     },
     "metadata": {
      "needs_background": "light"
     },
     "output_type": "display_data"
    }
   ],
   "source": [
    "plt.figure(figsize=(12, 6))\n",
    "plt.title('Proportion of Movies Common to a User\\'s ALS Recommendations and a User\\'s Own Cluster\\'s Recommendations')\n",
    "plt.ylabel('Frequencies')\n",
    "plt.xlabel('Proportion of Movies in Common')\n",
    "plt.hist(proportions1, bins=20)\n",
    "plt.show;\n",
    "plt.savefig('../reports/figures/Metric1.png')"
   ]
  },
  {
   "cell_type": "markdown",
   "metadata": {},
   "source": [
    "<a id='metric2'></a>"
   ]
  },
  {
   "cell_type": "markdown",
   "metadata": {},
   "source": [
    "# Evaluation Metric 2: Proportion of Top 100 Movies Shared between the ALS and Augmented Recommendations"
   ]
  },
  {
   "cell_type": "markdown",
   "metadata": {},
   "source": [
    "The second metric evaluates the similarity between the top 100 ALS recommendations (based on predicted user ratings) and the top recommendations from the augmented model. The proportion of the ALS recommended movies also found in the augmented model recommendations should be low indicating the recommendations from the augmented model differ from those produced by the ALS model."
   ]
  },
  {
   "cell_type": "code",
   "execution_count": 39,
   "metadata": {
    "ExecuteTime": {
     "end_time": "2019-07-30T14:03:25.060063Z",
     "start_time": "2019-07-30T14:03:25.053828Z"
    }
   },
   "outputs": [],
   "source": [
    "cluster_distances = pd.read_csv(\n",
    "    '../data/processed/cluster_distances_df.csv', index_col='Unnamed: 0')"
   ]
  },
  {
   "cell_type": "code",
   "execution_count": 40,
   "metadata": {
    "ExecuteTime": {
     "end_time": "2019-07-30T14:03:25.413517Z",
     "start_time": "2019-07-30T14:03:25.402663Z"
    }
   },
   "outputs": [
    {
     "data": {
      "text/html": [
       "<div>\n",
       "<style scoped>\n",
       "    .dataframe tbody tr th:only-of-type {\n",
       "        vertical-align: middle;\n",
       "    }\n",
       "\n",
       "    .dataframe tbody tr th {\n",
       "        vertical-align: top;\n",
       "    }\n",
       "\n",
       "    .dataframe thead th {\n",
       "        text-align: right;\n",
       "    }\n",
       "</style>\n",
       "<table border=\"1\" class=\"dataframe\">\n",
       "  <thead>\n",
       "    <tr style=\"text-align: right;\">\n",
       "      <th></th>\n",
       "      <th>0</th>\n",
       "      <th>1</th>\n",
       "      <th>2</th>\n",
       "      <th>3</th>\n",
       "      <th>4</th>\n",
       "      <th>5</th>\n",
       "      <th>6</th>\n",
       "      <th>7</th>\n",
       "      <th>8</th>\n",
       "    </tr>\n",
       "  </thead>\n",
       "  <tbody>\n",
       "    <tr>\n",
       "      <th>0</th>\n",
       "      <td>0.000000</td>\n",
       "      <td>8.798096</td>\n",
       "      <td>9.716017</td>\n",
       "      <td>7.041225</td>\n",
       "      <td>6.007564</td>\n",
       "      <td>10.984834</td>\n",
       "      <td>5.646137</td>\n",
       "      <td>6.316699</td>\n",
       "      <td>6.183063</td>\n",
       "    </tr>\n",
       "    <tr>\n",
       "      <th>1</th>\n",
       "      <td>8.798096</td>\n",
       "      <td>0.000000</td>\n",
       "      <td>5.956857</td>\n",
       "      <td>6.540400</td>\n",
       "      <td>8.858469</td>\n",
       "      <td>4.575128</td>\n",
       "      <td>4.660669</td>\n",
       "      <td>4.302251</td>\n",
       "      <td>4.401584</td>\n",
       "    </tr>\n",
       "    <tr>\n",
       "      <th>2</th>\n",
       "      <td>9.716017</td>\n",
       "      <td>5.956857</td>\n",
       "      <td>0.000000</td>\n",
       "      <td>7.768660</td>\n",
       "      <td>6.161390</td>\n",
       "      <td>9.719417</td>\n",
       "      <td>5.783137</td>\n",
       "      <td>8.817718</td>\n",
       "      <td>5.600428</td>\n",
       "    </tr>\n",
       "    <tr>\n",
       "      <th>3</th>\n",
       "      <td>7.041225</td>\n",
       "      <td>6.540400</td>\n",
       "      <td>7.768660</td>\n",
       "      <td>0.000000</td>\n",
       "      <td>8.586475</td>\n",
       "      <td>7.407208</td>\n",
       "      <td>6.431559</td>\n",
       "      <td>6.280426</td>\n",
       "      <td>6.763831</td>\n",
       "    </tr>\n",
       "    <tr>\n",
       "      <th>4</th>\n",
       "      <td>6.007564</td>\n",
       "      <td>8.858469</td>\n",
       "      <td>6.161390</td>\n",
       "      <td>8.586475</td>\n",
       "      <td>0.000000</td>\n",
       "      <td>12.469241</td>\n",
       "      <td>6.062674</td>\n",
       "      <td>8.974924</td>\n",
       "      <td>5.407681</td>\n",
       "    </tr>\n",
       "  </tbody>\n",
       "</table>\n",
       "</div>"
      ],
      "text/plain": [
       "          0         1         2         3         4          5         6  \\\n",
       "0  0.000000  8.798096  9.716017  7.041225  6.007564  10.984834  5.646137   \n",
       "1  8.798096  0.000000  5.956857  6.540400  8.858469   4.575128  4.660669   \n",
       "2  9.716017  5.956857  0.000000  7.768660  6.161390   9.719417  5.783137   \n",
       "3  7.041225  6.540400  7.768660  0.000000  8.586475   7.407208  6.431559   \n",
       "4  6.007564  8.858469  6.161390  8.586475  0.000000  12.469241  6.062674   \n",
       "\n",
       "          7         8  \n",
       "0  6.316699  6.183063  \n",
       "1  4.302251  4.401584  \n",
       "2  8.817718  5.600428  \n",
       "3  6.280426  6.763831  \n",
       "4  8.974924  5.407681  "
      ]
     },
     "execution_count": 40,
     "metadata": {},
     "output_type": "execute_result"
    }
   ],
   "source": [
    "cluster_distances.head()"
   ]
  },
  {
   "cell_type": "code",
   "execution_count": 41,
   "metadata": {
    "ExecuteTime": {
     "end_time": "2019-07-30T14:03:25.800001Z",
     "start_time": "2019-07-30T14:03:25.795279Z"
    }
   },
   "outputs": [
    {
     "data": {
      "text/plain": [
       "array([6, 1])"
      ]
     },
     "execution_count": 41,
     "metadata": {},
     "output_type": "execute_result"
    }
   ],
   "source": [
    "cm.get_nearest_clusters(cluster_distances, '8')"
   ]
  },
  {
   "cell_type": "code",
   "execution_count": 155,
   "metadata": {
    "ExecuteTime": {
     "end_time": "2019-07-30T20:13:56.198769Z",
     "start_time": "2019-07-30T20:13:55.494002Z"
    }
   },
   "outputs": [],
   "source": [
    "proportions2 = []\n",
    "for i in range(len(cluster_top_100s)):\n",
    "    j = preds[i]\n",
    "    nearest_clusters = cm.get_nearest_clusters(\n",
    "        cluster_distances, '{}'.format(j))\n",
    "    cluster1 = nearest_clusters[0]\n",
    "    cluster2 = nearest_clusters[1]\n",
    "    als_set = set(als_top_100s[i].iloc[:, 0])\n",
    "    cluster1_set = set(cluster_top_100s[cluster1].iloc[:, 0])\n",
    "    cluster2_set = set(cluster_top_100s[cluster2].iloc[:, 0])\n",
    "    cluster_full = cluster1_set.union(cluster2_set)\n",
    "    intersection = als_set.intersection(cluster_full)\n",
    "    n_in_common = len(intersection)\n",
    "    proportion_in_common = (n_in_common/100)\n",
    "    proportions2.append(proportion_in_common)"
   ]
  },
  {
   "cell_type": "code",
   "execution_count": 157,
   "metadata": {
    "ExecuteTime": {
     "end_time": "2019-07-30T20:16:44.746217Z",
     "start_time": "2019-07-30T20:16:44.536283Z"
    },
    "scrolled": false
   },
   "outputs": [
    {
     "data": {
      "image/png": "[encoded data removed]",
      "text/plain": [
       "<Figure size 864x432 with 1 Axes>"
      ]
     },
     "metadata": {
      "needs_background": "light"
     },
     "output_type": "display_data"
    }
   ],
   "source": [
    "plt.figure(figsize=(12, 6))\n",
    "plt.title('Proportion of Movies Common to a User\\'s ALS and Augmented Recommendations')\n",
    "plt.ylabel('Frequencies')\n",
    "plt.xlabel('Proportion of Movies in Common')\n",
    "plt.hist(proportions2, bins=20)\n",
    "plt.show;\n",
    "plt.savefig('../reports/figures/Metric2.png')"
   ]
  },
  {
   "cell_type": "markdown",
   "metadata": {},
   "source": [
    "<a id='metric3'></a>"
   ]
  },
  {
   "cell_type": "markdown",
   "metadata": {},
   "source": [
    "# Evaluation Metric 3: Distances Between ALS Recommended Movies and Nearest Cluster Recommended Movies"
   ]
  },
  {
   "cell_type": "markdown",
   "metadata": {},
   "source": [
    "In addition to recommending a different set of movies than the ALS model, the goal of the augmented model is to recommend movies that are qualitatively more diverse. To test for differences in the qualities of movie recommended by each model, the third evaluation metric assesses the distances between movies. For each user, the mean squared distance between movies recommended by the ALS model is calculated. Then, the mean squared distance between movies recommended by ALS model and movies recommended by the augmented model is calculated for each user. For the sample, the difference in the two mean squared distance calculations is tested using a t-test. A negative and statistically significant t-statistic indicates the mean difference between the two sets of recommendations is greater than the mean difference within the ALS recommendations and, thus, the movies from the augmented model are qualitatively different from the movies from the ALS model."
   ]
  },
  {
   "cell_type": "code",
   "execution_count": 44,
   "metadata": {
    "ExecuteTime": {
     "end_time": "2019-07-30T14:06:33.496703Z",
     "start_time": "2019-07-30T14:03:29.510315Z"
    }
   },
   "outputs": [],
   "source": [
    "movie_distances = cm.get_cluster_distances(item_fac)"
   ]
  },
  {
   "cell_type": "code",
   "execution_count": 75,
   "metadata": {
    "ExecuteTime": {
     "end_time": "2019-07-30T16:52:41.143081Z",
     "start_time": "2019-07-30T16:52:41.140699Z"
    }
   },
   "outputs": [],
   "source": [
    "movie_distances.columns = item_fac.index"
   ]
  },
  {
   "cell_type": "code",
   "execution_count": 77,
   "metadata": {
    "ExecuteTime": {
     "end_time": "2019-07-30T16:53:16.346374Z",
     "start_time": "2019-07-30T16:53:16.344132Z"
    }
   },
   "outputs": [],
   "source": [
    "movie_distances.index = item_fac.index"
   ]
  },
  {
   "cell_type": "code",
   "execution_count": 120,
   "metadata": {
    "ExecuteTime": {
     "end_time": "2019-07-30T18:01:02.157699Z",
     "start_time": "2019-07-30T18:01:01.481948Z"
    }
   },
   "outputs": [],
   "source": [
    "nearest_clusters_top = []\n",
    "for i in range(len(cluster_top_100s)):\n",
    "    j = preds[i]\n",
    "    nearest_clusters = cm.get_nearest_clusters(\n",
    "        cluster_distances, '{}'.format(j))\n",
    "    cluster1 = nearest_clusters[0]\n",
    "    cluster2 = nearest_clusters[1]\n",
    "    cluster1_set = set(cluster_top_100s[cluster1].iloc[:, 0])\n",
    "    cluster2_set = set(cluster_top_100s[cluster2].iloc[:, 0])\n",
    "    cluster_full_set = cluster1_set.union(cluster2_set)\n",
    "    cluster_full_list = list(cluster_full_set)\n",
    "    nearest_clusters_top.append(cluster_full_list)"
   ]
  },
  {
   "cell_type": "code",
   "execution_count": 114,
   "metadata": {
    "ExecuteTime": {
     "end_time": "2019-07-30T17:29:50.114962Z",
     "start_time": "2019-07-30T17:28:22.106206Z"
    }
   },
   "outputs": [],
   "source": [
    "MSS_distances_within = []\n",
    "for i in range(len(als_top_100s)):\n",
    "    within_distances = []\n",
    "    for j in als_top_100s[i].iloc[:, 0]:\n",
    "        for k in als_top_100s[i].iloc[:, 0]:\n",
    "            if j == k:\n",
    "                pass\n",
    "            else:\n",
    "                within_distances.append(movie_distances[j][k])\n",
    "    sq_within_distances = [x**2 for x in within_distances]\n",
    "    MSS_distances = np.mean(sq_within_distances)\n",
    "    MSS_distances_within.append(MSS_distances)"
   ]
  },
  {
   "cell_type": "code",
   "execution_count": 127,
   "metadata": {
    "ExecuteTime": {
     "end_time": "2019-07-30T18:05:20.525228Z",
     "start_time": "2019-07-30T18:03:10.228455Z"
    }
   },
   "outputs": [],
   "source": [
    "MSS_distances_between = []\n",
    "for i in range(len(als_top_100s)):\n",
    "    between_distances = []\n",
    "    for j in als_top_100s[i].iloc[:, 0]:\n",
    "        for k in nearest_clusters_top[i]:\n",
    "            between_distances.append(movie_distances[j][k])\n",
    "    sq_between_distances = [x**2 for x in between_distances]\n",
    "    MSS_distances = np.mean(sq_between_distances)\n",
    "    MSS_distances_between.append(MSS_distances)"
   ]
  },
  {
   "cell_type": "code",
   "execution_count": 128,
   "metadata": {
    "ExecuteTime": {
     "end_time": "2019-07-30T18:07:24.507958Z",
     "start_time": "2019-07-30T18:07:24.501101Z"
    }
   },
   "outputs": [
    {
     "data": {
      "text/plain": [
       "Ttest_indResult(statistic=-66.19551095638982, pvalue=0.0)"
      ]
     },
     "execution_count": 128,
     "metadata": {},
     "output_type": "execute_result"
    }
   ],
   "source": [
    "stats.ttest_ind(MSS_distances_within, MSS_distances_between, equal_var=False)"
   ]
  },
  {
   "cell_type": "markdown",
   "metadata": {},
   "source": [
    "<a id='metric4'></a>"
   ]
  },
  {
   "cell_type": "markdown",
   "metadata": {},
   "source": [
    "# Evaluation: Difference in Distances Between ALS Recommended Movies and Nearest Cluster Recommended Movies and the Distances Between ALS Recommended Movies and Furthest Cluster Recommended Movies"
   ]
  },
  {
   "cell_type": "markdown",
   "metadata": {},
   "source": [
    "The goal of the augmented model is to recommend movies that are qualitatively different, but not too different, from those provided by the ALS model. Recommendations that are too different will be ignored or, worse, could result in the user no longer using the recommendation service. \n",
    "\n",
    "To test that the recommendations provided by the augmented model are not too different for the ALS recommendation, metric 4 compares the differences between the ALS and augmented recommendations to the difference between the ALS recommendations and those provided by the two clusters furthest from the user's cluster. Recommendations from the furthest clusters should be more different than recommendations from the nearest clusters (i.e., the augmented model). For the sample, the difference in differences is tested using a t-test. A positive and statistically significant t-statistic indicates the difference between the ALS recommendations and the furthest cluster recommendations is greater than the difference between the ALS recommendations and the augmented recommendations. If the difference is positive and statitically significant, then the augmented recommendations are not as different as the recommendations from the furthest clusters and therefore are not too different from the ALS recommendations. "
   ]
  },
  {
   "cell_type": "code",
   "execution_count": 129,
   "metadata": {
    "ExecuteTime": {
     "end_time": "2019-07-30T18:12:52.237539Z",
     "start_time": "2019-07-30T18:12:51.545522Z"
    },
    "scrolled": true
   },
   "outputs": [],
   "source": [
    "furthest_clusters_top = []\n",
    "for i in range(len(cluster_top_100s)):\n",
    "    j = preds[i]\n",
    "    nearest_clusters = cm.get_furthest_clusters(\n",
    "        cluster_distances, '{}'.format(j))\n",
    "    cluster1 = nearest_clusters[0]\n",
    "    cluster2 = nearest_clusters[1]\n",
    "    cluster1_set = set(cluster_top_100s[cluster1].iloc[:, 0])\n",
    "    cluster2_set = set(cluster_top_100s[cluster2].iloc[:, 0])\n",
    "    cluster_full_set = cluster1_set.union(cluster2_set)\n",
    "    cluster_full_list = list(cluster_full_set)\n",
    "    furthest_clusters_top.append(cluster_full_list)"
   ]
  },
  {
   "cell_type": "code",
   "execution_count": 132,
   "metadata": {
    "ExecuteTime": {
     "end_time": "2019-07-30T18:17:14.008346Z",
     "start_time": "2019-07-30T18:15:01.591035Z"
    }
   },
   "outputs": [],
   "source": [
    "MSS_distances_between_furthest = []\n",
    "for i in range(len(als_top_100s)):\n",
    "    within_distances = []\n",
    "    for j in als_top_100s[i].iloc[:, 0]:\n",
    "        for k in furthest_clusters_top[i]:\n",
    "            within_distances.append(movie_distances[j][k])\n",
    "    sq_within_distances = [x**2 for x in within_distances]\n",
    "    MSS_distances = np.mean(sq_within_distances)\n",
    "    MSS_distances_between_furthest.append(MSS_distances)"
   ]
  },
  {
   "cell_type": "code",
   "execution_count": 139,
   "metadata": {
    "ExecuteTime": {
     "end_time": "2019-07-30T18:21:32.559432Z",
     "start_time": "2019-07-30T18:21:32.556572Z"
    }
   },
   "outputs": [],
   "source": [
    "within_between_differences = np.subtract(\n",
    "    MSS_distances_between, MSS_distances_within)\n",
    "within_furthest_differences = np.subtract(\n",
    "    MSS_distances_between_furthest, MSS_distances_within)"
   ]
  },
  {
   "cell_type": "code",
   "execution_count": 141,
   "metadata": {
    "ExecuteTime": {
     "end_time": "2019-07-30T19:39:55.365380Z",
     "start_time": "2019-07-30T19:39:55.361493Z"
    }
   },
   "outputs": [
    {
     "data": {
      "text/plain": [
       "Ttest_indResult(statistic=5.516741793081464, pvalue=3.907336572476676e-08)"
      ]
     },
     "execution_count": 141,
     "metadata": {},
     "output_type": "execute_result"
    }
   ],
   "source": [
    "stats.ttest_ind(within_furthest_differences,\n",
    "                within_between_differences, equal_var=False)"
   ]
  }
 ],
 "metadata": {
  "kernelspec": {
   "display_name": "Python 3",
   "language": "python",
   "name": "python3"
  },
  "language_info": {
   "codemirror_mode": {
    "name": "ipython",
    "version": 3
   },
   "file_extension": ".py",
   "mimetype": "text/x-python",
   "name": "python",
   "nbconvert_exporter": "python",
   "pygments_lexer": "ipython3",
   "version": "3.7.3"
  },
  "toc": {
   "base_numbering": 1,
   "nav_menu": {},
   "number_sections": true,
   "sideBar": true,
   "skip_h1_title": false,
   "title_cell": "Table of Contents",
   "title_sidebar": "Contents",
   "toc_cell": false,
   "toc_position": {},
   "toc_section_display": true,
   "toc_window_display": false
  }
 },
 "nbformat": 4,
 "nbformat_minor": 2
}
