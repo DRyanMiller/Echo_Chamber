{
 "cells": [
  {
   "cell_type": "markdown",
   "metadata": {},
   "source": [
    "# Evaluation - Echo Chamber"
   ]
  },
  {
   "cell_type": "markdown",
   "metadata": {},
   "source": [
    "## Local Code Imports"
   ]
  },
  {
   "cell_type": "code",
   "execution_count": 117,
   "metadata": {
    "ExecuteTime": {
     "end_time": "2019-07-30T17:51:24.155795Z",
     "start_time": "2019-07-30T17:51:24.153384Z"
    }
   },
   "outputs": [],
   "source": [
    "from src import model as mdl\n",
    "from src import custom as cm"
   ]
  },
  {
   "cell_type": "markdown",
   "metadata": {},
   "source": [
    "## Code Imports"
   ]
  },
  {
   "cell_type": "code",
   "execution_count": 2,
   "metadata": {
    "ExecuteTime": {
     "end_time": "2019-07-30T14:00:55.157145Z",
     "start_time": "2019-07-30T14:00:55.151865Z"
    }
   },
   "outputs": [],
   "source": [
    "import pandas as pd\n",
    "import numpy as np\n",
    "from joblib import load\n",
    "from scipy import stats\n",
    "import matplotlib.pyplot as plt\n",
    "%matplotlib inline"
   ]
  },
  {
   "cell_type": "markdown",
   "metadata": {},
   "source": [
    "# Data"
   ]
  },
  {
   "cell_type": "markdown",
   "metadata": {},
   "source": [
    "## Import Data Files"
   ]
  },
  {
   "cell_type": "code",
   "execution_count": 3,
   "metadata": {
    "ExecuteTime": {
     "end_time": "2019-07-30T14:00:57.281831Z",
     "start_time": "2019-07-30T14:00:55.159064Z"
    }
   },
   "outputs": [],
   "source": [
    "user_fac = pd.read_csv('../data/processed/user_factors.csv', index_col='id')"
   ]
  },
  {
   "cell_type": "code",
   "execution_count": 5,
   "metadata": {
    "ExecuteTime": {
     "end_time": "2019-07-30T14:00:57.624030Z",
     "start_time": "2019-07-30T14:00:57.306487Z"
    }
   },
   "outputs": [],
   "source": [
    "item_fac = pd.read_csv(\n",
    "    '../data/processed/item_factors_unstacked.csv', index_col='id')"
   ]
  },
  {
   "cell_type": "markdown",
   "metadata": {},
   "source": [
    "## Build Rankings Matrix"
   ]
  },
  {
   "cell_type": "code",
   "execution_count": 8,
   "metadata": {
    "ExecuteTime": {
     "end_time": "2019-07-30T14:02:25.853656Z",
     "start_time": "2019-07-30T14:00:58.987618Z"
    }
   },
   "outputs": [],
   "source": [
    "ALS_rankings_matrix = user_fac.to_numpy().dot(item_fac.T.to_numpy())"
   ]
  },
  {
   "cell_type": "code",
   "execution_count": 9,
   "metadata": {
    "ExecuteTime": {
     "end_time": "2019-07-30T14:02:26.016813Z",
     "start_time": "2019-07-30T14:02:25.934336Z"
    }
   },
   "outputs": [
    {
     "data": {
      "text/plain": [
       "(243658, 28755)"
      ]
     },
     "execution_count": 9,
     "metadata": {},
     "output_type": "execute_result"
    }
   ],
   "source": [
    "ALS_rankings_matrix.shape"
   ]
  },
  {
   "cell_type": "markdown",
   "metadata": {},
   "source": [
    "## Sample Users"
   ]
  },
  {
   "cell_type": "code",
   "execution_count": 10,
   "metadata": {
    "ExecuteTime": {
     "end_time": "2019-07-30T14:02:26.078119Z",
     "start_time": "2019-07-30T14:02:26.018867Z"
    }
   },
   "outputs": [],
   "source": [
    "idx = np.random.randint(0, 243658, size=1000)"
   ]
  },
  {
   "cell_type": "code",
   "execution_count": 11,
   "metadata": {
    "ExecuteTime": {
     "end_time": "2019-07-30T14:02:32.137996Z",
     "start_time": "2019-07-30T14:02:26.084639Z"
    }
   },
   "outputs": [],
   "source": [
    "sample_user_facs = user_fac.to_numpy()[idx, :]"
   ]
  },
  {
   "cell_type": "code",
   "execution_count": 12,
   "metadata": {
    "ExecuteTime": {
     "end_time": "2019-07-30T14:03:03.481254Z",
     "start_time": "2019-07-30T14:02:32.139236Z"
    }
   },
   "outputs": [],
   "source": [
    "sample = ALS_rankings_matrix[idx, :]"
   ]
  },
  {
   "cell_type": "code",
   "execution_count": 13,
   "metadata": {
    "ExecuteTime": {
     "end_time": "2019-07-30T14:03:03.528850Z",
     "start_time": "2019-07-30T14:03:03.482983Z"
    }
   },
   "outputs": [],
   "source": [
    "sample_df = pd.DataFrame(sample)"
   ]
  },
  {
   "cell_type": "code",
   "execution_count": 15,
   "metadata": {
    "ExecuteTime": {
     "end_time": "2019-07-30T14:03:03.631680Z",
     "start_time": "2019-07-30T14:03:03.627903Z"
    }
   },
   "outputs": [],
   "source": [
    "sample_df.columns = item_fac.index"
   ]
  },
  {
   "cell_type": "code",
   "execution_count": 17,
   "metadata": {
    "ExecuteTime": {
     "end_time": "2019-07-30T14:03:03.672352Z",
     "start_time": "2019-07-30T14:03:03.668820Z"
    }
   },
   "outputs": [],
   "source": [
    "sample_T = sample_df.T"
   ]
  },
  {
   "cell_type": "code",
   "execution_count": 19,
   "metadata": {
    "ExecuteTime": {
     "end_time": "2019-07-30T14:03:03.702684Z",
     "start_time": "2019-07-30T14:03:03.694320Z"
    }
   },
   "outputs": [],
   "source": [
    "sample_T.reset_index(inplace=True)"
   ]
  },
  {
   "cell_type": "markdown",
   "metadata": {},
   "source": [
    "## Filter for Most Rated Movies"
   ]
  },
  {
   "cell_type": "code",
   "execution_count": 21,
   "metadata": {
    "ExecuteTime": {
     "end_time": "2019-07-30T14:03:03.762026Z",
     "start_time": "2019-07-30T14:03:03.721697Z"
    }
   },
   "outputs": [],
   "source": [
    "most_rated = pd.read_csv(\n",
    "    '../data/processed/most_rated.csv', index_col='Unnamed: 0')"
   ]
  },
  {
   "cell_type": "code",
   "execution_count": 22,
   "metadata": {
    "ExecuteTime": {
     "end_time": "2019-07-30T14:03:03.776041Z",
     "start_time": "2019-07-30T14:03:03.763266Z"
    },
    "scrolled": true
   },
   "outputs": [
    {
     "data": {
      "text/html": [
       "<div>\n",
       "<style scoped>\n",
       "    .dataframe tbody tr th:only-of-type {\n",
       "        vertical-align: middle;\n",
       "    }\n",
       "\n",
       "    .dataframe tbody tr th {\n",
       "        vertical-align: top;\n",
       "    }\n",
       "\n",
       "    .dataframe thead th {\n",
       "        text-align: right;\n",
       "    }\n",
       "</style>\n",
       "<table border=\"1\" class=\"dataframe\">\n",
       "  <thead>\n",
       "    <tr style=\"text-align: right;\">\n",
       "      <th></th>\n",
       "      <th>movieId</th>\n",
       "      <th>title</th>\n",
       "      <th>genres</th>\n",
       "    </tr>\n",
       "  </thead>\n",
       "  <tbody>\n",
       "    <tr>\n",
       "      <th>0</th>\n",
       "      <td>171011</td>\n",
       "      <td>Planet Earth II (2016)</td>\n",
       "      <td>Documentary</td>\n",
       "    </tr>\n",
       "    <tr>\n",
       "      <th>1</th>\n",
       "      <td>159817</td>\n",
       "      <td>Planet Earth (2006)</td>\n",
       "      <td>Documentary</td>\n",
       "    </tr>\n",
       "    <tr>\n",
       "      <th>2</th>\n",
       "      <td>318</td>\n",
       "      <td>Shawshank Redemption, The (1994)</td>\n",
       "      <td>Crime|Drama</td>\n",
       "    </tr>\n",
       "    <tr>\n",
       "      <th>3</th>\n",
       "      <td>170705</td>\n",
       "      <td>Band of Brothers (2001)</td>\n",
       "      <td>Action|Drama|War</td>\n",
       "    </tr>\n",
       "    <tr>\n",
       "      <th>4</th>\n",
       "      <td>174053</td>\n",
       "      <td>Black Mirror: White Christmas (2014)</td>\n",
       "      <td>Drama|Horror|Mystery|Sci-Fi|Thriller</td>\n",
       "    </tr>\n",
       "    <tr>\n",
       "      <th>5</th>\n",
       "      <td>171495</td>\n",
       "      <td>Cosmos</td>\n",
       "      <td>(no genres listed)</td>\n",
       "    </tr>\n",
       "    <tr>\n",
       "      <th>6</th>\n",
       "      <td>172591</td>\n",
       "      <td>The Godfather Trilogy: 1972-1990 (1992)</td>\n",
       "      <td>(no genres listed)</td>\n",
       "    </tr>\n",
       "    <tr>\n",
       "      <th>7</th>\n",
       "      <td>858</td>\n",
       "      <td>Godfather, The (1972)</td>\n",
       "      <td>Crime|Drama</td>\n",
       "    </tr>\n",
       "    <tr>\n",
       "      <th>8</th>\n",
       "      <td>50</td>\n",
       "      <td>Usual Suspects, The (1995)</td>\n",
       "      <td>Crime|Mystery|Thriller</td>\n",
       "    </tr>\n",
       "    <tr>\n",
       "      <th>9</th>\n",
       "      <td>1221</td>\n",
       "      <td>Godfather: Part II, The (1974)</td>\n",
       "      <td>Crime|Drama</td>\n",
       "    </tr>\n",
       "    <tr>\n",
       "      <th>10</th>\n",
       "      <td>172577</td>\n",
       "      <td>Last Year's Snow Was Falling (1983)</td>\n",
       "      <td>Animation|Children|Comedy|Fantasy</td>\n",
       "    </tr>\n",
       "    <tr>\n",
       "      <th>11</th>\n",
       "      <td>527</td>\n",
       "      <td>Schindler's List (1993)</td>\n",
       "      <td>Drama|War</td>\n",
       "    </tr>\n",
       "    <tr>\n",
       "      <th>12</th>\n",
       "      <td>2019</td>\n",
       "      <td>Seven Samurai (Shichinin no samurai) (1954)</td>\n",
       "      <td>Action|Adventure|Drama</td>\n",
       "    </tr>\n",
       "    <tr>\n",
       "      <th>13</th>\n",
       "      <td>176601</td>\n",
       "      <td>Black Mirror</td>\n",
       "      <td>(no genres listed)</td>\n",
       "    </tr>\n",
       "    <tr>\n",
       "      <th>14</th>\n",
       "      <td>163809</td>\n",
       "      <td>Over the Garden Wall (2013)</td>\n",
       "      <td>Adventure|Animation|Drama</td>\n",
       "    </tr>\n",
       "    <tr>\n",
       "      <th>15</th>\n",
       "      <td>185135</td>\n",
       "      <td>Sherlock - A Study in Pink (2010)</td>\n",
       "      <td>Crime</td>\n",
       "    </tr>\n",
       "    <tr>\n",
       "      <th>16</th>\n",
       "      <td>179135</td>\n",
       "      <td>Blue Planet II (2017)</td>\n",
       "      <td>Documentary</td>\n",
       "    </tr>\n",
       "    <tr>\n",
       "      <th>17</th>\n",
       "      <td>1203</td>\n",
       "      <td>12 Angry Men (1957)</td>\n",
       "      <td>Drama</td>\n",
       "    </tr>\n",
       "    <tr>\n",
       "      <th>18</th>\n",
       "      <td>904</td>\n",
       "      <td>Rear Window (1954)</td>\n",
       "      <td>Mystery|Thriller</td>\n",
       "    </tr>\n",
       "    <tr>\n",
       "      <th>19</th>\n",
       "      <td>2959</td>\n",
       "      <td>Fight Club (1999)</td>\n",
       "      <td>Action|Crime|Drama|Thriller</td>\n",
       "    </tr>\n",
       "    <tr>\n",
       "      <th>20</th>\n",
       "      <td>1193</td>\n",
       "      <td>One Flew Over the Cuckoo's Nest (1975)</td>\n",
       "      <td>Drama</td>\n",
       "    </tr>\n",
       "    <tr>\n",
       "      <th>21</th>\n",
       "      <td>142115</td>\n",
       "      <td>The Blue Planet (2001)</td>\n",
       "      <td>Documentary</td>\n",
       "    </tr>\n",
       "    <tr>\n",
       "      <th>22</th>\n",
       "      <td>912</td>\n",
       "      <td>Casablanca (1942)</td>\n",
       "      <td>Drama|Romance</td>\n",
       "    </tr>\n",
       "    <tr>\n",
       "      <th>23</th>\n",
       "      <td>750</td>\n",
       "      <td>Dr. Strangelove or: How I Learned to Stop Worr...</td>\n",
       "      <td>Comedy|War</td>\n",
       "    </tr>\n",
       "    <tr>\n",
       "      <th>24</th>\n",
       "      <td>5618</td>\n",
       "      <td>Spirited Away (Sen to Chihiro no kamikakushi) ...</td>\n",
       "      <td>Adventure|Animation|Fantasy</td>\n",
       "    </tr>\n",
       "    <tr>\n",
       "      <th>25</th>\n",
       "      <td>1212</td>\n",
       "      <td>Third Man, The (1949)</td>\n",
       "      <td>Film-Noir|Mystery|Thriller</td>\n",
       "    </tr>\n",
       "    <tr>\n",
       "      <th>26</th>\n",
       "      <td>147250</td>\n",
       "      <td>The Adventures of Sherlock Holmes and Doctor W...</td>\n",
       "      <td>(no genres listed)</td>\n",
       "    </tr>\n",
       "    <tr>\n",
       "      <th>27</th>\n",
       "      <td>166024</td>\n",
       "      <td>Whiplash (2013)</td>\n",
       "      <td>(no genres listed)</td>\n",
       "    </tr>\n",
       "    <tr>\n",
       "      <th>28</th>\n",
       "      <td>1178</td>\n",
       "      <td>Paths of Glory (1957)</td>\n",
       "      <td>Drama|War</td>\n",
       "    </tr>\n",
       "    <tr>\n",
       "      <th>29</th>\n",
       "      <td>44555</td>\n",
       "      <td>Lives of Others, The (Das leben der Anderen) (...</td>\n",
       "      <td>Drama|Romance|Thriller</td>\n",
       "    </tr>\n",
       "    <tr>\n",
       "      <th>...</th>\n",
       "      <td>...</td>\n",
       "      <td>...</td>\n",
       "      <td>...</td>\n",
       "    </tr>\n",
       "    <tr>\n",
       "      <th>13223</th>\n",
       "      <td>89281</td>\n",
       "      <td>Birdemic: Shock and Terror (2010)</td>\n",
       "      <td>Romance|Thriller</td>\n",
       "    </tr>\n",
       "    <tr>\n",
       "      <th>13224</th>\n",
       "      <td>5356</td>\n",
       "      <td>Giant Spider Invasion, The (1975)</td>\n",
       "      <td>Horror|Sci-Fi</td>\n",
       "    </tr>\n",
       "    <tr>\n",
       "      <th>13225</th>\n",
       "      <td>8290</td>\n",
       "      <td>Mitchell (1975)</td>\n",
       "      <td>Action|Crime</td>\n",
       "    </tr>\n",
       "    <tr>\n",
       "      <th>13226</th>\n",
       "      <td>4125</td>\n",
       "      <td>Leonard Part 6 (1987)</td>\n",
       "      <td>Comedy|Sci-Fi</td>\n",
       "    </tr>\n",
       "    <tr>\n",
       "      <th>13227</th>\n",
       "      <td>4051</td>\n",
       "      <td>Horrors of Spider Island (Ein Toter Hing im Ne...</td>\n",
       "      <td>Horror|Sci-Fi</td>\n",
       "    </tr>\n",
       "    <tr>\n",
       "      <th>13228</th>\n",
       "      <td>31424</td>\n",
       "      <td>Alone in the Dark (2005)</td>\n",
       "      <td>Action|Horror|Sci-Fi|Thriller</td>\n",
       "    </tr>\n",
       "    <tr>\n",
       "      <th>13229</th>\n",
       "      <td>5700</td>\n",
       "      <td>The Pumaman (1980)</td>\n",
       "      <td>Action|Adventure|Fantasy|Sci-Fi</td>\n",
       "    </tr>\n",
       "    <tr>\n",
       "      <th>13230</th>\n",
       "      <td>3573</td>\n",
       "      <td>Carnosaur 2 (1995)</td>\n",
       "      <td>Horror|Sci-Fi</td>\n",
       "    </tr>\n",
       "    <tr>\n",
       "      <th>13231</th>\n",
       "      <td>50798</td>\n",
       "      <td>Epic Movie (2007)</td>\n",
       "      <td>Adventure|Comedy</td>\n",
       "    </tr>\n",
       "    <tr>\n",
       "      <th>13232</th>\n",
       "      <td>5672</td>\n",
       "      <td>Pokemon 4 Ever (a.k.a. Pokémon 4: The Movie) (...</td>\n",
       "      <td>Adventure|Animation|Children|Fantasy</td>\n",
       "    </tr>\n",
       "    <tr>\n",
       "      <th>13233</th>\n",
       "      <td>5736</td>\n",
       "      <td>Faces of Death 3 (1985)</td>\n",
       "      <td>Documentary|Horror</td>\n",
       "    </tr>\n",
       "    <tr>\n",
       "      <th>13234</th>\n",
       "      <td>5647</td>\n",
       "      <td>Ernest Goes to Africa (1997)</td>\n",
       "      <td>Comedy</td>\n",
       "    </tr>\n",
       "    <tr>\n",
       "      <th>13235</th>\n",
       "      <td>1990</td>\n",
       "      <td>Prom Night IV: Deliver Us From Evil (1992)</td>\n",
       "      <td>Horror</td>\n",
       "    </tr>\n",
       "    <tr>\n",
       "      <th>13236</th>\n",
       "      <td>1495</td>\n",
       "      <td>Turbo: A Power Rangers Movie (1997)</td>\n",
       "      <td>Action|Adventure|Children</td>\n",
       "    </tr>\n",
       "    <tr>\n",
       "      <th>13237</th>\n",
       "      <td>54290</td>\n",
       "      <td>Bratz: The Movie (2007)</td>\n",
       "      <td>Comedy</td>\n",
       "    </tr>\n",
       "    <tr>\n",
       "      <th>13238</th>\n",
       "      <td>5737</td>\n",
       "      <td>Faces of Death 4 (1990)</td>\n",
       "      <td>Documentary|Horror</td>\n",
       "    </tr>\n",
       "    <tr>\n",
       "      <th>13239</th>\n",
       "      <td>6371</td>\n",
       "      <td>Pokémon Heroes (2003)</td>\n",
       "      <td>Animation|Children</td>\n",
       "    </tr>\n",
       "    <tr>\n",
       "      <th>13240</th>\n",
       "      <td>5740</td>\n",
       "      <td>Faces of Death: Fact or Fiction? (1999)</td>\n",
       "      <td>Documentary|Horror</td>\n",
       "    </tr>\n",
       "    <tr>\n",
       "      <th>13241</th>\n",
       "      <td>6872</td>\n",
       "      <td>House of the Dead, The (2003)</td>\n",
       "      <td>Action|Horror</td>\n",
       "    </tr>\n",
       "    <tr>\n",
       "      <th>13242</th>\n",
       "      <td>3574</td>\n",
       "      <td>Carnosaur 3: Primal Species (1996)</td>\n",
       "      <td>Horror|Sci-Fi</td>\n",
       "    </tr>\n",
       "    <tr>\n",
       "      <th>13243</th>\n",
       "      <td>5738</td>\n",
       "      <td>Faces of Death 5 (1996)</td>\n",
       "      <td>Documentary|Horror</td>\n",
       "    </tr>\n",
       "    <tr>\n",
       "      <th>13244</th>\n",
       "      <td>61348</td>\n",
       "      <td>Disaster Movie (2008)</td>\n",
       "      <td>Comedy</td>\n",
       "    </tr>\n",
       "    <tr>\n",
       "      <th>13245</th>\n",
       "      <td>5739</td>\n",
       "      <td>Faces of Death 6 (1996)</td>\n",
       "      <td>Documentary|Horror</td>\n",
       "    </tr>\n",
       "    <tr>\n",
       "      <th>13246</th>\n",
       "      <td>31698</td>\n",
       "      <td>Son of the Mask (2005)</td>\n",
       "      <td>Adventure|Children|Comedy|Fantasy</td>\n",
       "    </tr>\n",
       "    <tr>\n",
       "      <th>13247</th>\n",
       "      <td>6587</td>\n",
       "      <td>Gigli (2003)</td>\n",
       "      <td>Comedy|Crime|Romance</td>\n",
       "    </tr>\n",
       "    <tr>\n",
       "      <th>13248</th>\n",
       "      <td>1826</td>\n",
       "      <td>Barney's Great Adventure (1998)</td>\n",
       "      <td>Adventure|Children</td>\n",
       "    </tr>\n",
       "    <tr>\n",
       "      <th>13249</th>\n",
       "      <td>4775</td>\n",
       "      <td>Glitter (2001)</td>\n",
       "      <td>Drama|Musical|Romance</td>\n",
       "    </tr>\n",
       "    <tr>\n",
       "      <th>13250</th>\n",
       "      <td>145096</td>\n",
       "      <td>Barbie &amp; Her Sisters in the Great Puppy Advent...</td>\n",
       "      <td>Animation</td>\n",
       "    </tr>\n",
       "    <tr>\n",
       "      <th>13251</th>\n",
       "      <td>6483</td>\n",
       "      <td>From Justin to Kelly (2003)</td>\n",
       "      <td>Musical|Romance</td>\n",
       "    </tr>\n",
       "    <tr>\n",
       "      <th>13252</th>\n",
       "      <td>8859</td>\n",
       "      <td>SuperBabies: Baby Geniuses 2 (2004)</td>\n",
       "      <td>Comedy</td>\n",
       "    </tr>\n",
       "  </tbody>\n",
       "</table>\n",
       "<p>13253 rows × 3 columns</p>\n",
       "</div>"
      ],
      "text/plain": [
       "       movieId                                              title  \\\n",
       "0       171011                             Planet Earth II (2016)   \n",
       "1       159817                                Planet Earth (2006)   \n",
       "2          318                   Shawshank Redemption, The (1994)   \n",
       "3       170705                            Band of Brothers (2001)   \n",
       "4       174053               Black Mirror: White Christmas (2014)   \n",
       "5       171495                                             Cosmos   \n",
       "6       172591            The Godfather Trilogy: 1972-1990 (1992)   \n",
       "7          858                              Godfather, The (1972)   \n",
       "8           50                         Usual Suspects, The (1995)   \n",
       "9         1221                     Godfather: Part II, The (1974)   \n",
       "10      172577                Last Year's Snow Was Falling (1983)   \n",
       "11         527                            Schindler's List (1993)   \n",
       "12        2019        Seven Samurai (Shichinin no samurai) (1954)   \n",
       "13      176601                                       Black Mirror   \n",
       "14      163809                        Over the Garden Wall (2013)   \n",
       "15      185135                  Sherlock - A Study in Pink (2010)   \n",
       "16      179135                              Blue Planet II (2017)   \n",
       "17        1203                                12 Angry Men (1957)   \n",
       "18         904                                 Rear Window (1954)   \n",
       "19        2959                                  Fight Club (1999)   \n",
       "20        1193             One Flew Over the Cuckoo's Nest (1975)   \n",
       "21      142115                             The Blue Planet (2001)   \n",
       "22         912                                  Casablanca (1942)   \n",
       "23         750  Dr. Strangelove or: How I Learned to Stop Worr...   \n",
       "24        5618  Spirited Away (Sen to Chihiro no kamikakushi) ...   \n",
       "25        1212                              Third Man, The (1949)   \n",
       "26      147250  The Adventures of Sherlock Holmes and Doctor W...   \n",
       "27      166024                                    Whiplash (2013)   \n",
       "28        1178                              Paths of Glory (1957)   \n",
       "29       44555  Lives of Others, The (Das leben der Anderen) (...   \n",
       "...        ...                                                ...   \n",
       "13223    89281                  Birdemic: Shock and Terror (2010)   \n",
       "13224     5356                  Giant Spider Invasion, The (1975)   \n",
       "13225     8290                                    Mitchell (1975)   \n",
       "13226     4125                              Leonard Part 6 (1987)   \n",
       "13227     4051  Horrors of Spider Island (Ein Toter Hing im Ne...   \n",
       "13228    31424                           Alone in the Dark (2005)   \n",
       "13229     5700                                 The Pumaman (1980)   \n",
       "13230     3573                                 Carnosaur 2 (1995)   \n",
       "13231    50798                                  Epic Movie (2007)   \n",
       "13232     5672  Pokemon 4 Ever (a.k.a. Pokémon 4: The Movie) (...   \n",
       "13233     5736                            Faces of Death 3 (1985)   \n",
       "13234     5647                       Ernest Goes to Africa (1997)   \n",
       "13235     1990         Prom Night IV: Deliver Us From Evil (1992)   \n",
       "13236     1495                Turbo: A Power Rangers Movie (1997)   \n",
       "13237    54290                            Bratz: The Movie (2007)   \n",
       "13238     5737                            Faces of Death 4 (1990)   \n",
       "13239     6371                              Pokémon Heroes (2003)   \n",
       "13240     5740            Faces of Death: Fact or Fiction? (1999)   \n",
       "13241     6872                      House of the Dead, The (2003)   \n",
       "13242     3574                 Carnosaur 3: Primal Species (1996)   \n",
       "13243     5738                            Faces of Death 5 (1996)   \n",
       "13244    61348                              Disaster Movie (2008)   \n",
       "13245     5739                            Faces of Death 6 (1996)   \n",
       "13246    31698                             Son of the Mask (2005)   \n",
       "13247     6587                                       Gigli (2003)   \n",
       "13248     1826                    Barney's Great Adventure (1998)   \n",
       "13249     4775                                     Glitter (2001)   \n",
       "13250   145096  Barbie & Her Sisters in the Great Puppy Advent...   \n",
       "13251     6483                        From Justin to Kelly (2003)   \n",
       "13252     8859                SuperBabies: Baby Geniuses 2 (2004)   \n",
       "\n",
       "                                     genres  \n",
       "0                               Documentary  \n",
       "1                               Documentary  \n",
       "2                               Crime|Drama  \n",
       "3                          Action|Drama|War  \n",
       "4      Drama|Horror|Mystery|Sci-Fi|Thriller  \n",
       "5                        (no genres listed)  \n",
       "6                        (no genres listed)  \n",
       "7                               Crime|Drama  \n",
       "8                    Crime|Mystery|Thriller  \n",
       "9                               Crime|Drama  \n",
       "10        Animation|Children|Comedy|Fantasy  \n",
       "11                                Drama|War  \n",
       "12                   Action|Adventure|Drama  \n",
       "13                       (no genres listed)  \n",
       "14                Adventure|Animation|Drama  \n",
       "15                                    Crime  \n",
       "16                              Documentary  \n",
       "17                                    Drama  \n",
       "18                         Mystery|Thriller  \n",
       "19              Action|Crime|Drama|Thriller  \n",
       "20                                    Drama  \n",
       "21                              Documentary  \n",
       "22                            Drama|Romance  \n",
       "23                               Comedy|War  \n",
       "24              Adventure|Animation|Fantasy  \n",
       "25               Film-Noir|Mystery|Thriller  \n",
       "26                       (no genres listed)  \n",
       "27                       (no genres listed)  \n",
       "28                                Drama|War  \n",
       "29                   Drama|Romance|Thriller  \n",
       "...                                     ...  \n",
       "13223                      Romance|Thriller  \n",
       "13224                         Horror|Sci-Fi  \n",
       "13225                          Action|Crime  \n",
       "13226                         Comedy|Sci-Fi  \n",
       "13227                         Horror|Sci-Fi  \n",
       "13228         Action|Horror|Sci-Fi|Thriller  \n",
       "13229       Action|Adventure|Fantasy|Sci-Fi  \n",
       "13230                         Horror|Sci-Fi  \n",
       "13231                      Adventure|Comedy  \n",
       "13232  Adventure|Animation|Children|Fantasy  \n",
       "13233                    Documentary|Horror  \n",
       "13234                                Comedy  \n",
       "13235                                Horror  \n",
       "13236             Action|Adventure|Children  \n",
       "13237                                Comedy  \n",
       "13238                    Documentary|Horror  \n",
       "13239                    Animation|Children  \n",
       "13240                    Documentary|Horror  \n",
       "13241                         Action|Horror  \n",
       "13242                         Horror|Sci-Fi  \n",
       "13243                    Documentary|Horror  \n",
       "13244                                Comedy  \n",
       "13245                    Documentary|Horror  \n",
       "13246     Adventure|Children|Comedy|Fantasy  \n",
       "13247                  Comedy|Crime|Romance  \n",
       "13248                    Adventure|Children  \n",
       "13249                 Drama|Musical|Romance  \n",
       "13250                             Animation  \n",
       "13251                       Musical|Romance  \n",
       "13252                                Comedy  \n",
       "\n",
       "[13253 rows x 3 columns]"
      ]
     },
     "execution_count": 22,
     "metadata": {},
     "output_type": "execute_result"
    }
   ],
   "source": [
    "most_rated"
   ]
  },
  {
   "cell_type": "code",
   "execution_count": 23,
   "metadata": {
    "ExecuteTime": {
     "end_time": "2019-07-30T14:03:03.867503Z",
     "start_time": "2019-07-30T14:03:03.777126Z"
    }
   },
   "outputs": [],
   "source": [
    "sample_redx = pd.merge(sample_T, most_rated, how='inner',\n",
    "                       left_on='id', right_on='movieId')"
   ]
  },
  {
   "cell_type": "code",
   "execution_count": 24,
   "metadata": {
    "ExecuteTime": {
     "end_time": "2019-07-30T14:03:03.871591Z",
     "start_time": "2019-07-30T14:03:03.868884Z"
    }
   },
   "outputs": [],
   "source": [
    "sample_redx.set_index('id', inplace=True)"
   ]
  },
  {
   "cell_type": "code",
   "execution_count": 25,
   "metadata": {
    "ExecuteTime": {
     "end_time": "2019-07-30T14:03:03.951724Z",
     "start_time": "2019-07-30T14:03:03.872829Z"
    }
   },
   "outputs": [],
   "source": [
    "sample_redx.drop(['movieId', 'title', 'genres'], axis=1, inplace=True)"
   ]
  },
  {
   "cell_type": "markdown",
   "metadata": {},
   "source": [
    "# Get ALS Top 100 for Sample"
   ]
  },
  {
   "cell_type": "code",
   "execution_count": 26,
   "metadata": {
    "ExecuteTime": {
     "end_time": "2019-07-30T14:03:14.417945Z",
     "start_time": "2019-07-30T14:03:12.373863Z"
    }
   },
   "outputs": [],
   "source": [
    "als_top_100s = []\n",
    "for idx, col in enumerate(sample_redx):\n",
    "    top_100 = sample_redx[col].sort_values(ascending=False).head(100)\n",
    "    top_100_df = pd.DataFrame(top_100)\n",
    "    top_100_df.reset_index(inplace=True)\n",
    "    als_top_100s.append(top_100_df)"
   ]
  },
  {
   "cell_type": "markdown",
   "metadata": {},
   "source": [
    "# Get Cluster Top 100 for Sample"
   ]
  },
  {
   "cell_type": "markdown",
   "metadata": {},
   "source": [
    "## Predict Users' Clusters"
   ]
  },
  {
   "cell_type": "code",
   "execution_count": 27,
   "metadata": {
    "ExecuteTime": {
     "end_time": "2019-07-30T14:03:14.854809Z",
     "start_time": "2019-07-30T14:03:14.419428Z"
    }
   },
   "outputs": [],
   "source": [
    "gbc = load('../models/fifp_classification.joblib')"
   ]
  },
  {
   "cell_type": "code",
   "execution_count": 28,
   "metadata": {
    "ExecuteTime": {
     "end_time": "2019-07-30T14:03:14.890687Z",
     "start_time": "2019-07-30T14:03:14.856483Z"
    }
   },
   "outputs": [],
   "source": [
    "preds = gbc.predict(sample_user_facs)"
   ]
  },
  {
   "cell_type": "markdown",
   "metadata": {},
   "source": [
    "## Get Cluster Centroid Ratings"
   ]
  },
  {
   "cell_type": "code",
   "execution_count": 29,
   "metadata": {
    "ExecuteTime": {
     "end_time": "2019-07-30T14:03:14.923619Z",
     "start_time": "2019-07-30T14:03:14.892523Z"
    }
   },
   "outputs": [],
   "source": [
    "centroids = pd.read_csv(\n",
    "    '../data/processed/centroids.csv', index_col='Unnamed: 0')\n",
    "centroid_ratings_T_df = cm.get_centroid_ratings(centroids, item_fac)"
   ]
  },
  {
   "cell_type": "code",
   "execution_count": 30,
   "metadata": {
    "ExecuteTime": {
     "end_time": "2019-07-30T14:03:14.929551Z",
     "start_time": "2019-07-30T14:03:14.925606Z"
    },
    "scrolled": true
   },
   "outputs": [],
   "source": [
    "centroid_ratings_T_df.reset_index(inplace=True)"
   ]
  },
  {
   "cell_type": "code",
   "execution_count": 31,
   "metadata": {
    "ExecuteTime": {
     "end_time": "2019-07-30T14:03:14.943497Z",
     "start_time": "2019-07-30T14:03:14.931667Z"
    }
   },
   "outputs": [],
   "source": [
    "centroid_ratings_redx = pd.merge(\n",
    "    centroid_ratings_T_df, most_rated, how='inner', left_on='id', right_on='movieId')"
   ]
  },
  {
   "cell_type": "code",
   "execution_count": 32,
   "metadata": {
    "ExecuteTime": {
     "end_time": "2019-07-30T14:03:14.949101Z",
     "start_time": "2019-07-30T14:03:14.945192Z"
    }
   },
   "outputs": [],
   "source": [
    "centroid_ratings_redx.set_index('id', inplace=True)"
   ]
  },
  {
   "cell_type": "code",
   "execution_count": 33,
   "metadata": {
    "ExecuteTime": {
     "end_time": "2019-07-30T14:03:14.956536Z",
     "start_time": "2019-07-30T14:03:14.951636Z"
    }
   },
   "outputs": [],
   "source": [
    "centroid_ratings_redx.drop(\n",
    "    ['movieId', 'title', 'genres'], axis=1, inplace=True)"
   ]
  },
  {
   "cell_type": "markdown",
   "metadata": {},
   "source": [
    "## Get Cluster Top 100"
   ]
  },
  {
   "cell_type": "code",
   "execution_count": 36,
   "metadata": {
    "ExecuteTime": {
     "end_time": "2019-07-30T14:03:21.260452Z",
     "start_time": "2019-07-30T14:03:18.882414Z"
    }
   },
   "outputs": [],
   "source": [
    "cluster_top_100s = []\n",
    "for cluster in preds:\n",
    "    top_100 = centroid_ratings_redx[cluster].sort_values(\n",
    "        ascending=False).head(100)\n",
    "    top_100_df = pd.DataFrame(top_100)\n",
    "    top_100_df.reset_index(inplace=True)\n",
    "    cluster_top_100s.append(top_100_df)"
   ]
  },
  {
   "cell_type": "markdown",
   "metadata": {},
   "source": [
    "# Evaluation: Proportion of Top 100 Movies Shared between the ALS recommendations and the User's Cluster Centroid"
   ]
  },
  {
   "cell_type": "code",
   "execution_count": 37,
   "metadata": {
    "ExecuteTime": {
     "end_time": "2019-07-30T14:03:23.798531Z",
     "start_time": "2019-07-30T14:03:23.638856Z"
    },
    "scrolled": true
   },
   "outputs": [],
   "source": [
    "proportions = []\n",
    "for i in range(len(cluster_top_100s)):\n",
    "    als_set = set(als_top_100s[i].iloc[:, 0])\n",
    "    cluster_set = set(cluster_top_100s[i].iloc[:, 0])\n",
    "    intersection = als_set.intersection(cluster_set)\n",
    "    n_in_common = len(intersection)\n",
    "    proportion_in_common = (n_in_common/100)\n",
    "    proportions.append(proportion_in_common)"
   ]
  },
  {
   "cell_type": "code",
   "execution_count": 38,
   "metadata": {
    "ExecuteTime": {
     "end_time": "2019-07-30T14:03:24.095885Z",
     "start_time": "2019-07-30T14:03:23.927264Z"
    }
   },
   "outputs": [
    {
     "data": {
      "image/png": "[encoded data removed]",
      "text/plain": [
       "<Figure size 432x288 with 1 Axes>"
      ]
     },
     "metadata": {
      "needs_background": "light"
     },
     "output_type": "display_data"
    }
   ],
   "source": [
    "plt.hist(proportions, bins=20)"
   ]
  },
  {
   "cell_type": "markdown",
   "metadata": {},
   "source": [
    "# Evaluation: Proportion of Top 100 Movies Shared between the ALS and Augmented Recommendations"
   ]
  },
  {
   "cell_type": "code",
   "execution_count": 39,
   "metadata": {
    "ExecuteTime": {
     "end_time": "2019-07-30T14:03:25.060063Z",
     "start_time": "2019-07-30T14:03:25.053828Z"
    }
   },
   "outputs": [],
   "source": [
    "cluster_distances = pd.read_csv(\n",
    "    '../data/processed/cluster_distances_df.csv', index_col='Unnamed: 0')"
   ]
  },
  {
   "cell_type": "code",
   "execution_count": 40,
   "metadata": {
    "ExecuteTime": {
     "end_time": "2019-07-30T14:03:25.413517Z",
     "start_time": "2019-07-30T14:03:25.402663Z"
    }
   },
   "outputs": [
    {
     "data": {
      "text/html": [
       "<div>\n",
       "<style scoped>\n",
       "    .dataframe tbody tr th:only-of-type {\n",
       "        vertical-align: middle;\n",
       "    }\n",
       "\n",
       "    .dataframe tbody tr th {\n",
       "        vertical-align: top;\n",
       "    }\n",
       "\n",
       "    .dataframe thead th {\n",
       "        text-align: right;\n",
       "    }\n",
       "</style>\n",
       "<table border=\"1\" class=\"dataframe\">\n",
       "  <thead>\n",
       "    <tr style=\"text-align: right;\">\n",
       "      <th></th>\n",
       "      <th>0</th>\n",
       "      <th>1</th>\n",
       "      <th>2</th>\n",
       "      <th>3</th>\n",
       "      <th>4</th>\n",
       "      <th>5</th>\n",
       "      <th>6</th>\n",
       "      <th>7</th>\n",
       "      <th>8</th>\n",
       "    </tr>\n",
       "  </thead>\n",
       "  <tbody>\n",
       "    <tr>\n",
       "      <th>0</th>\n",
       "      <td>0.000000</td>\n",
       "      <td>8.798096</td>\n",
       "      <td>9.716017</td>\n",
       "      <td>7.041225</td>\n",
       "      <td>6.007564</td>\n",
       "      <td>10.984834</td>\n",
       "      <td>5.646137</td>\n",
       "      <td>6.316699</td>\n",
       "      <td>6.183063</td>\n",
       "    </tr>\n",
       "    <tr>\n",
       "      <th>1</th>\n",
       "      <td>8.798096</td>\n",
       "      <td>0.000000</td>\n",
       "      <td>5.956857</td>\n",
       "      <td>6.540400</td>\n",
       "      <td>8.858469</td>\n",
       "      <td>4.575128</td>\n",
       "      <td>4.660669</td>\n",
       "      <td>4.302251</td>\n",
       "      <td>4.401584</td>\n",
       "    </tr>\n",
       "    <tr>\n",
       "      <th>2</th>\n",
       "      <td>9.716017</td>\n",
       "      <td>5.956857</td>\n",
       "      <td>0.000000</td>\n",
       "      <td>7.768660</td>\n",
       "      <td>6.161390</td>\n",
       "      <td>9.719417</td>\n",
       "      <td>5.783137</td>\n",
       "      <td>8.817718</td>\n",
       "      <td>5.600428</td>\n",
       "    </tr>\n",
       "    <tr>\n",
       "      <th>3</th>\n",
       "      <td>7.041225</td>\n",
       "      <td>6.540400</td>\n",
       "      <td>7.768660</td>\n",
       "      <td>0.000000</td>\n",
       "      <td>8.586475</td>\n",
       "      <td>7.407208</td>\n",
       "      <td>6.431559</td>\n",
       "      <td>6.280426</td>\n",
       "      <td>6.763831</td>\n",
       "    </tr>\n",
       "    <tr>\n",
       "      <th>4</th>\n",
       "      <td>6.007564</td>\n",
       "      <td>8.858469</td>\n",
       "      <td>6.161390</td>\n",
       "      <td>8.586475</td>\n",
       "      <td>0.000000</td>\n",
       "      <td>12.469241</td>\n",
       "      <td>6.062674</td>\n",
       "      <td>8.974924</td>\n",
       "      <td>5.407681</td>\n",
       "    </tr>\n",
       "  </tbody>\n",
       "</table>\n",
       "</div>"
      ],
      "text/plain": [
       "          0         1         2         3         4          5         6  \\\n",
       "0  0.000000  8.798096  9.716017  7.041225  6.007564  10.984834  5.646137   \n",
       "1  8.798096  0.000000  5.956857  6.540400  8.858469   4.575128  4.660669   \n",
       "2  9.716017  5.956857  0.000000  7.768660  6.161390   9.719417  5.783137   \n",
       "3  7.041225  6.540400  7.768660  0.000000  8.586475   7.407208  6.431559   \n",
       "4  6.007564  8.858469  6.161390  8.586475  0.000000  12.469241  6.062674   \n",
       "\n",
       "          7         8  \n",
       "0  6.316699  6.183063  \n",
       "1  4.302251  4.401584  \n",
       "2  8.817718  5.600428  \n",
       "3  6.280426  6.763831  \n",
       "4  8.974924  5.407681  "
      ]
     },
     "execution_count": 40,
     "metadata": {},
     "output_type": "execute_result"
    }
   ],
   "source": [
    "cluster_distances.head()"
   ]
  },
  {
   "cell_type": "code",
   "execution_count": 41,
   "metadata": {
    "ExecuteTime": {
     "end_time": "2019-07-30T14:03:25.800001Z",
     "start_time": "2019-07-30T14:03:25.795279Z"
    }
   },
   "outputs": [
    {
     "data": {
      "text/plain": [
       "array([6, 1])"
      ]
     },
     "execution_count": 41,
     "metadata": {},
     "output_type": "execute_result"
    }
   ],
   "source": [
    "cm.get_nearest_clusters(cluster_distances, '8')"
   ]
  },
  {
   "cell_type": "code",
   "execution_count": 42,
   "metadata": {
    "ExecuteTime": {
     "end_time": "2019-07-30T14:03:27.133917Z",
     "start_time": "2019-07-30T14:03:26.408090Z"
    }
   },
   "outputs": [],
   "source": [
    "proportions = []\n",
    "for i in range(len(cluster_top_100s)):\n",
    "    j = preds[i]\n",
    "    nearest_clusters = cm.get_nearest_clusters(\n",
    "        cluster_distances, '{}'.format(j))\n",
    "    cluster1 = nearest_clusters[0]\n",
    "    cluster2 = nearest_clusters[1]\n",
    "    als_set = set(als_top_100s[i].iloc[:, 0])\n",
    "    cluster1_set = set(cluster_top_100s[cluster1].iloc[:, 0])\n",
    "    cluster2_set = set(cluster_top_100s[cluster2].iloc[:, 0])\n",
    "    cluster_full = cluster1_set.union(cluster2_set)\n",
    "    intersection = als_set.intersection(cluster_full)\n",
    "    n_in_common = len(intersection)\n",
    "    proportion_in_common = (n_in_common/100)\n",
    "    proportions.append(proportion_in_common)"
   ]
  },
  {
   "cell_type": "code",
   "execution_count": 43,
   "metadata": {
    "ExecuteTime": {
     "end_time": "2019-07-30T14:03:27.306124Z",
     "start_time": "2019-07-30T14:03:27.135371Z"
    }
   },
   "outputs": [
    {
     "data": {
      "image/png": "[encoded data removed]",
      "text/plain": [
       "<Figure size 432x288 with 1 Axes>"
      ]
     },
     "metadata": {
      "needs_background": "light"
     },
     "output_type": "display_data"
    }
   ],
   "source": [
    "plt.hist(proportions, bins=20)"
   ]
  },
  {
   "cell_type": "markdown",
   "metadata": {},
   "source": [
    "# Evaluation: Distances Between ALS Recommended Movies and Nearest Cluster Recommended Movies"
   ]
  },
  {
   "cell_type": "markdown",
   "metadata": {},
   "source": [
    "        - Calculate a distance matrix for the movies\n",
    "        - Compare the distances between the movies in the ALS recommendation and the movies in the augmented recommendation (between group variation)\n",
    "            - Shows that the within group distances are small, and\n",
    "            - Shows that the between group distances are larger\n"
   ]
  },
  {
   "cell_type": "code",
   "execution_count": 44,
   "metadata": {
    "ExecuteTime": {
     "end_time": "2019-07-30T14:06:33.496703Z",
     "start_time": "2019-07-30T14:03:29.510315Z"
    }
   },
   "outputs": [],
   "source": [
    "movie_distances = cm.get_cluster_distances(item_fac)"
   ]
  },
  {
   "cell_type": "code",
   "execution_count": 75,
   "metadata": {
    "ExecuteTime": {
     "end_time": "2019-07-30T16:52:41.143081Z",
     "start_time": "2019-07-30T16:52:41.140699Z"
    }
   },
   "outputs": [],
   "source": [
    "movie_distances.columns = item_fac.index"
   ]
  },
  {
   "cell_type": "code",
   "execution_count": 77,
   "metadata": {
    "ExecuteTime": {
     "end_time": "2019-07-30T16:53:16.346374Z",
     "start_time": "2019-07-30T16:53:16.344132Z"
    }
   },
   "outputs": [],
   "source": [
    "movie_distances.index = item_fac.index"
   ]
  },
  {
   "cell_type": "code",
   "execution_count": 86,
   "metadata": {
    "ExecuteTime": {
     "end_time": "2019-07-30T16:54:33.299871Z",
     "start_time": "2019-07-30T16:54:33.278780Z"
    }
   },
   "outputs": [
    {
     "data": {
      "text/html": [
       "<div>\n",
       "<style scoped>\n",
       "    .dataframe tbody tr th:only-of-type {\n",
       "        vertical-align: middle;\n",
       "    }\n",
       "\n",
       "    .dataframe tbody tr th {\n",
       "        vertical-align: top;\n",
       "    }\n",
       "\n",
       "    .dataframe thead th {\n",
       "        text-align: right;\n",
       "    }\n",
       "</style>\n",
       "<table border=\"1\" class=\"dataframe\">\n",
       "  <thead>\n",
       "    <tr style=\"text-align: right;\">\n",
       "      <th>id</th>\n",
       "      <th>1</th>\n",
       "      <th>2</th>\n",
       "      <th>3</th>\n",
       "      <th>4</th>\n",
       "      <th>5</th>\n",
       "      <th>6</th>\n",
       "      <th>7</th>\n",
       "      <th>8</th>\n",
       "      <th>9</th>\n",
       "      <th>10</th>\n",
       "      <th>...</th>\n",
       "      <th>192431</th>\n",
       "      <th>192491</th>\n",
       "      <th>192551</th>\n",
       "      <th>192559</th>\n",
       "      <th>192579</th>\n",
       "      <th>192697</th>\n",
       "      <th>192777</th>\n",
       "      <th>192849</th>\n",
       "      <th>193185</th>\n",
       "      <th>193243</th>\n",
       "    </tr>\n",
       "    <tr>\n",
       "      <th>id</th>\n",
       "      <th></th>\n",
       "      <th></th>\n",
       "      <th></th>\n",
       "      <th></th>\n",
       "      <th></th>\n",
       "      <th></th>\n",
       "      <th></th>\n",
       "      <th></th>\n",
       "      <th></th>\n",
       "      <th></th>\n",
       "      <th></th>\n",
       "      <th></th>\n",
       "      <th></th>\n",
       "      <th></th>\n",
       "      <th></th>\n",
       "      <th></th>\n",
       "      <th></th>\n",
       "      <th></th>\n",
       "      <th></th>\n",
       "      <th></th>\n",
       "      <th></th>\n",
       "    </tr>\n",
       "  </thead>\n",
       "  <tbody>\n",
       "    <tr>\n",
       "      <th>1</th>\n",
       "      <td>0.000000</td>\n",
       "      <td>0.659943</td>\n",
       "      <td>0.794709</td>\n",
       "      <td>0.912989</td>\n",
       "      <td>0.884246</td>\n",
       "      <td>0.641788</td>\n",
       "      <td>0.677227</td>\n",
       "      <td>0.910320</td>\n",
       "      <td>1.059156</td>\n",
       "      <td>0.593580</td>\n",
       "      <td>...</td>\n",
       "      <td>1.741641</td>\n",
       "      <td>1.167652</td>\n",
       "      <td>0.901712</td>\n",
       "      <td>0.925019</td>\n",
       "      <td>1.360799</td>\n",
       "      <td>0.930302</td>\n",
       "      <td>1.148112</td>\n",
       "      <td>1.063131</td>\n",
       "      <td>2.075248</td>\n",
       "      <td>1.072819</td>\n",
       "    </tr>\n",
       "    <tr>\n",
       "      <th>2</th>\n",
       "      <td>0.659943</td>\n",
       "      <td>0.000000</td>\n",
       "      <td>0.261255</td>\n",
       "      <td>0.501278</td>\n",
       "      <td>0.393101</td>\n",
       "      <td>0.806566</td>\n",
       "      <td>0.417505</td>\n",
       "      <td>0.320245</td>\n",
       "      <td>0.460419</td>\n",
       "      <td>0.363693</td>\n",
       "      <td>...</td>\n",
       "      <td>1.626498</td>\n",
       "      <td>1.065402</td>\n",
       "      <td>0.552738</td>\n",
       "      <td>0.540987</td>\n",
       "      <td>0.929445</td>\n",
       "      <td>0.941761</td>\n",
       "      <td>1.096010</td>\n",
       "      <td>1.400469</td>\n",
       "      <td>2.142091</td>\n",
       "      <td>1.152650</td>\n",
       "    </tr>\n",
       "    <tr>\n",
       "      <th>3</th>\n",
       "      <td>0.794709</td>\n",
       "      <td>0.261255</td>\n",
       "      <td>0.000000</td>\n",
       "      <td>0.514890</td>\n",
       "      <td>0.277194</td>\n",
       "      <td>0.923487</td>\n",
       "      <td>0.480939</td>\n",
       "      <td>0.337013</td>\n",
       "      <td>0.388294</td>\n",
       "      <td>0.495208</td>\n",
       "      <td>...</td>\n",
       "      <td>1.686322</td>\n",
       "      <td>1.107492</td>\n",
       "      <td>0.705466</td>\n",
       "      <td>0.532303</td>\n",
       "      <td>0.926745</td>\n",
       "      <td>1.044446</td>\n",
       "      <td>1.137636</td>\n",
       "      <td>1.529964</td>\n",
       "      <td>2.237847</td>\n",
       "      <td>1.269069</td>\n",
       "    </tr>\n",
       "    <tr>\n",
       "      <th>4</th>\n",
       "      <td>0.912989</td>\n",
       "      <td>0.501278</td>\n",
       "      <td>0.514890</td>\n",
       "      <td>0.000000</td>\n",
       "      <td>0.390038</td>\n",
       "      <td>1.077467</td>\n",
       "      <td>0.434188</td>\n",
       "      <td>0.360389</td>\n",
       "      <td>0.698028</td>\n",
       "      <td>0.794689</td>\n",
       "      <td>...</td>\n",
       "      <td>1.295143</td>\n",
       "      <td>0.830129</td>\n",
       "      <td>0.848943</td>\n",
       "      <td>0.607086</td>\n",
       "      <td>1.172898</td>\n",
       "      <td>1.032247</td>\n",
       "      <td>0.863496</td>\n",
       "      <td>1.461704</td>\n",
       "      <td>2.209252</td>\n",
       "      <td>1.151558</td>\n",
       "    </tr>\n",
       "    <tr>\n",
       "      <th>5</th>\n",
       "      <td>0.884246</td>\n",
       "      <td>0.393101</td>\n",
       "      <td>0.277194</td>\n",
       "      <td>0.390038</td>\n",
       "      <td>0.000000</td>\n",
       "      <td>1.105320</td>\n",
       "      <td>0.379351</td>\n",
       "      <td>0.266087</td>\n",
       "      <td>0.558770</td>\n",
       "      <td>0.700429</td>\n",
       "      <td>...</td>\n",
       "      <td>1.483250</td>\n",
       "      <td>1.063782</td>\n",
       "      <td>0.848526</td>\n",
       "      <td>0.453636</td>\n",
       "      <td>1.120805</td>\n",
       "      <td>1.183639</td>\n",
       "      <td>1.111560</td>\n",
       "      <td>1.644614</td>\n",
       "      <td>2.377836</td>\n",
       "      <td>1.156615</td>\n",
       "    </tr>\n",
       "  </tbody>\n",
       "</table>\n",
       "<p>5 rows × 28755 columns</p>\n",
       "</div>"
      ],
      "text/plain": [
       "id    1         2         3         4         5         6         7       \\\n",
       "id                                                                         \n",
       "1   0.000000  0.659943  0.794709  0.912989  0.884246  0.641788  0.677227   \n",
       "2   0.659943  0.000000  0.261255  0.501278  0.393101  0.806566  0.417505   \n",
       "3   0.794709  0.261255  0.000000  0.514890  0.277194  0.923487  0.480939   \n",
       "4   0.912989  0.501278  0.514890  0.000000  0.390038  1.077467  0.434188   \n",
       "5   0.884246  0.393101  0.277194  0.390038  0.000000  1.105320  0.379351   \n",
       "\n",
       "id    8         9         10      ...    192431    192491    192551    192559  \\\n",
       "id                                ...                                           \n",
       "1   0.910320  1.059156  0.593580  ...  1.741641  1.167652  0.901712  0.925019   \n",
       "2   0.320245  0.460419  0.363693  ...  1.626498  1.065402  0.552738  0.540987   \n",
       "3   0.337013  0.388294  0.495208  ...  1.686322  1.107492  0.705466  0.532303   \n",
       "4   0.360389  0.698028  0.794689  ...  1.295143  0.830129  0.848943  0.607086   \n",
       "5   0.266087  0.558770  0.700429  ...  1.483250  1.063782  0.848526  0.453636   \n",
       "\n",
       "id    192579    192697    192777    192849    193185    193243  \n",
       "id                                                              \n",
       "1   1.360799  0.930302  1.148112  1.063131  2.075248  1.072819  \n",
       "2   0.929445  0.941761  1.096010  1.400469  2.142091  1.152650  \n",
       "3   0.926745  1.044446  1.137636  1.529964  2.237847  1.269069  \n",
       "4   1.172898  1.032247  0.863496  1.461704  2.209252  1.151558  \n",
       "5   1.120805  1.183639  1.111560  1.644614  2.377836  1.156615  \n",
       "\n",
       "[5 rows x 28755 columns]"
      ]
     },
     "execution_count": 86,
     "metadata": {},
     "output_type": "execute_result"
    }
   ],
   "source": [
    "movie_distances.head()"
   ]
  },
  {
   "cell_type": "code",
   "execution_count": 120,
   "metadata": {
    "ExecuteTime": {
     "end_time": "2019-07-30T18:01:02.157699Z",
     "start_time": "2019-07-30T18:01:01.481948Z"
    }
   },
   "outputs": [],
   "source": [
    "nearest_clusters_top = []\n",
    "for i in range(len(cluster_top_100s)):\n",
    "    j = preds[i]\n",
    "    nearest_clusters = cm.get_nearest_clusters(\n",
    "        cluster_distances, '{}'.format(j))\n",
    "    cluster1 = nearest_clusters[0]\n",
    "    cluster2 = nearest_clusters[1]\n",
    "    cluster1_set = set(cluster_top_100s[cluster1].iloc[:, 0])\n",
    "    cluster2_set = set(cluster_top_100s[cluster2].iloc[:, 0])\n",
    "    cluster_full_set = cluster1_set.union(cluster2_set)\n",
    "    cluster_full_list = list(cluster_full_set)\n",
    "    nearest_clusters_top.append(cluster_full_list)"
   ]
  },
  {
   "cell_type": "code",
   "execution_count": 114,
   "metadata": {
    "ExecuteTime": {
     "end_time": "2019-07-30T17:29:50.114962Z",
     "start_time": "2019-07-30T17:28:22.106206Z"
    }
   },
   "outputs": [],
   "source": [
    "MSS_distances_within = []\n",
    "for i in range(len(als_top_100s)):\n",
    "    within_distances = []\n",
    "    for j in als_top_100s[i].iloc[:, 0]:\n",
    "        for k in als_top_100s[i].iloc[:, 0]:\n",
    "            if j == k:\n",
    "                pass\n",
    "            else:\n",
    "                within_distances.append(movie_distances[j][k])\n",
    "    sq_within_distances = [x**2 for x in within_distances]\n",
    "    MSS_distances = np.mean(sq_within_distances)\n",
    "    MSS_distances_within.append(MSS_distances)"
   ]
  },
  {
   "cell_type": "code",
   "execution_count": 127,
   "metadata": {
    "ExecuteTime": {
     "end_time": "2019-07-30T18:05:20.525228Z",
     "start_time": "2019-07-30T18:03:10.228455Z"
    }
   },
   "outputs": [],
   "source": [
    "MSS_distances_between = []\n",
    "for i in range(len(als_top_100s)):\n",
    "    between_distances = []\n",
    "    for j in als_top_100s[i].iloc[:, 0]:\n",
    "        for k in nearest_clusters_top[i]:\n",
    "            between_distances.append(movie_distances[j][k])\n",
    "    sq_between_distances = [x**2 for x in between_distances]\n",
    "    MSS_distances = np.mean(sq_between_distances)\n",
    "    MSS_distances_between.append(MSS_distances)"
   ]
  },
  {
   "cell_type": "code",
   "execution_count": 128,
   "metadata": {
    "ExecuteTime": {
     "end_time": "2019-07-30T18:07:24.507958Z",
     "start_time": "2019-07-30T18:07:24.501101Z"
    }
   },
   "outputs": [
    {
     "data": {
      "text/plain": [
       "Ttest_indResult(statistic=-66.19551095638982, pvalue=0.0)"
      ]
     },
     "execution_count": 128,
     "metadata": {},
     "output_type": "execute_result"
    }
   ],
   "source": [
    "stats.ttest_ind(MSS_distances_within, MSS_distances_between, equal_var=False)"
   ]
  },
  {
   "cell_type": "markdown",
   "metadata": {},
   "source": [
    "# Evaluation: Difference in Distances Between ALS Recommended Movies and Nearest Cluster Recommended Movies and the Distances Between ALS Recommended Movies and Furthest Cluster Recommended Movies"
   ]
  },
  {
   "cell_type": "markdown",
   "metadata": {},
   "source": [
    "        - Compare the distances between the ALS and augmented recommendations to the distances between the ALS and most distant movies.\n",
    "            - Shows that augmented recommendations are closer to ALS recommendations than the most distant movies\n",
    "\n"
   ]
  },
  {
   "cell_type": "code",
   "execution_count": 118,
   "metadata": {
    "ExecuteTime": {
     "end_time": "2019-07-30T17:54:29.861538Z",
     "start_time": "2019-07-30T17:54:29.853904Z"
    }
   },
   "outputs": [],
   "source": [
    "def get_furthest_clusters(cluster_distance_df, cluster):\n",
    "    \"\"\"Returns the ID of the two clusters furthest from the specified cluster.\n",
    "    Parameters\n",
    "    ----------\n",
    "    cluster_distance_df : dataframe\n",
    "        A dataframe containing the distances between\n",
    "        each pair of clusters.\n",
    "    cluster: integer\n",
    "        An integer indicating the ID of the cluster for which\n",
    "        the nearest clusters are being identified.\"\"\"\n",
    "    sorted_distances = cluster_distance_df[cluster].sort_values(\n",
    "        ascending=False)\n",
    "    two_nearest_clusters = sorted_distances[0:2].index.values.astype(int)\n",
    "    return two_nearest_clusters"
   ]
  },
  {
   "cell_type": "code",
   "execution_count": 129,
   "metadata": {
    "ExecuteTime": {
     "end_time": "2019-07-30T18:12:52.237539Z",
     "start_time": "2019-07-30T18:12:51.545522Z"
    },
    "scrolled": true
   },
   "outputs": [],
   "source": [
    "furthest_clusters_top = []\n",
    "for i in range(len(cluster_top_100s)):\n",
    "    j = preds[i]\n",
    "    nearest_clusters = get_furthest_clusters(cluster_distances, '{}'.format(j))\n",
    "    cluster1 = nearest_clusters[0]\n",
    "    cluster2 = nearest_clusters[1]\n",
    "    cluster1_set = set(cluster_top_100s[cluster1].iloc[:, 0])\n",
    "    cluster2_set = set(cluster_top_100s[cluster2].iloc[:, 0])\n",
    "    cluster_full_set = cluster1_set.union(cluster2_set)\n",
    "    cluster_full_list = list(cluster_full_set)\n",
    "    furthest_clusters_top.append(cluster_full_list)"
   ]
  },
  {
   "cell_type": "code",
   "execution_count": 132,
   "metadata": {
    "ExecuteTime": {
     "end_time": "2019-07-30T18:17:14.008346Z",
     "start_time": "2019-07-30T18:15:01.591035Z"
    }
   },
   "outputs": [],
   "source": [
    "MSS_distances_between_furthest = []\n",
    "for i in range(len(als_top_100s)):\n",
    "    within_distances = []\n",
    "    for j in als_top_100s[i].iloc[:, 0]:\n",
    "        for k in furthest_clusters_top[i]:\n",
    "            within_distances.append(movie_distances[j][k])\n",
    "    sq_within_distances = [x**2 for x in within_distances]\n",
    "    MSS_distances = np.mean(sq_within_distances)\n",
    "    MSS_distances_between_furthest.append(MSS_distances)"
   ]
  },
  {
   "cell_type": "code",
   "execution_count": 139,
   "metadata": {
    "ExecuteTime": {
     "end_time": "2019-07-30T18:21:32.559432Z",
     "start_time": "2019-07-30T18:21:32.556572Z"
    }
   },
   "outputs": [],
   "source": [
    "within_between_differences = np.subtract(\n",
    "    MSS_distances_between, MSS_distances_within)\n",
    "within_furthest_differences = np.subtract(\n",
    "    MSS_distances_between_furthest, MSS_distances_within)"
   ]
  },
  {
   "cell_type": "code",
   "execution_count": 140,
   "metadata": {
    "ExecuteTime": {
     "end_time": "2019-07-30T18:21:34.083492Z",
     "start_time": "2019-07-30T18:21:34.079347Z"
    }
   },
   "outputs": [
    {
     "data": {
      "text/plain": [
       "Ttest_indResult(statistic=-5.516741793081464, pvalue=3.907336572476676e-08)"
      ]
     },
     "execution_count": 140,
     "metadata": {},
     "output_type": "execute_result"
    }
   ],
   "source": [
    "stats.ttest_ind(within_between_differences,\n",
    "                within_furthest_differences, equal_var=False)"
   ]
  },
  {
   "cell_type": "markdown",
   "metadata": {},
   "source": [
    "# Next Steps"
   ]
  },
  {
   "cell_type": "markdown",
   "metadata": {},
   "source": [
    "Change from a system where recommendations are made by cluster centroid to an average rating system."
   ]
  }
 ],
 "metadata": {
  "kernelspec": {
   "display_name": "Python 3",
   "language": "python",
   "name": "python3"
  },
  "language_info": {
   "codemirror_mode": {
    "name": "ipython",
    "version": 3
   },
   "file_extension": ".py",
   "mimetype": "text/x-python",
   "name": "python",
   "nbconvert_exporter": "python",
   "pygments_lexer": "ipython3",
   "version": "3.7.3"
  },
  "toc": {
   "base_numbering": 1,
   "nav_menu": {},
   "number_sections": true,
   "sideBar": true,
   "skip_h1_title": false,
   "title_cell": "Table of Contents",
   "title_sidebar": "Contents",
   "toc_cell": false,
   "toc_position": {},
   "toc_section_display": true,
   "toc_window_display": false
  }
 },
 "nbformat": 4,
 "nbformat_minor": 2
}
