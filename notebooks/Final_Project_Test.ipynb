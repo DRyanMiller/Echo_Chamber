{
 "cells": [
  {
   "cell_type": "markdown",
   "metadata": {},
   "source": [
    "# Import Packages and Data"
   ]
  },
  {
   "cell_type": "code",
   "execution_count": 37,
   "metadata": {
    "ExecuteTime": {
     "end_time": "2019-07-26T17:11:08.286868Z",
     "start_time": "2019-07-26T17:11:08.282636Z"
    }
   },
   "outputs": [],
   "source": [
    "# import necessary libraries\n",
    "import numpy as np\n",
    "import pandas as pd\n",
    "from scipy.spatial import distance_matrix\n",
    "from pyspark.sql import SparkSession\n",
    "from pyspark.ml.evaluation import RegressionEvaluator\n",
    "from pyspark.ml.recommendation import ALS\n",
    "from pyspark.ml.tuning import CrossValidator, ParamGridBuilder, CrossValidatorModel\n",
    "from sklearn.model_selection import GridSearchCV\n",
    "from pyspark.sql.functions import explode\n",
    "from sklearn.neighbors import KNeighborsClassifier\n",
    "from sklearn.model_selection import train_test_split\n",
    "from sklearn.metrics import accuracy_score\n",
    "from sklearn.preprocessing import StandardScaler"
   ]
  },
  {
   "cell_type": "code",
   "execution_count": 7,
   "metadata": {
    "ExecuteTime": {
     "end_time": "2019-07-26T17:09:11.522491Z",
     "start_time": "2019-07-26T17:09:07.861974Z"
    }
   },
   "outputs": [],
   "source": [
    "# instantiate SparkSession object\n",
    "spark = SparkSession\\\n",
    "        .builder\\\n",
    "        .appName(\"ALSExample\").config(\"spark.driver.host\",\"localhost\")\\\n",
    "        .getOrCreate()"
   ]
  },
  {
   "cell_type": "code",
   "execution_count": 8,
   "metadata": {
    "ExecuteTime": {
     "end_time": "2019-07-26T17:09:15.588448Z",
     "start_time": "2019-07-26T17:09:11.524248Z"
    }
   },
   "outputs": [],
   "source": [
    "# read in the dataset into pyspark DataFrame\n",
    "movie_ratings = spark.read.csv('../data/test_data/ratings.csv', header='true', inferSchema = 'true')\n"
   ]
  },
  {
   "cell_type": "code",
   "execution_count": 9,
   "metadata": {
    "ExecuteTime": {
     "end_time": "2019-07-26T17:09:15.608441Z",
     "start_time": "2019-07-26T17:09:15.589988Z"
    }
   },
   "outputs": [],
   "source": [
    "movie_ratings = movie_ratings.drop('timestamp')\n"
   ]
  },
  {
   "cell_type": "markdown",
   "metadata": {},
   "source": [
    "# Grid Search Optimal Hyperparameters with Cross Validation"
   ]
  },
  {
   "cell_type": "code",
   "execution_count": 10,
   "metadata": {
    "ExecuteTime": {
     "end_time": "2019-07-26T17:09:29.329727Z",
     "start_time": "2019-07-26T17:09:29.238266Z"
    }
   },
   "outputs": [],
   "source": [
    "als_model =  ALS(userCol=\"userId\", itemCol=\"movieId\", ratingCol=\"rating\", coldStartStrategy=\"drop\")\n",
    "               \n",
    "params = ParamGridBuilder().addGrid(als_model.regParam, [0.15]).addGrid(als_model.rank, [42]).build()\n",
    "evaluator = RegressionEvaluator(metricName=\"rmse\", labelCol=\"rating\",\n",
    "                                predictionCol=\"prediction\")"
   ]
  },
  {
   "cell_type": "code",
   "execution_count": 11,
   "metadata": {
    "ExecuteTime": {
     "end_time": "2019-07-26T17:09:54.136664Z",
     "start_time": "2019-07-26T17:09:30.696300Z"
    },
    "scrolled": true
   },
   "outputs": [],
   "source": [
    "## instantiating crossvalidator estimator\n",
    "cv = CrossValidator(estimator=als_model, estimatorParamMaps=params,evaluator=evaluator,parallelism=4)\n",
    "best_model = cv.fit(movie_ratings)    "
   ]
  },
  {
   "cell_type": "code",
   "execution_count": 12,
   "metadata": {
    "ExecuteTime": {
     "end_time": "2019-07-26T17:09:59.070369Z",
     "start_time": "2019-07-26T17:09:54.139440Z"
    },
    "scrolled": true
   },
   "outputs": [
    {
     "name": "stdout",
     "output_type": "stream",
     "text": [
      "Root-mean-square error = 0.6320086196369294\n"
     ]
    }
   ],
   "source": [
    "predictions = best_model.transform(movie_ratings)\n",
    "rmse = evaluator.evaluate(predictions)\n",
    "print(\"Root-mean-square error = \" + str(rmse))"
   ]
  },
  {
   "cell_type": "code",
   "execution_count": 13,
   "metadata": {
    "ExecuteTime": {
     "end_time": "2019-07-26T17:09:59.076367Z",
     "start_time": "2019-07-26T17:09:59.072288Z"
    }
   },
   "outputs": [
    {
     "data": {
      "text/plain": [
       "42"
      ]
     },
     "execution_count": 13,
     "metadata": {},
     "output_type": "execute_result"
    }
   ],
   "source": [
    "rank = best_model.bestModel.rank\n",
    "rank"
   ]
  },
  {
   "cell_type": "code",
   "execution_count": 14,
   "metadata": {
    "ExecuteTime": {
     "end_time": "2019-07-26T17:09:59.082495Z",
     "start_time": "2019-07-26T17:09:59.078510Z"
    }
   },
   "outputs": [
    {
     "data": {
      "text/plain": [
       "[{Param(parent='ALS_c6848777955f', name='regParam', doc='regularization parameter (>= 0).'): 0.15,\n",
       "  Param(parent='ALS_c6848777955f', name='rank', doc='rank of the factorization'): 42}]"
      ]
     },
     "execution_count": 14,
     "metadata": {},
     "output_type": "execute_result"
    }
   ],
   "source": [
    "best_model.getEstimatorParamMaps()"
   ]
  },
  {
   "cell_type": "code",
   "execution_count": 15,
   "metadata": {
    "ExecuteTime": {
     "end_time": "2019-07-26T17:09:59.089926Z",
     "start_time": "2019-07-26T17:09:59.085135Z"
    }
   },
   "outputs": [
    {
     "data": {
      "text/plain": [
       "[0.8851824225214353]"
      ]
     },
     "execution_count": 15,
     "metadata": {},
     "output_type": "execute_result"
    }
   ],
   "source": [
    "best_model.avgMetrics"
   ]
  },
  {
   "cell_type": "markdown",
   "metadata": {},
   "source": [
    "# Run Model with full data using parameters from grid search"
   ]
  },
  {
   "cell_type": "code",
   "execution_count": 16,
   "metadata": {
    "ExecuteTime": {
     "end_time": "2019-07-26T17:10:01.641987Z",
     "start_time": "2019-07-26T17:10:01.620905Z"
    },
    "scrolled": true
   },
   "outputs": [],
   "source": [
    "user_factors = best_model.bestModel.userFactors\n",
    "recommendationsDF = (user_factors\n",
    "  .select(\"id\", explode(\"features\")\n",
    "  .alias(\"features\"))\n",
    "  .select('id',\"features\")\n",
    ")"
   ]
  },
  {
   "cell_type": "code",
   "execution_count": 17,
   "metadata": {
    "ExecuteTime": {
     "end_time": "2019-07-26T17:10:02.031909Z",
     "start_time": "2019-07-26T17:10:01.728295Z"
    }
   },
   "outputs": [
    {
     "data": {
      "text/html": [
       "<div>\n",
       "<style scoped>\n",
       "    .dataframe tbody tr th:only-of-type {\n",
       "        vertical-align: middle;\n",
       "    }\n",
       "\n",
       "    .dataframe tbody tr th {\n",
       "        vertical-align: top;\n",
       "    }\n",
       "\n",
       "    .dataframe thead th {\n",
       "        text-align: right;\n",
       "    }\n",
       "</style>\n",
       "<table border=\"1\" class=\"dataframe\">\n",
       "  <thead>\n",
       "    <tr style=\"text-align: right;\">\n",
       "      <th></th>\n",
       "      <th>id</th>\n",
       "      <th>features</th>\n",
       "    </tr>\n",
       "  </thead>\n",
       "  <tbody>\n",
       "    <tr>\n",
       "      <th>0</th>\n",
       "      <td>10</td>\n",
       "      <td>0.244014</td>\n",
       "    </tr>\n",
       "    <tr>\n",
       "      <th>1</th>\n",
       "      <td>10</td>\n",
       "      <td>0.338341</td>\n",
       "    </tr>\n",
       "    <tr>\n",
       "      <th>2</th>\n",
       "      <td>10</td>\n",
       "      <td>0.429974</td>\n",
       "    </tr>\n",
       "    <tr>\n",
       "      <th>3</th>\n",
       "      <td>10</td>\n",
       "      <td>-0.139013</td>\n",
       "    </tr>\n",
       "    <tr>\n",
       "      <th>4</th>\n",
       "      <td>10</td>\n",
       "      <td>-0.633768</td>\n",
       "    </tr>\n",
       "  </tbody>\n",
       "</table>\n",
       "</div>"
      ],
      "text/plain": [
       "   id  features\n",
       "0  10  0.244014\n",
       "1  10  0.338341\n",
       "2  10  0.429974\n",
       "3  10 -0.139013\n",
       "4  10 -0.633768"
      ]
     },
     "execution_count": 17,
     "metadata": {},
     "output_type": "execute_result"
    }
   ],
   "source": [
    "rec_pdf = recommendationsDF.toPandas()\n",
    "rec_pdf.head()"
   ]
  },
  {
   "cell_type": "code",
   "execution_count": 18,
   "metadata": {
    "ExecuteTime": {
     "end_time": "2019-07-26T17:10:02.670694Z",
     "start_time": "2019-07-26T17:10:02.664644Z"
    }
   },
   "outputs": [],
   "source": [
    "multiplier = rec_pdf['id'].nunique()\n",
    "feature_array = np.array(list(range(1,rank+1))*multiplier)\n",
    "rec_pdf['value'] = feature_array"
   ]
  },
  {
   "cell_type": "code",
   "execution_count": 19,
   "metadata": {
    "ExecuteTime": {
     "end_time": "2019-07-26T17:10:04.823535Z",
     "start_time": "2019-07-26T17:10:04.809934Z"
    }
   },
   "outputs": [],
   "source": [
    "rec_pdf_unstacked = rec_pdf.pivot(index='id', columns='value', values='features')"
   ]
  },
  {
   "cell_type": "code",
   "execution_count": 20,
   "metadata": {
    "ExecuteTime": {
     "end_time": "2019-07-26T17:10:05.063877Z",
     "start_time": "2019-07-26T17:10:05.044203Z"
    },
    "scrolled": true
   },
   "outputs": [
    {
     "data": {
      "text/html": [
       "<div>\n",
       "<style scoped>\n",
       "    .dataframe tbody tr th:only-of-type {\n",
       "        vertical-align: middle;\n",
       "    }\n",
       "\n",
       "    .dataframe tbody tr th {\n",
       "        vertical-align: top;\n",
       "    }\n",
       "\n",
       "    .dataframe thead th {\n",
       "        text-align: right;\n",
       "    }\n",
       "</style>\n",
       "<table border=\"1\" class=\"dataframe\">\n",
       "  <thead>\n",
       "    <tr style=\"text-align: right;\">\n",
       "      <th>value</th>\n",
       "      <th>1</th>\n",
       "      <th>2</th>\n",
       "      <th>3</th>\n",
       "      <th>4</th>\n",
       "      <th>5</th>\n",
       "      <th>6</th>\n",
       "      <th>7</th>\n",
       "      <th>8</th>\n",
       "      <th>9</th>\n",
       "      <th>10</th>\n",
       "      <th>...</th>\n",
       "      <th>33</th>\n",
       "      <th>34</th>\n",
       "      <th>35</th>\n",
       "      <th>36</th>\n",
       "      <th>37</th>\n",
       "      <th>38</th>\n",
       "      <th>39</th>\n",
       "      <th>40</th>\n",
       "      <th>41</th>\n",
       "      <th>42</th>\n",
       "    </tr>\n",
       "    <tr>\n",
       "      <th>id</th>\n",
       "      <th></th>\n",
       "      <th></th>\n",
       "      <th></th>\n",
       "      <th></th>\n",
       "      <th></th>\n",
       "      <th></th>\n",
       "      <th></th>\n",
       "      <th></th>\n",
       "      <th></th>\n",
       "      <th></th>\n",
       "      <th></th>\n",
       "      <th></th>\n",
       "      <th></th>\n",
       "      <th></th>\n",
       "      <th></th>\n",
       "      <th></th>\n",
       "      <th></th>\n",
       "      <th></th>\n",
       "      <th></th>\n",
       "      <th></th>\n",
       "      <th></th>\n",
       "    </tr>\n",
       "  </thead>\n",
       "  <tbody>\n",
       "    <tr>\n",
       "      <th>1</th>\n",
       "      <td>-0.225631</td>\n",
       "      <td>0.462445</td>\n",
       "      <td>0.244483</td>\n",
       "      <td>0.384418</td>\n",
       "      <td>-0.588707</td>\n",
       "      <td>0.111337</td>\n",
       "      <td>-0.232193</td>\n",
       "      <td>0.379394</td>\n",
       "      <td>-0.420569</td>\n",
       "      <td>0.376861</td>\n",
       "      <td>...</td>\n",
       "      <td>-0.448069</td>\n",
       "      <td>-0.122033</td>\n",
       "      <td>0.086638</td>\n",
       "      <td>-0.233508</td>\n",
       "      <td>-0.258614</td>\n",
       "      <td>-0.357465</td>\n",
       "      <td>0.025196</td>\n",
       "      <td>-0.388289</td>\n",
       "      <td>-0.525960</td>\n",
       "      <td>0.825885</td>\n",
       "    </tr>\n",
       "    <tr>\n",
       "      <th>2</th>\n",
       "      <td>-0.554159</td>\n",
       "      <td>0.213009</td>\n",
       "      <td>0.091612</td>\n",
       "      <td>0.225468</td>\n",
       "      <td>-0.434699</td>\n",
       "      <td>0.078257</td>\n",
       "      <td>-0.003110</td>\n",
       "      <td>0.245150</td>\n",
       "      <td>-0.398504</td>\n",
       "      <td>0.419588</td>\n",
       "      <td>...</td>\n",
       "      <td>-0.458860</td>\n",
       "      <td>-0.017984</td>\n",
       "      <td>-0.113895</td>\n",
       "      <td>0.147946</td>\n",
       "      <td>-0.386267</td>\n",
       "      <td>-0.253858</td>\n",
       "      <td>0.065193</td>\n",
       "      <td>-0.415113</td>\n",
       "      <td>-0.489709</td>\n",
       "      <td>0.535756</td>\n",
       "    </tr>\n",
       "    <tr>\n",
       "      <th>3</th>\n",
       "      <td>-0.550588</td>\n",
       "      <td>0.514188</td>\n",
       "      <td>-0.220600</td>\n",
       "      <td>0.006631</td>\n",
       "      <td>0.346615</td>\n",
       "      <td>0.194606</td>\n",
       "      <td>-0.051847</td>\n",
       "      <td>0.259825</td>\n",
       "      <td>0.195242</td>\n",
       "      <td>0.703040</td>\n",
       "      <td>...</td>\n",
       "      <td>-0.018918</td>\n",
       "      <td>0.269123</td>\n",
       "      <td>0.085465</td>\n",
       "      <td>0.093329</td>\n",
       "      <td>-0.287493</td>\n",
       "      <td>0.336695</td>\n",
       "      <td>-0.026440</td>\n",
       "      <td>0.067900</td>\n",
       "      <td>0.503551</td>\n",
       "      <td>0.466589</td>\n",
       "    </tr>\n",
       "    <tr>\n",
       "      <th>4</th>\n",
       "      <td>-0.139539</td>\n",
       "      <td>0.171325</td>\n",
       "      <td>-0.139473</td>\n",
       "      <td>0.121135</td>\n",
       "      <td>-0.862326</td>\n",
       "      <td>-0.069822</td>\n",
       "      <td>0.230150</td>\n",
       "      <td>0.519130</td>\n",
       "      <td>-0.235499</td>\n",
       "      <td>0.067366</td>\n",
       "      <td>...</td>\n",
       "      <td>-0.278693</td>\n",
       "      <td>0.175860</td>\n",
       "      <td>0.404359</td>\n",
       "      <td>-0.228848</td>\n",
       "      <td>0.040090</td>\n",
       "      <td>-0.289818</td>\n",
       "      <td>0.390717</td>\n",
       "      <td>-0.440118</td>\n",
       "      <td>-0.357919</td>\n",
       "      <td>0.634323</td>\n",
       "    </tr>\n",
       "    <tr>\n",
       "      <th>5</th>\n",
       "      <td>-0.282128</td>\n",
       "      <td>0.201916</td>\n",
       "      <td>0.229932</td>\n",
       "      <td>0.357938</td>\n",
       "      <td>-0.620102</td>\n",
       "      <td>-0.083303</td>\n",
       "      <td>-0.081967</td>\n",
       "      <td>0.147528</td>\n",
       "      <td>-0.412045</td>\n",
       "      <td>0.078472</td>\n",
       "      <td>...</td>\n",
       "      <td>-0.132362</td>\n",
       "      <td>-0.074574</td>\n",
       "      <td>0.166623</td>\n",
       "      <td>-0.236418</td>\n",
       "      <td>-0.051419</td>\n",
       "      <td>-0.474656</td>\n",
       "      <td>0.150248</td>\n",
       "      <td>-0.403191</td>\n",
       "      <td>-0.367464</td>\n",
       "      <td>0.776689</td>\n",
       "    </tr>\n",
       "  </tbody>\n",
       "</table>\n",
       "<p>5 rows × 42 columns</p>\n",
       "</div>"
      ],
      "text/plain": [
       "value        1         2         3         4         5         6         7   \\\n",
       "id                                                                            \n",
       "1     -0.225631  0.462445  0.244483  0.384418 -0.588707  0.111337 -0.232193   \n",
       "2     -0.554159  0.213009  0.091612  0.225468 -0.434699  0.078257 -0.003110   \n",
       "3     -0.550588  0.514188 -0.220600  0.006631  0.346615  0.194606 -0.051847   \n",
       "4     -0.139539  0.171325 -0.139473  0.121135 -0.862326 -0.069822  0.230150   \n",
       "5     -0.282128  0.201916  0.229932  0.357938 -0.620102 -0.083303 -0.081967   \n",
       "\n",
       "value        8         9         10  ...        33        34        35  \\\n",
       "id                                   ...                                 \n",
       "1      0.379394 -0.420569  0.376861  ... -0.448069 -0.122033  0.086638   \n",
       "2      0.245150 -0.398504  0.419588  ... -0.458860 -0.017984 -0.113895   \n",
       "3      0.259825  0.195242  0.703040  ... -0.018918  0.269123  0.085465   \n",
       "4      0.519130 -0.235499  0.067366  ... -0.278693  0.175860  0.404359   \n",
       "5      0.147528 -0.412045  0.078472  ... -0.132362 -0.074574  0.166623   \n",
       "\n",
       "value        36        37        38        39        40        41        42  \n",
       "id                                                                           \n",
       "1     -0.233508 -0.258614 -0.357465  0.025196 -0.388289 -0.525960  0.825885  \n",
       "2      0.147946 -0.386267 -0.253858  0.065193 -0.415113 -0.489709  0.535756  \n",
       "3      0.093329 -0.287493  0.336695 -0.026440  0.067900  0.503551  0.466589  \n",
       "4     -0.228848  0.040090 -0.289818  0.390717 -0.440118 -0.357919  0.634323  \n",
       "5     -0.236418 -0.051419 -0.474656  0.150248 -0.403191 -0.367464  0.776689  \n",
       "\n",
       "[5 rows x 42 columns]"
      ]
     },
     "execution_count": 20,
     "metadata": {},
     "output_type": "execute_result"
    }
   ],
   "source": [
    "rec_pdf_unstacked.head()"
   ]
  },
  {
   "cell_type": "markdown",
   "metadata": {},
   "source": [
    "# Hierarchical Agglomerative Cluster Analysis"
   ]
  },
  {
   "cell_type": "code",
   "execution_count": 21,
   "metadata": {
    "ExecuteTime": {
     "end_time": "2019-07-26T17:10:07.861402Z",
     "start_time": "2019-07-26T17:10:07.845197Z"
    }
   },
   "outputs": [
    {
     "name": "stderr",
     "output_type": "stream",
     "text": [
      "/anaconda3/envs/FI_final_project/lib/python3.7/site-packages/sklearn/preprocessing/data.py:645: DataConversionWarning: Data with input dtype float32 were all converted to float64 by StandardScaler.\n",
      "  return self.partial_fit(X, y)\n",
      "/anaconda3/envs/FI_final_project/lib/python3.7/site-packages/sklearn/base.py:464: DataConversionWarning: Data with input dtype float32 were all converted to float64 by StandardScaler.\n",
      "  return self.fit(X, **fit_params).transform(X)\n"
     ]
    }
   ],
   "source": [
    "scaler = StandardScaler()\n",
    "rec_pdf_scaled = scaler.fit_transform(rec_pdf_unstacked)"
   ]
  },
  {
   "cell_type": "code",
   "execution_count": 22,
   "metadata": {
    "ExecuteTime": {
     "end_time": "2019-07-26T17:10:08.704028Z",
     "start_time": "2019-07-26T17:10:08.188301Z"
    }
   },
   "outputs": [
    {
     "data": {
      "image/png": "[encoded data removed]",
      "text/plain": [
       "<Figure size 432x288 with 1 Axes>"
      ]
     },
     "metadata": {
      "needs_background": "light"
     },
     "output_type": "display_data"
    }
   ],
   "source": [
    "from scipy.cluster.hierarchy import dendrogram, linkage\n",
    "from scipy.cluster.hierarchy import cophenet\n",
    "from scipy.spatial.distance import pdist\n",
    "import matplotlib.pyplot as plt\n",
    "%matplotlib inline\n",
    "\n",
    "z = linkage(rec_pdf_scaled, 'ward', metric = 'euclidean') # Ward linkage used to produce tightly knit clusters\n",
    "c, coph_dist = cophenet(z, pdist(rec_pdf_scaled))\n",
    "dendrogram(z,\n",
    "          leaf_rotation=90,\n",
    "          leaf_font_size = 8.,\n",
    "          truncate_mode='lastp',\n",
    "          p=50)\n",
    "plt.show()"
   ]
  },
  {
   "cell_type": "code",
   "execution_count": 23,
   "metadata": {
    "ExecuteTime": {
     "end_time": "2019-07-26T17:10:09.311195Z",
     "start_time": "2019-07-26T17:10:09.309159Z"
    }
   },
   "outputs": [],
   "source": [
    "# coph_dist.sort()\n",
    "# set(coph_dist)"
   ]
  },
  {
   "cell_type": "code",
   "execution_count": 24,
   "metadata": {
    "ExecuteTime": {
     "end_time": "2019-07-26T17:10:10.247770Z",
     "start_time": "2019-07-26T17:10:10.136889Z"
    }
   },
   "outputs": [],
   "source": [
    "from sklearn.cluster import AgglomerativeClustering\n",
    "from sklearn.neighbors import KernelDensity\n",
    "rec_pdf_clustered = pd.DataFrame(rec_pdf_scaled.copy())\n",
    "cluster = AgglomerativeClustering(n_clusters=9, \n",
    "                                 affinity='euclidean',\n",
    "                                 linkage='ward')\n",
    "rec_pdf_clustered['cluster'] = cluster.fit_predict(rec_pdf_clustered)"
   ]
  },
  {
   "cell_type": "code",
   "execution_count": 25,
   "metadata": {
    "ExecuteTime": {
     "end_time": "2019-07-26T17:10:10.872876Z",
     "start_time": "2019-07-26T17:10:10.740086Z"
    }
   },
   "outputs": [
    {
     "data": {
      "text/html": [
       "<div>\n",
       "<style scoped>\n",
       "    .dataframe tbody tr th:only-of-type {\n",
       "        vertical-align: middle;\n",
       "    }\n",
       "\n",
       "    .dataframe tbody tr th {\n",
       "        vertical-align: top;\n",
       "    }\n",
       "\n",
       "    .dataframe thead tr th {\n",
       "        text-align: left;\n",
       "    }\n",
       "\n",
       "    .dataframe thead tr:last-of-type th {\n",
       "        text-align: right;\n",
       "    }\n",
       "</style>\n",
       "<table border=\"1\" class=\"dataframe\">\n",
       "  <thead>\n",
       "    <tr>\n",
       "      <th></th>\n",
       "      <th colspan=\"3\" halign=\"left\">0</th>\n",
       "      <th colspan=\"3\" halign=\"left\">1</th>\n",
       "      <th colspan=\"3\" halign=\"left\">2</th>\n",
       "      <th>3</th>\n",
       "      <th>...</th>\n",
       "      <th>38</th>\n",
       "      <th colspan=\"3\" halign=\"left\">39</th>\n",
       "      <th colspan=\"3\" halign=\"left\">40</th>\n",
       "      <th colspan=\"3\" halign=\"left\">41</th>\n",
       "    </tr>\n",
       "    <tr>\n",
       "      <th></th>\n",
       "      <th>mean</th>\n",
       "      <th>std</th>\n",
       "      <th>count</th>\n",
       "      <th>mean</th>\n",
       "      <th>std</th>\n",
       "      <th>count</th>\n",
       "      <th>mean</th>\n",
       "      <th>std</th>\n",
       "      <th>count</th>\n",
       "      <th>mean</th>\n",
       "      <th>...</th>\n",
       "      <th>count</th>\n",
       "      <th>mean</th>\n",
       "      <th>std</th>\n",
       "      <th>count</th>\n",
       "      <th>mean</th>\n",
       "      <th>std</th>\n",
       "      <th>count</th>\n",
       "      <th>mean</th>\n",
       "      <th>std</th>\n",
       "      <th>count</th>\n",
       "    </tr>\n",
       "    <tr>\n",
       "      <th>cluster</th>\n",
       "      <th></th>\n",
       "      <th></th>\n",
       "      <th></th>\n",
       "      <th></th>\n",
       "      <th></th>\n",
       "      <th></th>\n",
       "      <th></th>\n",
       "      <th></th>\n",
       "      <th></th>\n",
       "      <th></th>\n",
       "      <th></th>\n",
       "      <th></th>\n",
       "      <th></th>\n",
       "      <th></th>\n",
       "      <th></th>\n",
       "      <th></th>\n",
       "      <th></th>\n",
       "      <th></th>\n",
       "      <th></th>\n",
       "      <th></th>\n",
       "      <th></th>\n",
       "    </tr>\n",
       "  </thead>\n",
       "  <tbody>\n",
       "    <tr>\n",
       "      <th>0</th>\n",
       "      <td>0.678533</td>\n",
       "      <td>0.973334</td>\n",
       "      <td>102</td>\n",
       "      <td>-0.182310</td>\n",
       "      <td>0.965189</td>\n",
       "      <td>102</td>\n",
       "      <td>0.771391</td>\n",
       "      <td>1.008826</td>\n",
       "      <td>102</td>\n",
       "      <td>-0.852345</td>\n",
       "      <td>...</td>\n",
       "      <td>102</td>\n",
       "      <td>-0.884309</td>\n",
       "      <td>0.733259</td>\n",
       "      <td>102</td>\n",
       "      <td>0.135654</td>\n",
       "      <td>0.831044</td>\n",
       "      <td>102</td>\n",
       "      <td>0.391714</td>\n",
       "      <td>1.161711</td>\n",
       "      <td>102</td>\n",
       "    </tr>\n",
       "    <tr>\n",
       "      <th>1</th>\n",
       "      <td>-0.378230</td>\n",
       "      <td>0.912340</td>\n",
       "      <td>75</td>\n",
       "      <td>0.020675</td>\n",
       "      <td>1.072841</td>\n",
       "      <td>75</td>\n",
       "      <td>-0.214250</td>\n",
       "      <td>0.840022</td>\n",
       "      <td>75</td>\n",
       "      <td>0.098960</td>\n",
       "      <td>...</td>\n",
       "      <td>75</td>\n",
       "      <td>0.361537</td>\n",
       "      <td>0.846311</td>\n",
       "      <td>75</td>\n",
       "      <td>-0.358411</td>\n",
       "      <td>0.916200</td>\n",
       "      <td>75</td>\n",
       "      <td>-0.086113</td>\n",
       "      <td>0.954587</td>\n",
       "      <td>75</td>\n",
       "    </tr>\n",
       "    <tr>\n",
       "      <th>2</th>\n",
       "      <td>-0.606212</td>\n",
       "      <td>1.002973</td>\n",
       "      <td>86</td>\n",
       "      <td>-0.180809</td>\n",
       "      <td>0.921225</td>\n",
       "      <td>86</td>\n",
       "      <td>-0.833119</td>\n",
       "      <td>0.994710</td>\n",
       "      <td>86</td>\n",
       "      <td>1.011638</td>\n",
       "      <td>...</td>\n",
       "      <td>86</td>\n",
       "      <td>0.603213</td>\n",
       "      <td>1.038705</td>\n",
       "      <td>86</td>\n",
       "      <td>-0.261284</td>\n",
       "      <td>0.956281</td>\n",
       "      <td>86</td>\n",
       "      <td>-0.191337</td>\n",
       "      <td>0.942444</td>\n",
       "      <td>86</td>\n",
       "    </tr>\n",
       "    <tr>\n",
       "      <th>3</th>\n",
       "      <td>-0.251855</td>\n",
       "      <td>1.886497</td>\n",
       "      <td>8</td>\n",
       "      <td>-2.044336</td>\n",
       "      <td>1.735499</td>\n",
       "      <td>8</td>\n",
       "      <td>0.212743</td>\n",
       "      <td>1.195875</td>\n",
       "      <td>8</td>\n",
       "      <td>0.665928</td>\n",
       "      <td>...</td>\n",
       "      <td>8</td>\n",
       "      <td>-0.291830</td>\n",
       "      <td>2.024785</td>\n",
       "      <td>8</td>\n",
       "      <td>-1.186200</td>\n",
       "      <td>1.911108</td>\n",
       "      <td>8</td>\n",
       "      <td>-0.049219</td>\n",
       "      <td>1.603565</td>\n",
       "      <td>8</td>\n",
       "    </tr>\n",
       "    <tr>\n",
       "      <th>4</th>\n",
       "      <td>-0.192859</td>\n",
       "      <td>0.692659</td>\n",
       "      <td>142</td>\n",
       "      <td>0.356676</td>\n",
       "      <td>0.897501</td>\n",
       "      <td>142</td>\n",
       "      <td>0.179291</td>\n",
       "      <td>0.685943</td>\n",
       "      <td>142</td>\n",
       "      <td>-0.213840</td>\n",
       "      <td>...</td>\n",
       "      <td>142</td>\n",
       "      <td>0.083504</td>\n",
       "      <td>0.662410</td>\n",
       "      <td>142</td>\n",
       "      <td>-0.137349</td>\n",
       "      <td>0.713828</td>\n",
       "      <td>142</td>\n",
       "      <td>-0.223174</td>\n",
       "      <td>0.770884</td>\n",
       "      <td>142</td>\n",
       "    </tr>\n",
       "    <tr>\n",
       "      <th>5</th>\n",
       "      <td>0.176282</td>\n",
       "      <td>0.699820</td>\n",
       "      <td>143</td>\n",
       "      <td>-0.232379</td>\n",
       "      <td>0.748251</td>\n",
       "      <td>143</td>\n",
       "      <td>-0.117578</td>\n",
       "      <td>0.826928</td>\n",
       "      <td>143</td>\n",
       "      <td>0.317102</td>\n",
       "      <td>...</td>\n",
       "      <td>143</td>\n",
       "      <td>-0.030164</td>\n",
       "      <td>0.743885</td>\n",
       "      <td>143</td>\n",
       "      <td>-0.046868</td>\n",
       "      <td>0.764037</td>\n",
       "      <td>143</td>\n",
       "      <td>0.206326</td>\n",
       "      <td>0.792331</td>\n",
       "      <td>143</td>\n",
       "    </tr>\n",
       "    <tr>\n",
       "      <th>6</th>\n",
       "      <td>0.095128</td>\n",
       "      <td>1.284007</td>\n",
       "      <td>12</td>\n",
       "      <td>1.143967</td>\n",
       "      <td>0.875248</td>\n",
       "      <td>12</td>\n",
       "      <td>-0.059000</td>\n",
       "      <td>0.822685</td>\n",
       "      <td>12</td>\n",
       "      <td>-0.296915</td>\n",
       "      <td>...</td>\n",
       "      <td>12</td>\n",
       "      <td>1.886715</td>\n",
       "      <td>1.209819</td>\n",
       "      <td>12</td>\n",
       "      <td>0.723857</td>\n",
       "      <td>1.507980</td>\n",
       "      <td>12</td>\n",
       "      <td>-1.448602</td>\n",
       "      <td>1.726856</td>\n",
       "      <td>12</td>\n",
       "    </tr>\n",
       "    <tr>\n",
       "      <th>7</th>\n",
       "      <td>0.106911</td>\n",
       "      <td>1.322703</td>\n",
       "      <td>20</td>\n",
       "      <td>0.473188</td>\n",
       "      <td>1.243007</td>\n",
       "      <td>20</td>\n",
       "      <td>-0.503315</td>\n",
       "      <td>1.177929</td>\n",
       "      <td>20</td>\n",
       "      <td>-0.370869</td>\n",
       "      <td>...</td>\n",
       "      <td>20</td>\n",
       "      <td>0.227681</td>\n",
       "      <td>1.045690</td>\n",
       "      <td>20</td>\n",
       "      <td>1.596983</td>\n",
       "      <td>1.457763</td>\n",
       "      <td>20</td>\n",
       "      <td>0.089758</td>\n",
       "      <td>0.887584</td>\n",
       "      <td>20</td>\n",
       "    </tr>\n",
       "    <tr>\n",
       "      <th>8</th>\n",
       "      <td>0.554715</td>\n",
       "      <td>1.497574</td>\n",
       "      <td>22</td>\n",
       "      <td>0.379094</td>\n",
       "      <td>0.922101</td>\n",
       "      <td>22</td>\n",
       "      <td>0.430080</td>\n",
       "      <td>1.062710</td>\n",
       "      <td>22</td>\n",
       "      <td>-0.764141</td>\n",
       "      <td>...</td>\n",
       "      <td>22</td>\n",
       "      <td>-0.963441</td>\n",
       "      <td>0.929154</td>\n",
       "      <td>22</td>\n",
       "      <td>1.390174</td>\n",
       "      <td>1.052404</td>\n",
       "      <td>22</td>\n",
       "      <td>0.051205</td>\n",
       "      <td>1.274698</td>\n",
       "      <td>22</td>\n",
       "    </tr>\n",
       "  </tbody>\n",
       "</table>\n",
       "<p>9 rows × 126 columns</p>\n",
       "</div>"
      ],
      "text/plain": [
       "               0                         1                         2   \\\n",
       "             mean       std count      mean       std count      mean   \n",
       "cluster                                                                 \n",
       "0        0.678533  0.973334   102 -0.182310  0.965189   102  0.771391   \n",
       "1       -0.378230  0.912340    75  0.020675  1.072841    75 -0.214250   \n",
       "2       -0.606212  1.002973    86 -0.180809  0.921225    86 -0.833119   \n",
       "3       -0.251855  1.886497     8 -2.044336  1.735499     8  0.212743   \n",
       "4       -0.192859  0.692659   142  0.356676  0.897501   142  0.179291   \n",
       "5        0.176282  0.699820   143 -0.232379  0.748251   143 -0.117578   \n",
       "6        0.095128  1.284007    12  1.143967  0.875248    12 -0.059000   \n",
       "7        0.106911  1.322703    20  0.473188  1.243007    20 -0.503315   \n",
       "8        0.554715  1.497574    22  0.379094  0.922101    22  0.430080   \n",
       "\n",
       "                               3   ...    38        39                  \\\n",
       "              std count      mean  ... count      mean       std count   \n",
       "cluster                            ...                                   \n",
       "0        1.008826   102 -0.852345  ...   102 -0.884309  0.733259   102   \n",
       "1        0.840022    75  0.098960  ...    75  0.361537  0.846311    75   \n",
       "2        0.994710    86  1.011638  ...    86  0.603213  1.038705    86   \n",
       "3        1.195875     8  0.665928  ...     8 -0.291830  2.024785     8   \n",
       "4        0.685943   142 -0.213840  ...   142  0.083504  0.662410   142   \n",
       "5        0.826928   143  0.317102  ...   143 -0.030164  0.743885   143   \n",
       "6        0.822685    12 -0.296915  ...    12  1.886715  1.209819    12   \n",
       "7        1.177929    20 -0.370869  ...    20  0.227681  1.045690    20   \n",
       "8        1.062710    22 -0.764141  ...    22 -0.963441  0.929154    22   \n",
       "\n",
       "               40                        41                  \n",
       "             mean       std count      mean       std count  \n",
       "cluster                                                      \n",
       "0        0.135654  0.831044   102  0.391714  1.161711   102  \n",
       "1       -0.358411  0.916200    75 -0.086113  0.954587    75  \n",
       "2       -0.261284  0.956281    86 -0.191337  0.942444    86  \n",
       "3       -1.186200  1.911108     8 -0.049219  1.603565     8  \n",
       "4       -0.137349  0.713828   142 -0.223174  0.770884   142  \n",
       "5       -0.046868  0.764037   143  0.206326  0.792331   143  \n",
       "6        0.723857  1.507980    12 -1.448602  1.726856    12  \n",
       "7        1.596983  1.457763    20  0.089758  0.887584    20  \n",
       "8        1.390174  1.052404    22  0.051205  1.274698    22  \n",
       "\n",
       "[9 rows x 126 columns]"
      ]
     },
     "execution_count": 25,
     "metadata": {},
     "output_type": "execute_result"
    }
   ],
   "source": [
    "rec_pdf_clustered.groupby(['cluster']).agg(['mean', 'std', 'count'])"
   ]
  },
  {
   "cell_type": "code",
   "execution_count": null,
   "metadata": {},
   "outputs": [],
   "source": [
    "# from mpl_toolkits.mplot3d import Axes3D\n",
    "# fig = plt.figure(figsize=(20,10))\n",
    "# ax = fig.add_subplot(111, projection='3d')\n",
    "# plt.scatter(rec_pdf_clustered[1], rec_pdf_clustered[5], rec_pdf_clustered[3], c=rec_pdf_clustered.cluster)\n",
    "# plt.show();"
   ]
  },
  {
   "cell_type": "markdown",
   "metadata": {},
   "source": [
    "# Cluster Centroids and Distances"
   ]
  },
  {
   "cell_type": "code",
   "execution_count": 26,
   "metadata": {
    "ExecuteTime": {
     "end_time": "2019-07-26T17:10:17.100229Z",
     "start_time": "2019-07-26T17:10:17.095317Z"
    }
   },
   "outputs": [],
   "source": [
    "cluster_centroids = rec_pdf_clustered.groupby(['cluster']).agg('mean')"
   ]
  },
  {
   "cell_type": "code",
   "execution_count": 27,
   "metadata": {
    "ExecuteTime": {
     "end_time": "2019-07-26T17:10:17.677177Z",
     "start_time": "2019-07-26T17:10:17.674763Z"
    }
   },
   "outputs": [],
   "source": [
    "cluster_centroids_array = cluster_centroids.to_numpy()"
   ]
  },
  {
   "cell_type": "code",
   "execution_count": 28,
   "metadata": {
    "ExecuteTime": {
     "end_time": "2019-07-26T17:10:18.037246Z",
     "start_time": "2019-07-26T17:10:18.034512Z"
    }
   },
   "outputs": [],
   "source": [
    "cluster_distance_matrix = distance_matrix(cluster_centroids_array, cluster_centroids_array, p=2)"
   ]
  },
  {
   "cell_type": "code",
   "execution_count": 29,
   "metadata": {
    "ExecuteTime": {
     "end_time": "2019-07-26T17:10:18.386457Z",
     "start_time": "2019-07-26T17:10:18.374390Z"
    },
    "scrolled": true
   },
   "outputs": [
    {
     "data": {
      "text/html": [
       "<div>\n",
       "<style scoped>\n",
       "    .dataframe tbody tr th:only-of-type {\n",
       "        vertical-align: middle;\n",
       "    }\n",
       "\n",
       "    .dataframe tbody tr th {\n",
       "        vertical-align: top;\n",
       "    }\n",
       "\n",
       "    .dataframe thead th {\n",
       "        text-align: right;\n",
       "    }\n",
       "</style>\n",
       "<table border=\"1\" class=\"dataframe\">\n",
       "  <thead>\n",
       "    <tr style=\"text-align: right;\">\n",
       "      <th></th>\n",
       "      <th>0</th>\n",
       "      <th>1</th>\n",
       "      <th>2</th>\n",
       "      <th>3</th>\n",
       "      <th>4</th>\n",
       "      <th>5</th>\n",
       "      <th>6</th>\n",
       "      <th>7</th>\n",
       "      <th>8</th>\n",
       "    </tr>\n",
       "  </thead>\n",
       "  <tbody>\n",
       "    <tr>\n",
       "      <th>0</th>\n",
       "      <td>0.000000</td>\n",
       "      <td>5.333267</td>\n",
       "      <td>7.412127</td>\n",
       "      <td>8.296717</td>\n",
       "      <td>3.373134</td>\n",
       "      <td>4.573202</td>\n",
       "      <td>7.192046</td>\n",
       "      <td>5.666988</td>\n",
       "      <td>4.574201</td>\n",
       "    </tr>\n",
       "    <tr>\n",
       "      <th>1</th>\n",
       "      <td>5.333267</td>\n",
       "      <td>0.000000</td>\n",
       "      <td>3.856667</td>\n",
       "      <td>6.877097</td>\n",
       "      <td>3.019124</td>\n",
       "      <td>2.898582</td>\n",
       "      <td>7.527609</td>\n",
       "      <td>4.665154</td>\n",
       "      <td>5.785893</td>\n",
       "    </tr>\n",
       "    <tr>\n",
       "      <th>2</th>\n",
       "      <td>7.412127</td>\n",
       "      <td>3.856667</td>\n",
       "      <td>0.000000</td>\n",
       "      <td>7.240603</td>\n",
       "      <td>5.144719</td>\n",
       "      <td>3.207948</td>\n",
       "      <td>7.885692</td>\n",
       "      <td>5.882565</td>\n",
       "      <td>6.618755</td>\n",
       "    </tr>\n",
       "    <tr>\n",
       "      <th>3</th>\n",
       "      <td>8.296717</td>\n",
       "      <td>6.877097</td>\n",
       "      <td>7.240603</td>\n",
       "      <td>0.000000</td>\n",
       "      <td>7.498372</td>\n",
       "      <td>7.100306</td>\n",
       "      <td>9.930179</td>\n",
       "      <td>9.356401</td>\n",
       "      <td>9.622295</td>\n",
       "    </tr>\n",
       "    <tr>\n",
       "      <th>4</th>\n",
       "      <td>3.373134</td>\n",
       "      <td>3.019124</td>\n",
       "      <td>5.144719</td>\n",
       "      <td>7.498372</td>\n",
       "      <td>0.000000</td>\n",
       "      <td>3.038676</td>\n",
       "      <td>5.816284</td>\n",
       "      <td>4.389755</td>\n",
       "      <td>4.623226</td>\n",
       "    </tr>\n",
       "    <tr>\n",
       "      <th>5</th>\n",
       "      <td>4.573202</td>\n",
       "      <td>2.898582</td>\n",
       "      <td>3.207948</td>\n",
       "      <td>7.100306</td>\n",
       "      <td>3.038676</td>\n",
       "      <td>0.000000</td>\n",
       "      <td>6.951569</td>\n",
       "      <td>4.801015</td>\n",
       "      <td>4.255280</td>\n",
       "    </tr>\n",
       "    <tr>\n",
       "      <th>6</th>\n",
       "      <td>7.192046</td>\n",
       "      <td>7.527609</td>\n",
       "      <td>7.885692</td>\n",
       "      <td>9.930179</td>\n",
       "      <td>5.816284</td>\n",
       "      <td>6.951569</td>\n",
       "      <td>0.000000</td>\n",
       "      <td>7.584318</td>\n",
       "      <td>6.830923</td>\n",
       "    </tr>\n",
       "    <tr>\n",
       "      <th>7</th>\n",
       "      <td>5.666988</td>\n",
       "      <td>4.665154</td>\n",
       "      <td>5.882565</td>\n",
       "      <td>9.356401</td>\n",
       "      <td>4.389755</td>\n",
       "      <td>4.801015</td>\n",
       "      <td>7.584318</td>\n",
       "      <td>0.000000</td>\n",
       "      <td>5.459062</td>\n",
       "    </tr>\n",
       "    <tr>\n",
       "      <th>8</th>\n",
       "      <td>4.574201</td>\n",
       "      <td>5.785893</td>\n",
       "      <td>6.618755</td>\n",
       "      <td>9.622295</td>\n",
       "      <td>4.623226</td>\n",
       "      <td>4.255280</td>\n",
       "      <td>6.830923</td>\n",
       "      <td>5.459062</td>\n",
       "      <td>0.000000</td>\n",
       "    </tr>\n",
       "  </tbody>\n",
       "</table>\n",
       "</div>"
      ],
      "text/plain": [
       "          0         1         2         3         4         5         6  \\\n",
       "0  0.000000  5.333267  7.412127  8.296717  3.373134  4.573202  7.192046   \n",
       "1  5.333267  0.000000  3.856667  6.877097  3.019124  2.898582  7.527609   \n",
       "2  7.412127  3.856667  0.000000  7.240603  5.144719  3.207948  7.885692   \n",
       "3  8.296717  6.877097  7.240603  0.000000  7.498372  7.100306  9.930179   \n",
       "4  3.373134  3.019124  5.144719  7.498372  0.000000  3.038676  5.816284   \n",
       "5  4.573202  2.898582  3.207948  7.100306  3.038676  0.000000  6.951569   \n",
       "6  7.192046  7.527609  7.885692  9.930179  5.816284  6.951569  0.000000   \n",
       "7  5.666988  4.665154  5.882565  9.356401  4.389755  4.801015  7.584318   \n",
       "8  4.574201  5.785893  6.618755  9.622295  4.623226  4.255280  6.830923   \n",
       "\n",
       "          7         8  \n",
       "0  5.666988  4.574201  \n",
       "1  4.665154  5.785893  \n",
       "2  5.882565  6.618755  \n",
       "3  9.356401  9.622295  \n",
       "4  4.389755  4.623226  \n",
       "5  4.801015  4.255280  \n",
       "6  7.584318  6.830923  \n",
       "7  0.000000  5.459062  \n",
       "8  5.459062  0.000000  "
      ]
     },
     "execution_count": 29,
     "metadata": {},
     "output_type": "execute_result"
    }
   ],
   "source": [
    "cluster_distance_df = pd.DataFrame(cluster_distance_matrix)\n",
    "cluster_distance_df"
   ]
  },
  {
   "cell_type": "code",
   "execution_count": 30,
   "metadata": {
    "ExecuteTime": {
     "end_time": "2019-07-26T17:10:18.609439Z",
     "start_time": "2019-07-26T17:10:18.606260Z"
    }
   },
   "outputs": [],
   "source": [
    "def nearest_clusters(cluster, num_nearest_clusters=2):\n",
    "    sorted_distances = cluster_distance_df[cluster].sort_values(ascending=True)\n",
    "    return sorted_distances[1:num_nearest_clusters+1].index.values.astype(int)"
   ]
  },
  {
   "cell_type": "code",
   "execution_count": 31,
   "metadata": {
    "ExecuteTime": {
     "end_time": "2019-07-26T17:10:19.602343Z",
     "start_time": "2019-07-26T17:10:19.598031Z"
    },
    "scrolled": true
   },
   "outputs": [
    {
     "data": {
      "text/plain": [
       "array([4, 5])"
      ]
     },
     "execution_count": 31,
     "metadata": {},
     "output_type": "execute_result"
    }
   ],
   "source": [
    "nearest_clusters(0, 2)"
   ]
  },
  {
   "cell_type": "markdown",
   "metadata": {},
   "source": [
    "# Bootstrap Sample"
   ]
  },
  {
   "cell_type": "code",
   "execution_count": 32,
   "metadata": {
    "ExecuteTime": {
     "end_time": "2019-07-26T17:10:24.772980Z",
     "start_time": "2019-07-26T17:10:24.767101Z"
    }
   },
   "outputs": [],
   "source": [
    "bs_sample = rec_pdf_clustered.sample(n=5000, replace=True, axis=0, random_state=42)"
   ]
  },
  {
   "cell_type": "markdown",
   "metadata": {},
   "source": [
    "# KNN Model (for assigning new user to a cluster)"
   ]
  },
  {
   "cell_type": "code",
   "execution_count": 33,
   "metadata": {
    "ExecuteTime": {
     "end_time": "2019-07-26T17:10:38.985793Z",
     "start_time": "2019-07-26T17:10:38.966415Z"
    },
    "scrolled": true
   },
   "outputs": [
    {
     "data": {
      "text/html": [
       "<div>\n",
       "<style scoped>\n",
       "    .dataframe tbody tr th:only-of-type {\n",
       "        vertical-align: middle;\n",
       "    }\n",
       "\n",
       "    .dataframe tbody tr th {\n",
       "        vertical-align: top;\n",
       "    }\n",
       "\n",
       "    .dataframe thead th {\n",
       "        text-align: right;\n",
       "    }\n",
       "</style>\n",
       "<table border=\"1\" class=\"dataframe\">\n",
       "  <thead>\n",
       "    <tr style=\"text-align: right;\">\n",
       "      <th></th>\n",
       "      <th>0</th>\n",
       "      <th>1</th>\n",
       "      <th>2</th>\n",
       "      <th>3</th>\n",
       "      <th>4</th>\n",
       "      <th>5</th>\n",
       "      <th>6</th>\n",
       "      <th>7</th>\n",
       "      <th>8</th>\n",
       "      <th>9</th>\n",
       "      <th>...</th>\n",
       "      <th>33</th>\n",
       "      <th>34</th>\n",
       "      <th>35</th>\n",
       "      <th>36</th>\n",
       "      <th>37</th>\n",
       "      <th>38</th>\n",
       "      <th>39</th>\n",
       "      <th>40</th>\n",
       "      <th>41</th>\n",
       "      <th>cluster</th>\n",
       "    </tr>\n",
       "  </thead>\n",
       "  <tbody>\n",
       "    <tr>\n",
       "      <th>102</th>\n",
       "      <td>-0.782939</td>\n",
       "      <td>0.365766</td>\n",
       "      <td>-0.974612</td>\n",
       "      <td>0.663531</td>\n",
       "      <td>-0.455871</td>\n",
       "      <td>-0.973882</td>\n",
       "      <td>-0.308984</td>\n",
       "      <td>0.456755</td>\n",
       "      <td>-0.345174</td>\n",
       "      <td>0.009831</td>\n",
       "      <td>...</td>\n",
       "      <td>-0.863321</td>\n",
       "      <td>-0.603966</td>\n",
       "      <td>0.687996</td>\n",
       "      <td>-0.634509</td>\n",
       "      <td>-0.071162</td>\n",
       "      <td>0.484988</td>\n",
       "      <td>0.466084</td>\n",
       "      <td>-1.372895</td>\n",
       "      <td>0.757928</td>\n",
       "      <td>1</td>\n",
       "    </tr>\n",
       "    <tr>\n",
       "      <th>435</th>\n",
       "      <td>0.641632</td>\n",
       "      <td>-0.415294</td>\n",
       "      <td>0.891829</td>\n",
       "      <td>0.059460</td>\n",
       "      <td>-0.064829</td>\n",
       "      <td>0.009458</td>\n",
       "      <td>0.041828</td>\n",
       "      <td>0.483449</td>\n",
       "      <td>0.383006</td>\n",
       "      <td>-1.856536</td>\n",
       "      <td>...</td>\n",
       "      <td>0.789455</td>\n",
       "      <td>0.606651</td>\n",
       "      <td>-0.425987</td>\n",
       "      <td>1.013339</td>\n",
       "      <td>-0.170240</td>\n",
       "      <td>-0.417268</td>\n",
       "      <td>-0.567872</td>\n",
       "      <td>0.138924</td>\n",
       "      <td>1.256035</td>\n",
       "      <td>0</td>\n",
       "    </tr>\n",
       "    <tr>\n",
       "      <th>270</th>\n",
       "      <td>-0.023143</td>\n",
       "      <td>-0.486587</td>\n",
       "      <td>-0.771678</td>\n",
       "      <td>-0.093755</td>\n",
       "      <td>0.467610</td>\n",
       "      <td>0.998220</td>\n",
       "      <td>-0.619329</td>\n",
       "      <td>0.243314</td>\n",
       "      <td>0.983117</td>\n",
       "      <td>-0.692106</td>\n",
       "      <td>...</td>\n",
       "      <td>-0.514183</td>\n",
       "      <td>1.313285</td>\n",
       "      <td>1.259937</td>\n",
       "      <td>0.703491</td>\n",
       "      <td>0.708715</td>\n",
       "      <td>-0.073146</td>\n",
       "      <td>1.023337</td>\n",
       "      <td>0.609747</td>\n",
       "      <td>0.999134</td>\n",
       "      <td>5</td>\n",
       "    </tr>\n",
       "    <tr>\n",
       "      <th>106</th>\n",
       "      <td>0.328351</td>\n",
       "      <td>-0.656945</td>\n",
       "      <td>1.661276</td>\n",
       "      <td>-0.883631</td>\n",
       "      <td>0.060652</td>\n",
       "      <td>0.361518</td>\n",
       "      <td>-0.502879</td>\n",
       "      <td>0.949366</td>\n",
       "      <td>0.352437</td>\n",
       "      <td>-1.499063</td>\n",
       "      <td>...</td>\n",
       "      <td>0.179452</td>\n",
       "      <td>0.984580</td>\n",
       "      <td>0.294296</td>\n",
       "      <td>-0.517440</td>\n",
       "      <td>-0.625789</td>\n",
       "      <td>-1.083569</td>\n",
       "      <td>-1.322961</td>\n",
       "      <td>-0.425741</td>\n",
       "      <td>1.775461</td>\n",
       "      <td>0</td>\n",
       "    </tr>\n",
       "    <tr>\n",
       "      <th>71</th>\n",
       "      <td>0.203523</td>\n",
       "      <td>0.216612</td>\n",
       "      <td>0.048158</td>\n",
       "      <td>-0.358833</td>\n",
       "      <td>-0.726166</td>\n",
       "      <td>-0.145945</td>\n",
       "      <td>-0.524061</td>\n",
       "      <td>-0.210638</td>\n",
       "      <td>-0.510078</td>\n",
       "      <td>0.587523</td>\n",
       "      <td>...</td>\n",
       "      <td>-0.842972</td>\n",
       "      <td>0.104039</td>\n",
       "      <td>-0.109596</td>\n",
       "      <td>-0.480622</td>\n",
       "      <td>0.123564</td>\n",
       "      <td>0.104575</td>\n",
       "      <td>0.138829</td>\n",
       "      <td>-0.728722</td>\n",
       "      <td>0.236056</td>\n",
       "      <td>1</td>\n",
       "    </tr>\n",
       "  </tbody>\n",
       "</table>\n",
       "<p>5 rows × 43 columns</p>\n",
       "</div>"
      ],
      "text/plain": [
       "            0         1         2         3         4         5         6  \\\n",
       "102 -0.782939  0.365766 -0.974612  0.663531 -0.455871 -0.973882 -0.308984   \n",
       "435  0.641632 -0.415294  0.891829  0.059460 -0.064829  0.009458  0.041828   \n",
       "270 -0.023143 -0.486587 -0.771678 -0.093755  0.467610  0.998220 -0.619329   \n",
       "106  0.328351 -0.656945  1.661276 -0.883631  0.060652  0.361518 -0.502879   \n",
       "71   0.203523  0.216612  0.048158 -0.358833 -0.726166 -0.145945 -0.524061   \n",
       "\n",
       "            7         8         9  ...        33        34        35  \\\n",
       "102  0.456755 -0.345174  0.009831  ... -0.863321 -0.603966  0.687996   \n",
       "435  0.483449  0.383006 -1.856536  ...  0.789455  0.606651 -0.425987   \n",
       "270  0.243314  0.983117 -0.692106  ... -0.514183  1.313285  1.259937   \n",
       "106  0.949366  0.352437 -1.499063  ...  0.179452  0.984580  0.294296   \n",
       "71  -0.210638 -0.510078  0.587523  ... -0.842972  0.104039 -0.109596   \n",
       "\n",
       "           36        37        38        39        40        41  cluster  \n",
       "102 -0.634509 -0.071162  0.484988  0.466084 -1.372895  0.757928        1  \n",
       "435  1.013339 -0.170240 -0.417268 -0.567872  0.138924  1.256035        0  \n",
       "270  0.703491  0.708715 -0.073146  1.023337  0.609747  0.999134        5  \n",
       "106 -0.517440 -0.625789 -1.083569 -1.322961 -0.425741  1.775461        0  \n",
       "71  -0.480622  0.123564  0.104575  0.138829 -0.728722  0.236056        1  \n",
       "\n",
       "[5 rows x 43 columns]"
      ]
     },
     "execution_count": 33,
     "metadata": {},
     "output_type": "execute_result"
    }
   ],
   "source": [
    "bs_sample.head()"
   ]
  },
  {
   "cell_type": "code",
   "execution_count": 34,
   "metadata": {
    "ExecuteTime": {
     "end_time": "2019-07-26T17:10:39.348954Z",
     "start_time": "2019-07-26T17:10:39.344847Z"
    }
   },
   "outputs": [],
   "source": [
    "X = bs_sample.iloc[:,:-1]\n",
    "y = bs_sample.iloc[:,-1]"
   ]
  },
  {
   "cell_type": "code",
   "execution_count": 35,
   "metadata": {
    "ExecuteTime": {
     "end_time": "2019-07-26T17:10:39.867081Z",
     "start_time": "2019-07-26T17:10:39.861282Z"
    }
   },
   "outputs": [],
   "source": [
    "X_train, X_test, y_train, y_test = train_test_split(X, y, shuffle=True)"
   ]
  },
  {
   "cell_type": "code",
   "execution_count": null,
   "metadata": {},
   "outputs": [],
   "source": [
    "from sklearn.metrics import confusion_matrix\n",
    "knn = KNeighborsClassifier(n_neighbors=7)\n",
    "knn.fit(X_train,y_train)\n",
    "train_preds = knn.predict(X_train)\n",
    "test_preds = knn.predict(X_test)\n",
    "accuracy_score(y_test, test_preds), accuracy_score(y_train, train_preds)"
   ]
  },
  {
   "cell_type": "code",
   "execution_count": null,
   "metadata": {},
   "outputs": [],
   "source": [
    "print(confusion_matrix(y_test, test_preds))\n",
    "print(confusion_matrix(y_train, train_preds))"
   ]
  },
  {
   "cell_type": "markdown",
   "metadata": {
    "heading_collapsed": true
   },
   "source": [
    "# Nearest Centroid"
   ]
  },
  {
   "cell_type": "code",
   "execution_count": null,
   "metadata": {
    "hidden": true
   },
   "outputs": [],
   "source": [
    "from sklearn.neighbors import NearestCentroid\n",
    "nc = NearestCentroid()\n",
    "nc.fit(X_train, y_train)\n",
    "nc_train_preds = nc.predict(X_train)\n",
    "nc_test_preds = nc.predict(X_test)\n",
    "accuracy_score(y_test, nc_test_preds), accuracy_score(y_train, nc_train_preds)"
   ]
  },
  {
   "cell_type": "code",
   "execution_count": null,
   "metadata": {
    "hidden": true
   },
   "outputs": [],
   "source": [
    "print(confusion_matrix(y_test, nc_test_preds))\n",
    "print(confusion_matrix(y_train, nc_train_preds))"
   ]
  },
  {
   "cell_type": "markdown",
   "metadata": {
    "heading_collapsed": true
   },
   "source": [
    "# Decision Tree"
   ]
  },
  {
   "cell_type": "code",
   "execution_count": null,
   "metadata": {
    "hidden": true
   },
   "outputs": [],
   "source": [
    "from sklearn.tree import DecisionTreeClassifier\n",
    "from sklearn import tree\n",
    "dc = DecisionTreeClassifier(max_depth=8, max_features=8, criterion='gini', min_samples_leaf=9)\n",
    "dc.fit(X_train, y_train)\n",
    "dc_train_preds = dc.predict(X_train)\n",
    "dc_test_preds = dc.predict(X_test)\n",
    "accuracy_score(y_test, dc_test_preds), accuracy_score(y_train, dc_train_preds)"
   ]
  },
  {
   "cell_type": "code",
   "execution_count": null,
   "metadata": {
    "hidden": true
   },
   "outputs": [],
   "source": [
    "print(confusion_matrix(y_test, dc_test_preds))\n",
    "print(confusion_matrix(y_train, dc_train_preds))"
   ]
  },
  {
   "cell_type": "markdown",
   "metadata": {
    "heading_collapsed": true
   },
   "source": [
    "# Random Forest"
   ]
  },
  {
   "cell_type": "code",
   "execution_count": null,
   "metadata": {
    "hidden": true
   },
   "outputs": [],
   "source": [
    "from sklearn.ensemble import BaggingClassifier, RandomForestClassifier\n",
    "from sklearn.model_selection import GridSearchCV\n",
    "rf = RandomForestClassifier()\n",
    "param_grid = {'criterion':['gini', 'entropy'], \n",
    "             'max_depth': [15],\n",
    "             'min_samples_split': [5],\n",
    "             'n_estimators': [50],\n",
    "             'max_features': [6]}\n",
    "gs_forest = GridSearchCV(rf, param_grid, cv=5)\n",
    "gs_forest.fit(X_train, y_train)\n",
    "gs_forest.best_params_"
   ]
  },
  {
   "cell_type": "code",
   "execution_count": null,
   "metadata": {
    "hidden": true
   },
   "outputs": [],
   "source": [
    "gs_forest_train_preds = gs_forest.predict(X_train)\n",
    "gs_forest_test_preds = gs_forest.predict(X_test)\n",
    "accuracy_score(y_test, gs_forest_test_preds), accuracy_score(y_train, gs_forest_train_preds)"
   ]
  },
  {
   "cell_type": "code",
   "execution_count": null,
   "metadata": {
    "hidden": true
   },
   "outputs": [],
   "source": [
    "print(confusion_matrix(y_test, gs_forest_test_preds))\n",
    "print(confusion_matrix(y_train, gs_forest_train_preds))"
   ]
  },
  {
   "cell_type": "markdown",
   "metadata": {
    "heading_collapsed": true
   },
   "source": [
    "# AdaBoost"
   ]
  },
  {
   "cell_type": "code",
   "execution_count": null,
   "metadata": {
    "hidden": true
   },
   "outputs": [],
   "source": [
    "from sklearn.ensemble import AdaBoostClassifier\n",
    "ab = AdaBoostClassifier(learning_rate=.4)\n",
    "ab.fit(X_train, y_train)\n",
    "ab_train_preds = ab.predict(X_train)\n",
    "ab_test_preds = ab.predict(X_test)\n",
    "accuracy_score(y_test, ab_test_preds), accuracy_score(y_train, ab_train_preds)"
   ]
  },
  {
   "cell_type": "code",
   "execution_count": null,
   "metadata": {
    "hidden": true
   },
   "outputs": [],
   "source": [
    "print(confusion_matrix(y_test, ab_test_preds))\n",
    "print(confusion_matrix(y_train, ab_train_preds))"
   ]
  },
  {
   "cell_type": "markdown",
   "metadata": {},
   "source": [
    "# Gradient Boosting Classifier"
   ]
  },
  {
   "cell_type": "code",
   "execution_count": 38,
   "metadata": {
    "ExecuteTime": {
     "end_time": "2019-07-26T17:11:21.306756Z",
     "start_time": "2019-07-26T17:11:15.776876Z"
    }
   },
   "outputs": [
    {
     "data": {
      "text/plain": [
       "(1.0, 1.0)"
      ]
     },
     "execution_count": 38,
     "metadata": {},
     "output_type": "execute_result"
    }
   ],
   "source": [
    "from sklearn.ensemble import GradientBoostingClassifier\n",
    "gbc = GradientBoostingClassifier()\n",
    "param_grid = {'learning_rate':[.15], \n",
    "             'max_depth': [5],\n",
    "             'min_samples_split': [25],\n",
    "             'n_estimators': [41],\n",
    "             'max_features': [7]}\n",
    "gs_gbc = GridSearchCV(gbc, param_grid, cv=5)\n",
    "gs_gbc.fit(X_train, y_train)\n",
    "gbc_train_preds = gs_gbc.predict(X_train)\n",
    "gbc_test_preds = gs_gbc.predict(X_test)\n",
    "accuracy_score(y_test, gbc_test_preds), accuracy_score(y_train, gbc_train_preds)"
   ]
  },
  {
   "cell_type": "code",
   "execution_count": 39,
   "metadata": {
    "ExecuteTime": {
     "end_time": "2019-07-26T17:11:21.311401Z",
     "start_time": "2019-07-26T17:11:21.308250Z"
    },
    "scrolled": true
   },
   "outputs": [
    {
     "data": {
      "text/plain": [
       "{'learning_rate': 0.15,\n",
       " 'max_depth': 5,\n",
       " 'max_features': 7,\n",
       " 'min_samples_split': 25,\n",
       " 'n_estimators': 41}"
      ]
     },
     "execution_count": 39,
     "metadata": {},
     "output_type": "execute_result"
    }
   ],
   "source": [
    "gs_gbc.best_params_"
   ]
  },
  {
   "cell_type": "code",
   "execution_count": 40,
   "metadata": {
    "ExecuteTime": {
     "end_time": "2019-07-26T17:11:21.322486Z",
     "start_time": "2019-07-26T17:11:21.312814Z"
    },
    "scrolled": true
   },
   "outputs": [
    {
     "ename": "NameError",
     "evalue": "name 'confusion_matrix' is not defined",
     "output_type": "error",
     "traceback": [
      "\u001b[0;31m---------------------------------------------------------------------------\u001b[0m",
      "\u001b[0;31mNameError\u001b[0m                                 Traceback (most recent call last)",
      "\u001b[0;32m<ipython-input-40-ed2f8fb5c273>\u001b[0m in \u001b[0;36m<module>\u001b[0;34m\u001b[0m\n\u001b[0;32m----> 1\u001b[0;31m \u001b[0mprint\u001b[0m\u001b[0;34m(\u001b[0m\u001b[0mconfusion_matrix\u001b[0m\u001b[0;34m(\u001b[0m\u001b[0my_test\u001b[0m\u001b[0;34m,\u001b[0m \u001b[0mgbc_test_preds\u001b[0m\u001b[0;34m)\u001b[0m\u001b[0;34m)\u001b[0m\u001b[0;34m\u001b[0m\u001b[0;34m\u001b[0m\u001b[0m\n\u001b[0m\u001b[1;32m      2\u001b[0m \u001b[0mprint\u001b[0m\u001b[0;34m(\u001b[0m\u001b[0mconfusion_matrix\u001b[0m\u001b[0;34m(\u001b[0m\u001b[0my_train\u001b[0m\u001b[0;34m,\u001b[0m \u001b[0mgbc_train_preds\u001b[0m\u001b[0;34m)\u001b[0m\u001b[0;34m)\u001b[0m\u001b[0;34m\u001b[0m\u001b[0;34m\u001b[0m\u001b[0m\n",
      "\u001b[0;31mNameError\u001b[0m: name 'confusion_matrix' is not defined"
     ]
    }
   ],
   "source": [
    "print(confusion_matrix(y_test, gbc_test_preds))\n",
    "print(confusion_matrix(y_train, gbc_train_preds))"
   ]
  },
  {
   "cell_type": "markdown",
   "metadata": {},
   "source": [
    "# Item Feature Extraction"
   ]
  },
  {
   "cell_type": "code",
   "execution_count": 41,
   "metadata": {
    "ExecuteTime": {
     "end_time": "2019-07-26T17:11:30.276176Z",
     "start_time": "2019-07-26T17:11:30.273105Z"
    },
    "scrolled": true
   },
   "outputs": [],
   "source": [
    "item_factors = best_model.bestModel.itemFactors"
   ]
  },
  {
   "cell_type": "code",
   "execution_count": 42,
   "metadata": {
    "ExecuteTime": {
     "end_time": "2019-07-26T17:11:30.641596Z",
     "start_time": "2019-07-26T17:11:30.625895Z"
    },
    "scrolled": true
   },
   "outputs": [],
   "source": [
    "item_factors_df = (item_factors\n",
    "  .select(\"id\", explode(\"features\")\n",
    "  .alias(\"features\"))\n",
    "  .select('id',\"features\")\n",
    ")"
   ]
  },
  {
   "cell_type": "code",
   "execution_count": 43,
   "metadata": {
    "ExecuteTime": {
     "end_time": "2019-07-26T17:11:32.470584Z",
     "start_time": "2019-07-26T17:11:31.034033Z"
    },
    "scrolled": true
   },
   "outputs": [
    {
     "data": {
      "text/html": [
       "<div>\n",
       "<style scoped>\n",
       "    .dataframe tbody tr th:only-of-type {\n",
       "        vertical-align: middle;\n",
       "    }\n",
       "\n",
       "    .dataframe tbody tr th {\n",
       "        vertical-align: top;\n",
       "    }\n",
       "\n",
       "    .dataframe thead th {\n",
       "        text-align: right;\n",
       "    }\n",
       "</style>\n",
       "<table border=\"1\" class=\"dataframe\">\n",
       "  <thead>\n",
       "    <tr style=\"text-align: right;\">\n",
       "      <th></th>\n",
       "      <th>id</th>\n",
       "      <th>features</th>\n",
       "    </tr>\n",
       "  </thead>\n",
       "  <tbody>\n",
       "    <tr>\n",
       "      <th>0</th>\n",
       "      <td>10</td>\n",
       "      <td>-0.377088</td>\n",
       "    </tr>\n",
       "    <tr>\n",
       "      <th>1</th>\n",
       "      <td>10</td>\n",
       "      <td>0.263319</td>\n",
       "    </tr>\n",
       "    <tr>\n",
       "      <th>2</th>\n",
       "      <td>10</td>\n",
       "      <td>0.294040</td>\n",
       "    </tr>\n",
       "    <tr>\n",
       "      <th>3</th>\n",
       "      <td>10</td>\n",
       "      <td>0.006236</td>\n",
       "    </tr>\n",
       "    <tr>\n",
       "      <th>4</th>\n",
       "      <td>10</td>\n",
       "      <td>-0.650020</td>\n",
       "    </tr>\n",
       "  </tbody>\n",
       "</table>\n",
       "</div>"
      ],
      "text/plain": [
       "   id  features\n",
       "0  10 -0.377088\n",
       "1  10  0.263319\n",
       "2  10  0.294040\n",
       "3  10  0.006236\n",
       "4  10 -0.650020"
      ]
     },
     "execution_count": 43,
     "metadata": {},
     "output_type": "execute_result"
    }
   ],
   "source": [
    "item_factors_pdf = item_factors_df.toPandas()\n",
    "item_factors_pdf.head()"
   ]
  },
  {
   "cell_type": "code",
   "execution_count": 44,
   "metadata": {
    "ExecuteTime": {
     "end_time": "2019-07-26T17:11:32.630472Z",
     "start_time": "2019-07-26T17:11:32.473666Z"
    },
    "scrolled": true
   },
   "outputs": [
    {
     "data": {
      "text/html": [
       "<div>\n",
       "<style scoped>\n",
       "    .dataframe tbody tr th:only-of-type {\n",
       "        vertical-align: middle;\n",
       "    }\n",
       "\n",
       "    .dataframe tbody tr th {\n",
       "        vertical-align: top;\n",
       "    }\n",
       "\n",
       "    .dataframe thead th {\n",
       "        text-align: right;\n",
       "    }\n",
       "</style>\n",
       "<table border=\"1\" class=\"dataframe\">\n",
       "  <thead>\n",
       "    <tr style=\"text-align: right;\">\n",
       "      <th>value</th>\n",
       "      <th>1</th>\n",
       "      <th>2</th>\n",
       "      <th>3</th>\n",
       "      <th>4</th>\n",
       "      <th>5</th>\n",
       "      <th>6</th>\n",
       "      <th>7</th>\n",
       "      <th>8</th>\n",
       "      <th>9</th>\n",
       "      <th>10</th>\n",
       "      <th>...</th>\n",
       "      <th>33</th>\n",
       "      <th>34</th>\n",
       "      <th>35</th>\n",
       "      <th>36</th>\n",
       "      <th>37</th>\n",
       "      <th>38</th>\n",
       "      <th>39</th>\n",
       "      <th>40</th>\n",
       "      <th>41</th>\n",
       "      <th>42</th>\n",
       "    </tr>\n",
       "    <tr>\n",
       "      <th>id</th>\n",
       "      <th></th>\n",
       "      <th></th>\n",
       "      <th></th>\n",
       "      <th></th>\n",
       "      <th></th>\n",
       "      <th></th>\n",
       "      <th></th>\n",
       "      <th></th>\n",
       "      <th></th>\n",
       "      <th></th>\n",
       "      <th></th>\n",
       "      <th></th>\n",
       "      <th></th>\n",
       "      <th></th>\n",
       "      <th></th>\n",
       "      <th></th>\n",
       "      <th></th>\n",
       "      <th></th>\n",
       "      <th></th>\n",
       "      <th></th>\n",
       "      <th></th>\n",
       "    </tr>\n",
       "  </thead>\n",
       "  <tbody>\n",
       "    <tr>\n",
       "      <th>1</th>\n",
       "      <td>-0.289770</td>\n",
       "      <td>0.269165</td>\n",
       "      <td>0.241839</td>\n",
       "      <td>0.141459</td>\n",
       "      <td>-0.516120</td>\n",
       "      <td>0.097612</td>\n",
       "      <td>-0.069229</td>\n",
       "      <td>0.202852</td>\n",
       "      <td>-0.318801</td>\n",
       "      <td>0.249815</td>\n",
       "      <td>...</td>\n",
       "      <td>-0.282715</td>\n",
       "      <td>0.037580</td>\n",
       "      <td>0.227586</td>\n",
       "      <td>-0.166211</td>\n",
       "      <td>-0.048576</td>\n",
       "      <td>-0.452802</td>\n",
       "      <td>0.191711</td>\n",
       "      <td>-0.465901</td>\n",
       "      <td>-0.449638</td>\n",
       "      <td>0.728317</td>\n",
       "    </tr>\n",
       "    <tr>\n",
       "      <th>2</th>\n",
       "      <td>-0.218411</td>\n",
       "      <td>0.237862</td>\n",
       "      <td>0.291855</td>\n",
       "      <td>0.009892</td>\n",
       "      <td>-0.402875</td>\n",
       "      <td>0.084137</td>\n",
       "      <td>-0.094723</td>\n",
       "      <td>0.268842</td>\n",
       "      <td>-0.249738</td>\n",
       "      <td>-0.014571</td>\n",
       "      <td>...</td>\n",
       "      <td>-0.391242</td>\n",
       "      <td>0.056854</td>\n",
       "      <td>0.308098</td>\n",
       "      <td>-0.043981</td>\n",
       "      <td>-0.152797</td>\n",
       "      <td>-0.352628</td>\n",
       "      <td>0.038977</td>\n",
       "      <td>-0.317002</td>\n",
       "      <td>-0.441980</td>\n",
       "      <td>0.648128</td>\n",
       "    </tr>\n",
       "    <tr>\n",
       "      <th>3</th>\n",
       "      <td>-0.232184</td>\n",
       "      <td>0.157119</td>\n",
       "      <td>0.209939</td>\n",
       "      <td>0.329380</td>\n",
       "      <td>-0.252286</td>\n",
       "      <td>0.039497</td>\n",
       "      <td>-0.198778</td>\n",
       "      <td>0.306751</td>\n",
       "      <td>-0.368254</td>\n",
       "      <td>0.152073</td>\n",
       "      <td>...</td>\n",
       "      <td>-0.394636</td>\n",
       "      <td>0.061754</td>\n",
       "      <td>0.196293</td>\n",
       "      <td>-0.005829</td>\n",
       "      <td>-0.393238</td>\n",
       "      <td>-0.356250</td>\n",
       "      <td>0.098432</td>\n",
       "      <td>-0.404707</td>\n",
       "      <td>-0.486408</td>\n",
       "      <td>0.710283</td>\n",
       "    </tr>\n",
       "    <tr>\n",
       "      <th>4</th>\n",
       "      <td>-0.080869</td>\n",
       "      <td>0.061240</td>\n",
       "      <td>0.199633</td>\n",
       "      <td>0.079785</td>\n",
       "      <td>-0.323486</td>\n",
       "      <td>-0.061538</td>\n",
       "      <td>0.047070</td>\n",
       "      <td>0.311170</td>\n",
       "      <td>-0.273467</td>\n",
       "      <td>-0.107670</td>\n",
       "      <td>...</td>\n",
       "      <td>-0.473671</td>\n",
       "      <td>0.173733</td>\n",
       "      <td>-0.002486</td>\n",
       "      <td>-0.054501</td>\n",
       "      <td>-0.102141</td>\n",
       "      <td>-0.282800</td>\n",
       "      <td>-0.075614</td>\n",
       "      <td>-0.319808</td>\n",
       "      <td>-0.377707</td>\n",
       "      <td>0.368441</td>\n",
       "    </tr>\n",
       "    <tr>\n",
       "      <th>5</th>\n",
       "      <td>-0.309972</td>\n",
       "      <td>0.236046</td>\n",
       "      <td>0.133293</td>\n",
       "      <td>0.068652</td>\n",
       "      <td>-0.394281</td>\n",
       "      <td>-0.022307</td>\n",
       "      <td>-0.015479</td>\n",
       "      <td>0.352523</td>\n",
       "      <td>-0.091903</td>\n",
       "      <td>0.040800</td>\n",
       "      <td>...</td>\n",
       "      <td>-0.326141</td>\n",
       "      <td>-0.048502</td>\n",
       "      <td>0.185442</td>\n",
       "      <td>-0.091593</td>\n",
       "      <td>-0.186768</td>\n",
       "      <td>-0.237307</td>\n",
       "      <td>-0.012428</td>\n",
       "      <td>-0.277426</td>\n",
       "      <td>-0.354997</td>\n",
       "      <td>0.594237</td>\n",
       "    </tr>\n",
       "  </tbody>\n",
       "</table>\n",
       "<p>5 rows × 42 columns</p>\n",
       "</div>"
      ],
      "text/plain": [
       "value        1         2         3         4         5         6         7   \\\n",
       "id                                                                            \n",
       "1     -0.289770  0.269165  0.241839  0.141459 -0.516120  0.097612 -0.069229   \n",
       "2     -0.218411  0.237862  0.291855  0.009892 -0.402875  0.084137 -0.094723   \n",
       "3     -0.232184  0.157119  0.209939  0.329380 -0.252286  0.039497 -0.198778   \n",
       "4     -0.080869  0.061240  0.199633  0.079785 -0.323486 -0.061538  0.047070   \n",
       "5     -0.309972  0.236046  0.133293  0.068652 -0.394281 -0.022307 -0.015479   \n",
       "\n",
       "value        8         9         10  ...        33        34        35  \\\n",
       "id                                   ...                                 \n",
       "1      0.202852 -0.318801  0.249815  ... -0.282715  0.037580  0.227586   \n",
       "2      0.268842 -0.249738 -0.014571  ... -0.391242  0.056854  0.308098   \n",
       "3      0.306751 -0.368254  0.152073  ... -0.394636  0.061754  0.196293   \n",
       "4      0.311170 -0.273467 -0.107670  ... -0.473671  0.173733 -0.002486   \n",
       "5      0.352523 -0.091903  0.040800  ... -0.326141 -0.048502  0.185442   \n",
       "\n",
       "value        36        37        38        39        40        41        42  \n",
       "id                                                                           \n",
       "1     -0.166211 -0.048576 -0.452802  0.191711 -0.465901 -0.449638  0.728317  \n",
       "2     -0.043981 -0.152797 -0.352628  0.038977 -0.317002 -0.441980  0.648128  \n",
       "3     -0.005829 -0.393238 -0.356250  0.098432 -0.404707 -0.486408  0.710283  \n",
       "4     -0.054501 -0.102141 -0.282800 -0.075614 -0.319808 -0.377707  0.368441  \n",
       "5     -0.091593 -0.186768 -0.237307 -0.012428 -0.277426 -0.354997  0.594237  \n",
       "\n",
       "[5 rows x 42 columns]"
      ]
     },
     "execution_count": 44,
     "metadata": {},
     "output_type": "execute_result"
    }
   ],
   "source": [
    "multiplier_factors = item_factors_pdf['id'].nunique()\n",
    "factors_feature_array = np.array(list(range(1,rank+1))*multiplier_factors)\n",
    "item_factors_pdf['value'] = factors_feature_array\n",
    "item_factors_unstacked = item_factors_pdf.pivot(index='id', columns='value', values='features')\n",
    "item_factors_unstacked.head()"
   ]
  },
  {
   "cell_type": "markdown",
   "metadata": {},
   "source": [
    "# Cluster Centroids"
   ]
  },
  {
   "cell_type": "code",
   "execution_count": 45,
   "metadata": {
    "ExecuteTime": {
     "end_time": "2019-07-26T17:11:38.821421Z",
     "start_time": "2019-07-26T17:11:38.801987Z"
    }
   },
   "outputs": [
    {
     "data": {
      "text/html": [
       "<div>\n",
       "<style scoped>\n",
       "    .dataframe tbody tr th:only-of-type {\n",
       "        vertical-align: middle;\n",
       "    }\n",
       "\n",
       "    .dataframe tbody tr th {\n",
       "        vertical-align: top;\n",
       "    }\n",
       "\n",
       "    .dataframe thead th {\n",
       "        text-align: right;\n",
       "    }\n",
       "</style>\n",
       "<table border=\"1\" class=\"dataframe\">\n",
       "  <thead>\n",
       "    <tr style=\"text-align: right;\">\n",
       "      <th></th>\n",
       "      <th>0</th>\n",
       "      <th>1</th>\n",
       "      <th>2</th>\n",
       "      <th>3</th>\n",
       "      <th>4</th>\n",
       "      <th>5</th>\n",
       "      <th>6</th>\n",
       "      <th>7</th>\n",
       "      <th>8</th>\n",
       "      <th>9</th>\n",
       "      <th>...</th>\n",
       "      <th>32</th>\n",
       "      <th>33</th>\n",
       "      <th>34</th>\n",
       "      <th>35</th>\n",
       "      <th>36</th>\n",
       "      <th>37</th>\n",
       "      <th>38</th>\n",
       "      <th>39</th>\n",
       "      <th>40</th>\n",
       "      <th>41</th>\n",
       "    </tr>\n",
       "  </thead>\n",
       "  <tbody>\n",
       "    <tr>\n",
       "      <th>0</th>\n",
       "      <td>0.678533</td>\n",
       "      <td>-0.182310</td>\n",
       "      <td>0.771391</td>\n",
       "      <td>-0.852345</td>\n",
       "      <td>-0.281520</td>\n",
       "      <td>0.358500</td>\n",
       "      <td>0.088386</td>\n",
       "      <td>0.595032</td>\n",
       "      <td>0.570432</td>\n",
       "      <td>-0.638990</td>\n",
       "      <td>...</td>\n",
       "      <td>-0.440689</td>\n",
       "      <td>0.747199</td>\n",
       "      <td>-0.091439</td>\n",
       "      <td>0.080993</td>\n",
       "      <td>-0.410241</td>\n",
       "      <td>-0.095792</td>\n",
       "      <td>-0.767156</td>\n",
       "      <td>-0.884309</td>\n",
       "      <td>0.135654</td>\n",
       "      <td>0.391714</td>\n",
       "    </tr>\n",
       "    <tr>\n",
       "      <th>1</th>\n",
       "      <td>-0.378230</td>\n",
       "      <td>0.020675</td>\n",
       "      <td>-0.214250</td>\n",
       "      <td>0.098960</td>\n",
       "      <td>-0.041037</td>\n",
       "      <td>-0.363816</td>\n",
       "      <td>-0.416052</td>\n",
       "      <td>-0.580672</td>\n",
       "      <td>-0.559773</td>\n",
       "      <td>0.714806</td>\n",
       "      <td>...</td>\n",
       "      <td>-0.400366</td>\n",
       "      <td>-0.640335</td>\n",
       "      <td>-0.128837</td>\n",
       "      <td>0.408512</td>\n",
       "      <td>-0.407679</td>\n",
       "      <td>0.021828</td>\n",
       "      <td>0.267323</td>\n",
       "      <td>0.361537</td>\n",
       "      <td>-0.358411</td>\n",
       "      <td>-0.086113</td>\n",
       "    </tr>\n",
       "    <tr>\n",
       "      <th>2</th>\n",
       "      <td>-0.606212</td>\n",
       "      <td>-0.180809</td>\n",
       "      <td>-0.833119</td>\n",
       "      <td>1.011638</td>\n",
       "      <td>0.295922</td>\n",
       "      <td>-0.643718</td>\n",
       "      <td>-0.128953</td>\n",
       "      <td>-0.072844</td>\n",
       "      <td>-0.679958</td>\n",
       "      <td>0.027816</td>\n",
       "      <td>...</td>\n",
       "      <td>0.873010</td>\n",
       "      <td>-0.500324</td>\n",
       "      <td>0.385455</td>\n",
       "      <td>-0.286214</td>\n",
       "      <td>0.773630</td>\n",
       "      <td>-0.098225</td>\n",
       "      <td>0.688619</td>\n",
       "      <td>0.603213</td>\n",
       "      <td>-0.261284</td>\n",
       "      <td>-0.191337</td>\n",
       "    </tr>\n",
       "    <tr>\n",
       "      <th>3</th>\n",
       "      <td>-0.251855</td>\n",
       "      <td>-2.044336</td>\n",
       "      <td>0.212743</td>\n",
       "      <td>0.665928</td>\n",
       "      <td>0.128701</td>\n",
       "      <td>-1.538612</td>\n",
       "      <td>-0.890787</td>\n",
       "      <td>0.879583</td>\n",
       "      <td>-2.600816</td>\n",
       "      <td>-0.365887</td>\n",
       "      <td>...</td>\n",
       "      <td>1.559049</td>\n",
       "      <td>0.074302</td>\n",
       "      <td>-2.857070</td>\n",
       "      <td>1.381125</td>\n",
       "      <td>0.770150</td>\n",
       "      <td>0.038926</td>\n",
       "      <td>0.238337</td>\n",
       "      <td>-0.291830</td>\n",
       "      <td>-1.186200</td>\n",
       "      <td>-0.049219</td>\n",
       "    </tr>\n",
       "    <tr>\n",
       "      <th>4</th>\n",
       "      <td>-0.192859</td>\n",
       "      <td>0.356676</td>\n",
       "      <td>0.179291</td>\n",
       "      <td>-0.213840</td>\n",
       "      <td>0.098910</td>\n",
       "      <td>0.329794</td>\n",
       "      <td>0.204372</td>\n",
       "      <td>0.176079</td>\n",
       "      <td>0.131563</td>\n",
       "      <td>0.174829</td>\n",
       "      <td>...</td>\n",
       "      <td>-0.354626</td>\n",
       "      <td>0.086868</td>\n",
       "      <td>-0.342481</td>\n",
       "      <td>0.254750</td>\n",
       "      <td>-0.512038</td>\n",
       "      <td>-0.100554</td>\n",
       "      <td>0.101702</td>\n",
       "      <td>0.083504</td>\n",
       "      <td>-0.137349</td>\n",
       "      <td>-0.223174</td>\n",
       "    </tr>\n",
       "  </tbody>\n",
       "</table>\n",
       "<p>5 rows × 42 columns</p>\n",
       "</div>"
      ],
      "text/plain": [
       "         0         1         2         3         4         5         6   \\\n",
       "0  0.678533 -0.182310  0.771391 -0.852345 -0.281520  0.358500  0.088386   \n",
       "1 -0.378230  0.020675 -0.214250  0.098960 -0.041037 -0.363816 -0.416052   \n",
       "2 -0.606212 -0.180809 -0.833119  1.011638  0.295922 -0.643718 -0.128953   \n",
       "3 -0.251855 -2.044336  0.212743  0.665928  0.128701 -1.538612 -0.890787   \n",
       "4 -0.192859  0.356676  0.179291 -0.213840  0.098910  0.329794  0.204372   \n",
       "\n",
       "         7         8         9   ...        32        33        34        35  \\\n",
       "0  0.595032  0.570432 -0.638990  ... -0.440689  0.747199 -0.091439  0.080993   \n",
       "1 -0.580672 -0.559773  0.714806  ... -0.400366 -0.640335 -0.128837  0.408512   \n",
       "2 -0.072844 -0.679958  0.027816  ...  0.873010 -0.500324  0.385455 -0.286214   \n",
       "3  0.879583 -2.600816 -0.365887  ...  1.559049  0.074302 -2.857070  1.381125   \n",
       "4  0.176079  0.131563  0.174829  ... -0.354626  0.086868 -0.342481  0.254750   \n",
       "\n",
       "         36        37        38        39        40        41  \n",
       "0 -0.410241 -0.095792 -0.767156 -0.884309  0.135654  0.391714  \n",
       "1 -0.407679  0.021828  0.267323  0.361537 -0.358411 -0.086113  \n",
       "2  0.773630 -0.098225  0.688619  0.603213 -0.261284 -0.191337  \n",
       "3  0.770150  0.038926  0.238337 -0.291830 -1.186200 -0.049219  \n",
       "4 -0.512038 -0.100554  0.101702  0.083504 -0.137349 -0.223174  \n",
       "\n",
       "[5 rows x 42 columns]"
      ]
     },
     "execution_count": 45,
     "metadata": {},
     "output_type": "execute_result"
    }
   ],
   "source": [
    "cluster_centroids_df = pd.DataFrame(cluster_centroids_array)\n",
    "cluster_centroids_df.head()"
   ]
  },
  {
   "cell_type": "code",
   "execution_count": 46,
   "metadata": {
    "ExecuteTime": {
     "end_time": "2019-07-26T17:11:38.979621Z",
     "start_time": "2019-07-26T17:11:38.976366Z"
    }
   },
   "outputs": [
    {
     "data": {
      "text/plain": [
       "(9, 42)"
      ]
     },
     "execution_count": 46,
     "metadata": {},
     "output_type": "execute_result"
    }
   ],
   "source": [
    "cluster_centroids.shape"
   ]
  },
  {
   "cell_type": "code",
   "execution_count": 47,
   "metadata": {
    "ExecuteTime": {
     "end_time": "2019-07-26T17:11:39.142237Z",
     "start_time": "2019-07-26T17:11:39.139384Z"
    }
   },
   "outputs": [],
   "source": [
    "item_factors_unstacked_transposed = item_factors_unstacked.T"
   ]
  },
  {
   "cell_type": "code",
   "execution_count": 48,
   "metadata": {
    "ExecuteTime": {
     "end_time": "2019-07-26T17:11:39.310434Z",
     "start_time": "2019-07-26T17:11:39.304340Z"
    }
   },
   "outputs": [],
   "source": [
    "centroid_ratings = np.dot(cluster_centroids, item_factors_unstacked_transposed)"
   ]
  },
  {
   "cell_type": "code",
   "execution_count": 49,
   "metadata": {
    "ExecuteTime": {
     "end_time": "2019-07-26T17:11:39.548851Z",
     "start_time": "2019-07-26T17:11:39.527396Z"
    }
   },
   "outputs": [
    {
     "data": {
      "text/html": [
       "<div>\n",
       "<style scoped>\n",
       "    .dataframe tbody tr th:only-of-type {\n",
       "        vertical-align: middle;\n",
       "    }\n",
       "\n",
       "    .dataframe tbody tr th {\n",
       "        vertical-align: top;\n",
       "    }\n",
       "\n",
       "    .dataframe thead th {\n",
       "        text-align: right;\n",
       "    }\n",
       "</style>\n",
       "<table border=\"1\" class=\"dataframe\">\n",
       "  <thead>\n",
       "    <tr style=\"text-align: right;\">\n",
       "      <th></th>\n",
       "      <th>0</th>\n",
       "      <th>1</th>\n",
       "      <th>2</th>\n",
       "      <th>3</th>\n",
       "      <th>4</th>\n",
       "      <th>5</th>\n",
       "      <th>6</th>\n",
       "      <th>7</th>\n",
       "      <th>8</th>\n",
       "      <th>9</th>\n",
       "      <th>...</th>\n",
       "      <th>9714</th>\n",
       "      <th>9715</th>\n",
       "      <th>9716</th>\n",
       "      <th>9717</th>\n",
       "      <th>9718</th>\n",
       "      <th>9719</th>\n",
       "      <th>9720</th>\n",
       "      <th>9721</th>\n",
       "      <th>9722</th>\n",
       "      <th>9723</th>\n",
       "    </tr>\n",
       "  </thead>\n",
       "  <tbody>\n",
       "    <tr>\n",
       "      <th>0</th>\n",
       "      <td>1.419460</td>\n",
       "      <td>2.297098</td>\n",
       "      <td>1.933311</td>\n",
       "      <td>2.048874</td>\n",
       "      <td>2.390016</td>\n",
       "      <td>0.543530</td>\n",
       "      <td>1.867949</td>\n",
       "      <td>2.872471</td>\n",
       "      <td>2.923860</td>\n",
       "      <td>1.879914</td>\n",
       "      <td>...</td>\n",
       "      <td>-0.115580</td>\n",
       "      <td>-0.099068</td>\n",
       "      <td>-0.132091</td>\n",
       "      <td>-0.132091</td>\n",
       "      <td>-0.115580</td>\n",
       "      <td>-0.132091</td>\n",
       "      <td>-0.115580</td>\n",
       "      <td>-0.115580</td>\n",
       "      <td>-0.115580</td>\n",
       "      <td>-1.111468</td>\n",
       "    </tr>\n",
       "    <tr>\n",
       "      <th>1</th>\n",
       "      <td>-0.594107</td>\n",
       "      <td>-0.603628</td>\n",
       "      <td>0.039921</td>\n",
       "      <td>-0.491325</td>\n",
       "      <td>-0.921937</td>\n",
       "      <td>0.832683</td>\n",
       "      <td>-0.869191</td>\n",
       "      <td>-0.733970</td>\n",
       "      <td>-0.644018</td>\n",
       "      <td>0.095740</td>\n",
       "      <td>...</td>\n",
       "      <td>0.611760</td>\n",
       "      <td>0.524365</td>\n",
       "      <td>0.699154</td>\n",
       "      <td>0.699154</td>\n",
       "      <td>0.611760</td>\n",
       "      <td>0.699154</td>\n",
       "      <td>0.611760</td>\n",
       "      <td>0.611760</td>\n",
       "      <td>0.611760</td>\n",
       "      <td>1.198076</td>\n",
       "    </tr>\n",
       "    <tr>\n",
       "      <th>2</th>\n",
       "      <td>-1.216482</td>\n",
       "      <td>-2.116924</td>\n",
       "      <td>-1.560392</td>\n",
       "      <td>-1.630640</td>\n",
       "      <td>-2.231806</td>\n",
       "      <td>-0.996474</td>\n",
       "      <td>-1.375534</td>\n",
       "      <td>-2.758828</td>\n",
       "      <td>-2.773208</td>\n",
       "      <td>-2.398866</td>\n",
       "      <td>...</td>\n",
       "      <td>-0.185576</td>\n",
       "      <td>-0.159065</td>\n",
       "      <td>-0.212086</td>\n",
       "      <td>-0.212086</td>\n",
       "      <td>-0.185576</td>\n",
       "      <td>-0.212086</td>\n",
       "      <td>-0.185576</td>\n",
       "      <td>-0.185576</td>\n",
       "      <td>-0.185576</td>\n",
       "      <td>0.909702</td>\n",
       "    </tr>\n",
       "    <tr>\n",
       "      <th>3</th>\n",
       "      <td>-4.262850</td>\n",
       "      <td>-4.079992</td>\n",
       "      <td>-1.486089</td>\n",
       "      <td>-0.691655</td>\n",
       "      <td>-3.102689</td>\n",
       "      <td>-4.829503</td>\n",
       "      <td>-3.370211</td>\n",
       "      <td>-2.996364</td>\n",
       "      <td>-3.509387</td>\n",
       "      <td>-4.863238</td>\n",
       "      <td>...</td>\n",
       "      <td>-2.611168</td>\n",
       "      <td>-2.238145</td>\n",
       "      <td>-2.984193</td>\n",
       "      <td>-2.984193</td>\n",
       "      <td>-2.611168</td>\n",
       "      <td>-2.984193</td>\n",
       "      <td>-2.611168</td>\n",
       "      <td>-2.611168</td>\n",
       "      <td>-2.611168</td>\n",
       "      <td>-3.925436</td>\n",
       "    </tr>\n",
       "    <tr>\n",
       "      <th>4</th>\n",
       "      <td>1.109469</td>\n",
       "      <td>1.164608</td>\n",
       "      <td>1.105024</td>\n",
       "      <td>0.740584</td>\n",
       "      <td>1.182827</td>\n",
       "      <td>0.991385</td>\n",
       "      <td>0.721774</td>\n",
       "      <td>1.372226</td>\n",
       "      <td>1.114923</td>\n",
       "      <td>1.450737</td>\n",
       "      <td>...</td>\n",
       "      <td>1.090901</td>\n",
       "      <td>0.935058</td>\n",
       "      <td>1.246744</td>\n",
       "      <td>1.246744</td>\n",
       "      <td>1.090901</td>\n",
       "      <td>1.246744</td>\n",
       "      <td>1.090901</td>\n",
       "      <td>1.090901</td>\n",
       "      <td>1.090901</td>\n",
       "      <td>0.772530</td>\n",
       "    </tr>\n",
       "    <tr>\n",
       "      <th>5</th>\n",
       "      <td>-0.177130</td>\n",
       "      <td>-0.401283</td>\n",
       "      <td>-0.617180</td>\n",
       "      <td>-0.217795</td>\n",
       "      <td>-0.520359</td>\n",
       "      <td>-0.138731</td>\n",
       "      <td>0.059441</td>\n",
       "      <td>-0.909625</td>\n",
       "      <td>-0.638697</td>\n",
       "      <td>-0.751590</td>\n",
       "      <td>...</td>\n",
       "      <td>-0.510655</td>\n",
       "      <td>-0.437704</td>\n",
       "      <td>-0.583605</td>\n",
       "      <td>-0.583605</td>\n",
       "      <td>-0.510655</td>\n",
       "      <td>-0.583605</td>\n",
       "      <td>-0.510655</td>\n",
       "      <td>-0.510655</td>\n",
       "      <td>-0.510655</td>\n",
       "      <td>-0.076617</td>\n",
       "    </tr>\n",
       "    <tr>\n",
       "      <th>6</th>\n",
       "      <td>-4.431310</td>\n",
       "      <td>-3.865781</td>\n",
       "      <td>-4.455586</td>\n",
       "      <td>-2.910703</td>\n",
       "      <td>-2.400530</td>\n",
       "      <td>-6.051098</td>\n",
       "      <td>-3.698792</td>\n",
       "      <td>-2.583005</td>\n",
       "      <td>-4.040979</td>\n",
       "      <td>-3.914693</td>\n",
       "      <td>...</td>\n",
       "      <td>-3.320241</td>\n",
       "      <td>-2.845921</td>\n",
       "      <td>-3.794561</td>\n",
       "      <td>-3.794561</td>\n",
       "      <td>-3.320241</td>\n",
       "      <td>-3.794561</td>\n",
       "      <td>-3.320241</td>\n",
       "      <td>-3.320241</td>\n",
       "      <td>-3.320241</td>\n",
       "      <td>-4.269817</td>\n",
       "    </tr>\n",
       "    <tr>\n",
       "      <th>7</th>\n",
       "      <td>-1.282267</td>\n",
       "      <td>-0.935176</td>\n",
       "      <td>-1.194101</td>\n",
       "      <td>-2.306421</td>\n",
       "      <td>-0.905230</td>\n",
       "      <td>-0.954811</td>\n",
       "      <td>-2.108838</td>\n",
       "      <td>0.192503</td>\n",
       "      <td>0.012938</td>\n",
       "      <td>-0.478221</td>\n",
       "      <td>...</td>\n",
       "      <td>-0.244104</td>\n",
       "      <td>-0.209232</td>\n",
       "      <td>-0.278977</td>\n",
       "      <td>-0.278977</td>\n",
       "      <td>-0.244104</td>\n",
       "      <td>-0.278977</td>\n",
       "      <td>-0.244104</td>\n",
       "      <td>-0.244104</td>\n",
       "      <td>-0.244104</td>\n",
       "      <td>-0.748205</td>\n",
       "    </tr>\n",
       "    <tr>\n",
       "      <th>8</th>\n",
       "      <td>-0.677296</td>\n",
       "      <td>-0.783382</td>\n",
       "      <td>-2.064413</td>\n",
       "      <td>-0.878585</td>\n",
       "      <td>-0.205392</td>\n",
       "      <td>-1.035784</td>\n",
       "      <td>-0.205159</td>\n",
       "      <td>-0.652182</td>\n",
       "      <td>-0.096088</td>\n",
       "      <td>0.195004</td>\n",
       "      <td>...</td>\n",
       "      <td>-1.563790</td>\n",
       "      <td>-1.340391</td>\n",
       "      <td>-1.787188</td>\n",
       "      <td>-1.787188</td>\n",
       "      <td>-1.563790</td>\n",
       "      <td>-1.787188</td>\n",
       "      <td>-1.563790</td>\n",
       "      <td>-1.563790</td>\n",
       "      <td>-1.563790</td>\n",
       "      <td>-2.538997</td>\n",
       "    </tr>\n",
       "  </tbody>\n",
       "</table>\n",
       "<p>9 rows × 9724 columns</p>\n",
       "</div>"
      ],
      "text/plain": [
       "       0         1         2         3         4         5         6     \\\n",
       "0  1.419460  2.297098  1.933311  2.048874  2.390016  0.543530  1.867949   \n",
       "1 -0.594107 -0.603628  0.039921 -0.491325 -0.921937  0.832683 -0.869191   \n",
       "2 -1.216482 -2.116924 -1.560392 -1.630640 -2.231806 -0.996474 -1.375534   \n",
       "3 -4.262850 -4.079992 -1.486089 -0.691655 -3.102689 -4.829503 -3.370211   \n",
       "4  1.109469  1.164608  1.105024  0.740584  1.182827  0.991385  0.721774   \n",
       "5 -0.177130 -0.401283 -0.617180 -0.217795 -0.520359 -0.138731  0.059441   \n",
       "6 -4.431310 -3.865781 -4.455586 -2.910703 -2.400530 -6.051098 -3.698792   \n",
       "7 -1.282267 -0.935176 -1.194101 -2.306421 -0.905230 -0.954811 -2.108838   \n",
       "8 -0.677296 -0.783382 -2.064413 -0.878585 -0.205392 -1.035784 -0.205159   \n",
       "\n",
       "       7         8         9     ...      9714      9715      9716      9717  \\\n",
       "0  2.872471  2.923860  1.879914  ... -0.115580 -0.099068 -0.132091 -0.132091   \n",
       "1 -0.733970 -0.644018  0.095740  ...  0.611760  0.524365  0.699154  0.699154   \n",
       "2 -2.758828 -2.773208 -2.398866  ... -0.185576 -0.159065 -0.212086 -0.212086   \n",
       "3 -2.996364 -3.509387 -4.863238  ... -2.611168 -2.238145 -2.984193 -2.984193   \n",
       "4  1.372226  1.114923  1.450737  ...  1.090901  0.935058  1.246744  1.246744   \n",
       "5 -0.909625 -0.638697 -0.751590  ... -0.510655 -0.437704 -0.583605 -0.583605   \n",
       "6 -2.583005 -4.040979 -3.914693  ... -3.320241 -2.845921 -3.794561 -3.794561   \n",
       "7  0.192503  0.012938 -0.478221  ... -0.244104 -0.209232 -0.278977 -0.278977   \n",
       "8 -0.652182 -0.096088  0.195004  ... -1.563790 -1.340391 -1.787188 -1.787188   \n",
       "\n",
       "       9718      9719      9720      9721      9722      9723  \n",
       "0 -0.115580 -0.132091 -0.115580 -0.115580 -0.115580 -1.111468  \n",
       "1  0.611760  0.699154  0.611760  0.611760  0.611760  1.198076  \n",
       "2 -0.185576 -0.212086 -0.185576 -0.185576 -0.185576  0.909702  \n",
       "3 -2.611168 -2.984193 -2.611168 -2.611168 -2.611168 -3.925436  \n",
       "4  1.090901  1.246744  1.090901  1.090901  1.090901  0.772530  \n",
       "5 -0.510655 -0.583605 -0.510655 -0.510655 -0.510655 -0.076617  \n",
       "6 -3.320241 -3.794561 -3.320241 -3.320241 -3.320241 -4.269817  \n",
       "7 -0.244104 -0.278977 -0.244104 -0.244104 -0.244104 -0.748205  \n",
       "8 -1.563790 -1.787188 -1.563790 -1.563790 -1.563790 -2.538997  \n",
       "\n",
       "[9 rows x 9724 columns]"
      ]
     },
     "execution_count": 49,
     "metadata": {},
     "output_type": "execute_result"
    }
   ],
   "source": [
    "centroid_ratings_df = pd.DataFrame(centroid_ratings)\n",
    "centroid_ratings_df.head(n=10)"
   ]
  },
  {
   "cell_type": "code",
   "execution_count": 50,
   "metadata": {
    "ExecuteTime": {
     "end_time": "2019-07-26T17:11:39.775303Z",
     "start_time": "2019-07-26T17:11:39.755470Z"
    }
   },
   "outputs": [
    {
     "data": {
      "text/html": [
       "<div>\n",
       "<style scoped>\n",
       "    .dataframe tbody tr th:only-of-type {\n",
       "        vertical-align: middle;\n",
       "    }\n",
       "\n",
       "    .dataframe tbody tr th {\n",
       "        vertical-align: top;\n",
       "    }\n",
       "\n",
       "    .dataframe thead th {\n",
       "        text-align: right;\n",
       "    }\n",
       "</style>\n",
       "<table border=\"1\" class=\"dataframe\">\n",
       "  <thead>\n",
       "    <tr style=\"text-align: right;\">\n",
       "      <th>id</th>\n",
       "      <th>1</th>\n",
       "      <th>2</th>\n",
       "      <th>3</th>\n",
       "      <th>4</th>\n",
       "      <th>5</th>\n",
       "      <th>6</th>\n",
       "      <th>7</th>\n",
       "      <th>8</th>\n",
       "      <th>9</th>\n",
       "      <th>10</th>\n",
       "      <th>...</th>\n",
       "      <th>193565</th>\n",
       "      <th>193567</th>\n",
       "      <th>193571</th>\n",
       "      <th>193573</th>\n",
       "      <th>193579</th>\n",
       "      <th>193581</th>\n",
       "      <th>193583</th>\n",
       "      <th>193585</th>\n",
       "      <th>193587</th>\n",
       "      <th>193609</th>\n",
       "    </tr>\n",
       "  </thead>\n",
       "  <tbody>\n",
       "    <tr>\n",
       "      <th>0</th>\n",
       "      <td>1.419460</td>\n",
       "      <td>2.297098</td>\n",
       "      <td>1.933311</td>\n",
       "      <td>2.048874</td>\n",
       "      <td>2.390016</td>\n",
       "      <td>0.543530</td>\n",
       "      <td>1.867949</td>\n",
       "      <td>2.872471</td>\n",
       "      <td>2.923860</td>\n",
       "      <td>1.879914</td>\n",
       "      <td>...</td>\n",
       "      <td>-0.115580</td>\n",
       "      <td>-0.099068</td>\n",
       "      <td>-0.132091</td>\n",
       "      <td>-0.132091</td>\n",
       "      <td>-0.115580</td>\n",
       "      <td>-0.132091</td>\n",
       "      <td>-0.115580</td>\n",
       "      <td>-0.115580</td>\n",
       "      <td>-0.115580</td>\n",
       "      <td>-1.111468</td>\n",
       "    </tr>\n",
       "    <tr>\n",
       "      <th>1</th>\n",
       "      <td>-0.594107</td>\n",
       "      <td>-0.603628</td>\n",
       "      <td>0.039921</td>\n",
       "      <td>-0.491325</td>\n",
       "      <td>-0.921937</td>\n",
       "      <td>0.832683</td>\n",
       "      <td>-0.869191</td>\n",
       "      <td>-0.733970</td>\n",
       "      <td>-0.644018</td>\n",
       "      <td>0.095740</td>\n",
       "      <td>...</td>\n",
       "      <td>0.611760</td>\n",
       "      <td>0.524365</td>\n",
       "      <td>0.699154</td>\n",
       "      <td>0.699154</td>\n",
       "      <td>0.611760</td>\n",
       "      <td>0.699154</td>\n",
       "      <td>0.611760</td>\n",
       "      <td>0.611760</td>\n",
       "      <td>0.611760</td>\n",
       "      <td>1.198076</td>\n",
       "    </tr>\n",
       "    <tr>\n",
       "      <th>2</th>\n",
       "      <td>-1.216482</td>\n",
       "      <td>-2.116924</td>\n",
       "      <td>-1.560392</td>\n",
       "      <td>-1.630640</td>\n",
       "      <td>-2.231806</td>\n",
       "      <td>-0.996474</td>\n",
       "      <td>-1.375534</td>\n",
       "      <td>-2.758828</td>\n",
       "      <td>-2.773208</td>\n",
       "      <td>-2.398866</td>\n",
       "      <td>...</td>\n",
       "      <td>-0.185576</td>\n",
       "      <td>-0.159065</td>\n",
       "      <td>-0.212086</td>\n",
       "      <td>-0.212086</td>\n",
       "      <td>-0.185576</td>\n",
       "      <td>-0.212086</td>\n",
       "      <td>-0.185576</td>\n",
       "      <td>-0.185576</td>\n",
       "      <td>-0.185576</td>\n",
       "      <td>0.909702</td>\n",
       "    </tr>\n",
       "    <tr>\n",
       "      <th>3</th>\n",
       "      <td>-4.262850</td>\n",
       "      <td>-4.079992</td>\n",
       "      <td>-1.486089</td>\n",
       "      <td>-0.691655</td>\n",
       "      <td>-3.102689</td>\n",
       "      <td>-4.829503</td>\n",
       "      <td>-3.370211</td>\n",
       "      <td>-2.996364</td>\n",
       "      <td>-3.509387</td>\n",
       "      <td>-4.863238</td>\n",
       "      <td>...</td>\n",
       "      <td>-2.611168</td>\n",
       "      <td>-2.238145</td>\n",
       "      <td>-2.984193</td>\n",
       "      <td>-2.984193</td>\n",
       "      <td>-2.611168</td>\n",
       "      <td>-2.984193</td>\n",
       "      <td>-2.611168</td>\n",
       "      <td>-2.611168</td>\n",
       "      <td>-2.611168</td>\n",
       "      <td>-3.925436</td>\n",
       "    </tr>\n",
       "    <tr>\n",
       "      <th>4</th>\n",
       "      <td>1.109469</td>\n",
       "      <td>1.164608</td>\n",
       "      <td>1.105024</td>\n",
       "      <td>0.740584</td>\n",
       "      <td>1.182827</td>\n",
       "      <td>0.991385</td>\n",
       "      <td>0.721774</td>\n",
       "      <td>1.372226</td>\n",
       "      <td>1.114923</td>\n",
       "      <td>1.450737</td>\n",
       "      <td>...</td>\n",
       "      <td>1.090901</td>\n",
       "      <td>0.935058</td>\n",
       "      <td>1.246744</td>\n",
       "      <td>1.246744</td>\n",
       "      <td>1.090901</td>\n",
       "      <td>1.246744</td>\n",
       "      <td>1.090901</td>\n",
       "      <td>1.090901</td>\n",
       "      <td>1.090901</td>\n",
       "      <td>0.772530</td>\n",
       "    </tr>\n",
       "  </tbody>\n",
       "</table>\n",
       "<p>5 rows × 9724 columns</p>\n",
       "</div>"
      ],
      "text/plain": [
       "id    1         2         3         4         5         6         7       \\\n",
       "0   1.419460  2.297098  1.933311  2.048874  2.390016  0.543530  1.867949   \n",
       "1  -0.594107 -0.603628  0.039921 -0.491325 -0.921937  0.832683 -0.869191   \n",
       "2  -1.216482 -2.116924 -1.560392 -1.630640 -2.231806 -0.996474 -1.375534   \n",
       "3  -4.262850 -4.079992 -1.486089 -0.691655 -3.102689 -4.829503 -3.370211   \n",
       "4   1.109469  1.164608  1.105024  0.740584  1.182827  0.991385  0.721774   \n",
       "\n",
       "id    8         9         10      ...    193565    193567    193571    193573  \\\n",
       "0   2.872471  2.923860  1.879914  ... -0.115580 -0.099068 -0.132091 -0.132091   \n",
       "1  -0.733970 -0.644018  0.095740  ...  0.611760  0.524365  0.699154  0.699154   \n",
       "2  -2.758828 -2.773208 -2.398866  ... -0.185576 -0.159065 -0.212086 -0.212086   \n",
       "3  -2.996364 -3.509387 -4.863238  ... -2.611168 -2.238145 -2.984193 -2.984193   \n",
       "4   1.372226  1.114923  1.450737  ...  1.090901  0.935058  1.246744  1.246744   \n",
       "\n",
       "id    193579    193581    193583    193585    193587    193609  \n",
       "0  -0.115580 -0.132091 -0.115580 -0.115580 -0.115580 -1.111468  \n",
       "1   0.611760  0.699154  0.611760  0.611760  0.611760  1.198076  \n",
       "2  -0.185576 -0.212086 -0.185576 -0.185576 -0.185576  0.909702  \n",
       "3  -2.611168 -2.984193 -2.611168 -2.611168 -2.611168 -3.925436  \n",
       "4   1.090901  1.246744  1.090901  1.090901  1.090901  0.772530  \n",
       "\n",
       "[5 rows x 9724 columns]"
      ]
     },
     "execution_count": 50,
     "metadata": {},
     "output_type": "execute_result"
    }
   ],
   "source": [
    "centroid_ratings_df.columns = item_factors_unstacked.index\n",
    "centroid_ratings_df.head()"
   ]
  },
  {
   "cell_type": "code",
   "execution_count": 51,
   "metadata": {
    "ExecuteTime": {
     "end_time": "2019-07-26T17:11:40.756866Z",
     "start_time": "2019-07-26T17:11:40.745368Z"
    }
   },
   "outputs": [
    {
     "data": {
      "text/html": [
       "<div>\n",
       "<style scoped>\n",
       "    .dataframe tbody tr th:only-of-type {\n",
       "        vertical-align: middle;\n",
       "    }\n",
       "\n",
       "    .dataframe tbody tr th {\n",
       "        vertical-align: top;\n",
       "    }\n",
       "\n",
       "    .dataframe thead th {\n",
       "        text-align: right;\n",
       "    }\n",
       "</style>\n",
       "<table border=\"1\" class=\"dataframe\">\n",
       "  <thead>\n",
       "    <tr style=\"text-align: right;\">\n",
       "      <th></th>\n",
       "      <th>0</th>\n",
       "      <th>1</th>\n",
       "      <th>2</th>\n",
       "      <th>3</th>\n",
       "      <th>4</th>\n",
       "      <th>5</th>\n",
       "      <th>6</th>\n",
       "      <th>7</th>\n",
       "      <th>8</th>\n",
       "    </tr>\n",
       "    <tr>\n",
       "      <th>id</th>\n",
       "      <th></th>\n",
       "      <th></th>\n",
       "      <th></th>\n",
       "      <th></th>\n",
       "      <th></th>\n",
       "      <th></th>\n",
       "      <th></th>\n",
       "      <th></th>\n",
       "      <th></th>\n",
       "    </tr>\n",
       "  </thead>\n",
       "  <tbody>\n",
       "    <tr>\n",
       "      <th>1</th>\n",
       "      <td>1.419460</td>\n",
       "      <td>-0.594107</td>\n",
       "      <td>-1.216482</td>\n",
       "      <td>-4.262850</td>\n",
       "      <td>1.109469</td>\n",
       "      <td>-0.177130</td>\n",
       "      <td>-4.431310</td>\n",
       "      <td>-1.282267</td>\n",
       "      <td>-0.677296</td>\n",
       "    </tr>\n",
       "    <tr>\n",
       "      <th>2</th>\n",
       "      <td>2.297098</td>\n",
       "      <td>-0.603628</td>\n",
       "      <td>-2.116924</td>\n",
       "      <td>-4.079992</td>\n",
       "      <td>1.164608</td>\n",
       "      <td>-0.401283</td>\n",
       "      <td>-3.865781</td>\n",
       "      <td>-0.935176</td>\n",
       "      <td>-0.783382</td>\n",
       "    </tr>\n",
       "    <tr>\n",
       "      <th>3</th>\n",
       "      <td>1.933311</td>\n",
       "      <td>0.039921</td>\n",
       "      <td>-1.560392</td>\n",
       "      <td>-1.486089</td>\n",
       "      <td>1.105024</td>\n",
       "      <td>-0.617180</td>\n",
       "      <td>-4.455586</td>\n",
       "      <td>-1.194101</td>\n",
       "      <td>-2.064413</td>\n",
       "    </tr>\n",
       "    <tr>\n",
       "      <th>4</th>\n",
       "      <td>2.048874</td>\n",
       "      <td>-0.491325</td>\n",
       "      <td>-1.630640</td>\n",
       "      <td>-0.691655</td>\n",
       "      <td>0.740584</td>\n",
       "      <td>-0.217795</td>\n",
       "      <td>-2.910703</td>\n",
       "      <td>-2.306421</td>\n",
       "      <td>-0.878585</td>\n",
       "    </tr>\n",
       "    <tr>\n",
       "      <th>5</th>\n",
       "      <td>2.390016</td>\n",
       "      <td>-0.921937</td>\n",
       "      <td>-2.231806</td>\n",
       "      <td>-3.102689</td>\n",
       "      <td>1.182827</td>\n",
       "      <td>-0.520359</td>\n",
       "      <td>-2.400530</td>\n",
       "      <td>-0.905230</td>\n",
       "      <td>-0.205392</td>\n",
       "    </tr>\n",
       "  </tbody>\n",
       "</table>\n",
       "</div>"
      ],
      "text/plain": [
       "           0         1         2         3         4         5         6  \\\n",
       "id                                                                         \n",
       "1   1.419460 -0.594107 -1.216482 -4.262850  1.109469 -0.177130 -4.431310   \n",
       "2   2.297098 -0.603628 -2.116924 -4.079992  1.164608 -0.401283 -3.865781   \n",
       "3   1.933311  0.039921 -1.560392 -1.486089  1.105024 -0.617180 -4.455586   \n",
       "4   2.048874 -0.491325 -1.630640 -0.691655  0.740584 -0.217795 -2.910703   \n",
       "5   2.390016 -0.921937 -2.231806 -3.102689  1.182827 -0.520359 -2.400530   \n",
       "\n",
       "           7         8  \n",
       "id                      \n",
       "1  -1.282267 -0.677296  \n",
       "2  -0.935176 -0.783382  \n",
       "3  -1.194101 -2.064413  \n",
       "4  -2.306421 -0.878585  \n",
       "5  -0.905230 -0.205392  "
      ]
     },
     "execution_count": 51,
     "metadata": {},
     "output_type": "execute_result"
    }
   ],
   "source": [
    "centroid_ratings_T_df = centroid_ratings_df.transpose()\n",
    "centroid_ratings_T_df.head()"
   ]
  },
  {
   "cell_type": "markdown",
   "metadata": {},
   "source": [
    "# New User Data"
   ]
  },
  {
   "cell_type": "code",
   "execution_count": 52,
   "metadata": {
    "ExecuteTime": {
     "end_time": "2019-07-26T17:11:43.808751Z",
     "start_time": "2019-07-26T17:11:43.252445Z"
    }
   },
   "outputs": [],
   "source": [
    "movies_df = pd.read_csv('../data/test_data/movies.csv')\n",
    "md = movie_ratings.toPandas()\n",
    "R = md.pivot(index='userId', columns='movieId', values='rating')\n",
    "mean_ratings = pd.DataFrame(np.mean(R))\n",
    "mean_ratings = mean_ratings.reset_index()\n",
    "total_recs = (md['movieId'].value_counts()).reset_index()\n",
    "total_recs.columns = ['movieId', 'total_recs']\n",
    "total_recs = total_recs[total_recs['total_recs']>50]\n",
    "most_rated = pd.merge(total_recs, mean_ratings, how='left', on='movieId')\n",
    "most_rated_sorted = most_rated.sort_values(by=0, ascending=False)\n",
    "top_100 = most_rated_sorted[:100]\n",
    "top_100 = pd.merge(top_100, movies_df, how='left', on='movieId')"
   ]
  },
  {
   "cell_type": "code",
   "execution_count": 53,
   "metadata": {
    "ExecuteTime": {
     "end_time": "2019-07-26T17:13:06.046449Z",
     "start_time": "2019-07-26T17:12:12.712501Z"
    }
   },
   "outputs": [
    {
     "name": "stdout",
     "output_type": "stream",
     "text": [
      "Enter a ranking for Departed, The (2006) from 1 (lowest) to 5 (highest). If you have not seen the movie, press enter.\n",
      "Enter a ranking for This Is Spinal Tap (1984) from 1 (lowest) to 5 (highest). If you have not seen the movie, press enter.2\n",
      "Enter a ranking for Apocalypse Now (1979) from 1 (lowest) to 5 (highest). If you have not seen the movie, press enter.5\n",
      "Enter a ranking for Up (2009) from 1 (lowest) to 5 (highest). If you have not seen the movie, press enter.3\n",
      "Enter a ranking for Lord of the Rings: The Return of the King, The (2003) from 1 (lowest) to 5 (highest). If you have not seen the movie, press enter.4\n",
      "Enter a ranking for One Flew Over the Cuckoo's Nest (1975) from 1 (lowest) to 5 (highest). If you have not seen the movie, press enter.5\n",
      "Enter a ranking for Eternal Sunshine of the Spotless Mind (2004) from 1 (lowest) to 5 (highest). If you have not seen the movie, press enter.5\n",
      "Enter a ranking for Dr. Strangelove or: How I Learned to Stop Worrying and Love the Bomb (1964) from 1 (lowest) to 5 (highest). If you have not seen the movie, press enter.3\n",
      "Enter a ranking for American Beauty (1999) from 1 (lowest) to 5 (highest). If you have not seen the movie, press enter.4\n",
      "Enter a ranking for City of God (Cidade de Deus) (2002) from 1 (lowest) to 5 (highest). If you have not seen the movie, press enter.5\n"
     ]
    }
   ],
   "source": [
    "#n_movies_to_rate = input('How many movies would you like to rate?')\n",
    "ranking_list = top_100.sample(n=10, axis=0)\n",
    "ranking_list\n",
    "user_ratings = []\n",
    "for i in list(range(10)):\n",
    "    title = ranking_list['title']\n",
    "    movieId = ranking_list['movieId']\n",
    "    #print(title.iloc[i])\n",
    "    user_rating = input('Enter a ranking for {} from 1 (lowest) to 5 (highest). If you have not seen the movie, press enter.'.format(title.iloc[i]))\n",
    "    if user_rating=='':\n",
    "        pass\n",
    "    else:\n",
    "        user_ratings.append((movieId.iloc[i], user_rating))\n",
    "    "
   ]
  },
  {
   "cell_type": "code",
   "execution_count": 54,
   "metadata": {
    "ExecuteTime": {
     "end_time": "2019-07-26T17:13:10.054924Z",
     "start_time": "2019-07-26T17:13:10.051375Z"
    }
   },
   "outputs": [
    {
     "data": {
      "text/plain": [
       "[(1288, '2'),\n",
       " (1208, '5'),\n",
       " (68954, '3'),\n",
       " (7153, '4'),\n",
       " (1193, '5'),\n",
       " (7361, '5'),\n",
       " (750, '3'),\n",
       " (2858, '4'),\n",
       " (6016, '5')]"
      ]
     },
     "execution_count": 54,
     "metadata": {},
     "output_type": "execute_result"
    }
   ],
   "source": [
    "user_ratings "
   ]
  },
  {
   "cell_type": "markdown",
   "metadata": {},
   "source": [
    "## ALS recommendations"
   ]
  },
  {
   "cell_type": "code",
   "execution_count": 55,
   "metadata": {
    "ExecuteTime": {
     "end_time": "2019-07-26T17:13:12.533992Z",
     "start_time": "2019-07-26T17:13:12.515727Z"
    }
   },
   "outputs": [
    {
     "name": "stderr",
     "output_type": "stream",
     "text": [
      "/anaconda3/envs/FI_final_project/lib/python3.7/site-packages/ipykernel_launcher.py:3: FutureWarning: Method .as_matrix will be removed in a future version. Use .values instead.\n",
      "  This is separate from the ipykernel package so we can avoid doing imports until\n"
     ]
    }
   ],
   "source": [
    "rated_movies = [float(x[0]) for x in user_ratings]\n",
    "rated_item_factor = item_factors_pdf.loc[item_factors_pdf['id'].isin(rated_movies)].pivot(index='id', columns='value', values='features')\n",
    "M = rated_item_factor.as_matrix()\n",
    "E = np.identity(rank)\n",
    "nui = len(rated_movies)\n",
    "regParam = 0.15\n",
    "R = np.array([float(x[1]) for x in user_ratings])"
   ]
  },
  {
   "cell_type": "code",
   "execution_count": 56,
   "metadata": {
    "ExecuteTime": {
     "end_time": "2019-07-26T17:13:12.707122Z",
     "start_time": "2019-07-26T17:13:12.697918Z"
    }
   },
   "outputs": [],
   "source": [
    "A = M.T.dot(M)+regParam*nui*E"
   ]
  },
  {
   "cell_type": "code",
   "execution_count": 57,
   "metadata": {
    "ExecuteTime": {
     "end_time": "2019-07-26T17:13:12.835152Z",
     "start_time": "2019-07-26T17:13:12.832780Z"
    }
   },
   "outputs": [],
   "source": [
    "V = M.T.dot(R.T)"
   ]
  },
  {
   "cell_type": "code",
   "execution_count": 58,
   "metadata": {
    "ExecuteTime": {
     "end_time": "2019-07-26T17:13:12.989845Z",
     "start_time": "2019-07-26T17:13:12.972766Z"
    }
   },
   "outputs": [],
   "source": [
    "user_fac = np.linalg.inv(A).dot(V)"
   ]
  },
  {
   "cell_type": "code",
   "execution_count": 59,
   "metadata": {
    "ExecuteTime": {
     "end_time": "2019-07-26T17:13:13.074371Z",
     "start_time": "2019-07-26T17:13:13.070295Z"
    }
   },
   "outputs": [
    {
     "data": {
      "text/plain": [
       "array([-0.09203151,  0.29479039,  0.42091189, -0.10742081, -0.36209964,\n",
       "       -0.01711731,  0.07104888,  0.36266173, -0.48668226,  0.32135162,\n",
       "       -0.12146437,  0.2856123 ,  0.34642798, -0.03487294,  0.41330082,\n",
       "       -0.27413153, -0.20312488,  0.27627694, -0.03419088, -0.10031512,\n",
       "       -0.57376359, -0.75549356, -0.35536599, -0.18583092,  0.06348513,\n",
       "       -0.33458483,  0.01102381,  0.07277489, -0.46688373,  0.46476753,\n",
       "       -0.00660003, -0.18691758, -0.41391707,  0.02632066, -0.0440613 ,\n",
       "        0.1516207 , -0.17920241, -0.74529775,  0.28156749, -0.12266452,\n",
       "       -0.62889097,  0.60133922])"
      ]
     },
     "execution_count": 59,
     "metadata": {},
     "output_type": "execute_result"
    }
   ],
   "source": [
    "user_fac"
   ]
  },
  {
   "cell_type": "code",
   "execution_count": 60,
   "metadata": {
    "ExecuteTime": {
     "end_time": "2019-07-26T17:13:13.246154Z",
     "start_time": "2019-07-26T17:13:13.241133Z"
    }
   },
   "outputs": [],
   "source": [
    "user_movie_ratings = user_fac.dot(item_factors_unstacked.T)"
   ]
  },
  {
   "cell_type": "code",
   "execution_count": 61,
   "metadata": {
    "ExecuteTime": {
     "end_time": "2019-07-26T17:13:13.374220Z",
     "start_time": "2019-07-26T17:13:13.371747Z"
    }
   },
   "outputs": [],
   "source": [
    "user_movie_ratings_df = pd.DataFrame(user_movie_ratings)"
   ]
  },
  {
   "cell_type": "code",
   "execution_count": 62,
   "metadata": {
    "ExecuteTime": {
     "end_time": "2019-07-26T17:13:13.527748Z",
     "start_time": "2019-07-26T17:13:13.524147Z"
    }
   },
   "outputs": [],
   "source": [
    "user_movie_ratings_df['movieId'] = item_factors_unstacked.T.columns"
   ]
  },
  {
   "cell_type": "code",
   "execution_count": 63,
   "metadata": {
    "ExecuteTime": {
     "end_time": "2019-07-26T17:13:13.738171Z",
     "start_time": "2019-07-26T17:13:13.728636Z"
    }
   },
   "outputs": [
    {
     "data": {
      "text/html": [
       "<div>\n",
       "<style scoped>\n",
       "    .dataframe tbody tr th:only-of-type {\n",
       "        vertical-align: middle;\n",
       "    }\n",
       "\n",
       "    .dataframe tbody tr th {\n",
       "        vertical-align: top;\n",
       "    }\n",
       "\n",
       "    .dataframe thead th {\n",
       "        text-align: right;\n",
       "    }\n",
       "</style>\n",
       "<table border=\"1\" class=\"dataframe\">\n",
       "  <thead>\n",
       "    <tr style=\"text-align: right;\">\n",
       "      <th></th>\n",
       "      <th>0</th>\n",
       "      <th>movieId</th>\n",
       "    </tr>\n",
       "  </thead>\n",
       "  <tbody>\n",
       "    <tr>\n",
       "      <th>5417</th>\n",
       "      <td>4.596660</td>\n",
       "      <td>25906</td>\n",
       "    </tr>\n",
       "    <tr>\n",
       "      <th>7809</th>\n",
       "      <td>4.596660</td>\n",
       "      <td>93008</td>\n",
       "    </tr>\n",
       "    <tr>\n",
       "      <th>7315</th>\n",
       "      <td>4.596660</td>\n",
       "      <td>77846</td>\n",
       "    </tr>\n",
       "    <tr>\n",
       "      <th>6427</th>\n",
       "      <td>4.550322</td>\n",
       "      <td>51931</td>\n",
       "    </tr>\n",
       "    <tr>\n",
       "      <th>2520</th>\n",
       "      <td>4.529834</td>\n",
       "      <td>3379</td>\n",
       "    </tr>\n",
       "    <tr>\n",
       "      <th>7584</th>\n",
       "      <td>4.524590</td>\n",
       "      <td>86781</td>\n",
       "    </tr>\n",
       "    <tr>\n",
       "      <th>9496</th>\n",
       "      <td>4.452215</td>\n",
       "      <td>171495</td>\n",
       "    </tr>\n",
       "    <tr>\n",
       "      <th>4738</th>\n",
       "      <td>4.448744</td>\n",
       "      <td>7071</td>\n",
       "    </tr>\n",
       "    <tr>\n",
       "      <th>8573</th>\n",
       "      <td>4.448744</td>\n",
       "      <td>117531</td>\n",
       "    </tr>\n",
       "    <tr>\n",
       "      <th>8878</th>\n",
       "      <td>4.448744</td>\n",
       "      <td>134796</td>\n",
       "    </tr>\n",
       "    <tr>\n",
       "      <th>7563</th>\n",
       "      <td>4.448744</td>\n",
       "      <td>86237</td>\n",
       "    </tr>\n",
       "    <tr>\n",
       "      <th>9616</th>\n",
       "      <td>4.448744</td>\n",
       "      <td>179135</td>\n",
       "    </tr>\n",
       "    <tr>\n",
       "      <th>8968</th>\n",
       "      <td>4.448744</td>\n",
       "      <td>138966</td>\n",
       "    </tr>\n",
       "    <tr>\n",
       "      <th>9670</th>\n",
       "      <td>4.448744</td>\n",
       "      <td>184245</td>\n",
       "    </tr>\n",
       "    <tr>\n",
       "      <th>5585</th>\n",
       "      <td>4.448744</td>\n",
       "      <td>26928</td>\n",
       "    </tr>\n",
       "    <tr>\n",
       "      <th>7232</th>\n",
       "      <td>4.448744</td>\n",
       "      <td>74226</td>\n",
       "    </tr>\n",
       "    <tr>\n",
       "      <th>5436</th>\n",
       "      <td>4.448744</td>\n",
       "      <td>26073</td>\n",
       "    </tr>\n",
       "    <tr>\n",
       "      <th>7504</th>\n",
       "      <td>4.448744</td>\n",
       "      <td>84273</td>\n",
       "    </tr>\n",
       "    <tr>\n",
       "      <th>5890</th>\n",
       "      <td>4.434281</td>\n",
       "      <td>33649</td>\n",
       "    </tr>\n",
       "    <tr>\n",
       "      <th>4759</th>\n",
       "      <td>4.432965</td>\n",
       "      <td>7096</td>\n",
       "    </tr>\n",
       "    <tr>\n",
       "      <th>6194</th>\n",
       "      <td>4.423740</td>\n",
       "      <td>45503</td>\n",
       "    </tr>\n",
       "    <tr>\n",
       "      <th>944</th>\n",
       "      <td>4.403895</td>\n",
       "      <td>1246</td>\n",
       "    </tr>\n",
       "    <tr>\n",
       "      <th>107</th>\n",
       "      <td>4.374194</td>\n",
       "      <td>123</td>\n",
       "    </tr>\n",
       "    <tr>\n",
       "      <th>1729</th>\n",
       "      <td>4.374015</td>\n",
       "      <td>2324</td>\n",
       "    </tr>\n",
       "    <tr>\n",
       "      <th>877</th>\n",
       "      <td>4.364358</td>\n",
       "      <td>1172</td>\n",
       "    </tr>\n",
       "    <tr>\n",
       "      <th>2579</th>\n",
       "      <td>4.348091</td>\n",
       "      <td>3451</td>\n",
       "    </tr>\n",
       "    <tr>\n",
       "      <th>1110</th>\n",
       "      <td>4.346946</td>\n",
       "      <td>1446</td>\n",
       "    </tr>\n",
       "    <tr>\n",
       "      <th>7347</th>\n",
       "      <td>4.345790</td>\n",
       "      <td>78836</td>\n",
       "    </tr>\n",
       "    <tr>\n",
       "      <th>4384</th>\n",
       "      <td>4.343741</td>\n",
       "      <td>6442</td>\n",
       "    </tr>\n",
       "    <tr>\n",
       "      <th>8272</th>\n",
       "      <td>4.334484</td>\n",
       "      <td>106100</td>\n",
       "    </tr>\n",
       "  </tbody>\n",
       "</table>\n",
       "</div>"
      ],
      "text/plain": [
       "             0  movieId\n",
       "5417  4.596660    25906\n",
       "7809  4.596660    93008\n",
       "7315  4.596660    77846\n",
       "6427  4.550322    51931\n",
       "2520  4.529834     3379\n",
       "7584  4.524590    86781\n",
       "9496  4.452215   171495\n",
       "4738  4.448744     7071\n",
       "8573  4.448744   117531\n",
       "8878  4.448744   134796\n",
       "7563  4.448744    86237\n",
       "9616  4.448744   179135\n",
       "8968  4.448744   138966\n",
       "9670  4.448744   184245\n",
       "5585  4.448744    26928\n",
       "7232  4.448744    74226\n",
       "5436  4.448744    26073\n",
       "7504  4.448744    84273\n",
       "5890  4.434281    33649\n",
       "4759  4.432965     7096\n",
       "6194  4.423740    45503\n",
       "944   4.403895     1246\n",
       "107   4.374194      123\n",
       "1729  4.374015     2324\n",
       "877   4.364358     1172\n",
       "2579  4.348091     3451\n",
       "1110  4.346946     1446\n",
       "7347  4.345790    78836\n",
       "4384  4.343741     6442\n",
       "8272  4.334484   106100"
      ]
     },
     "execution_count": 63,
     "metadata": {},
     "output_type": "execute_result"
    }
   ],
   "source": [
    "user_movie_ratings_df.sort_values(0,ascending=False).head(30)"
   ]
  },
  {
   "cell_type": "code",
   "execution_count": 64,
   "metadata": {
    "ExecuteTime": {
     "end_time": "2019-07-26T17:13:13.926020Z",
     "start_time": "2019-07-26T17:13:13.919403Z"
    }
   },
   "outputs": [],
   "source": [
    "user_top_10 = user_movie_ratings_df.sort_values(0,ascending=False).head(10)"
   ]
  },
  {
   "cell_type": "code",
   "execution_count": 65,
   "metadata": {
    "ExecuteTime": {
     "end_time": "2019-07-26T17:13:14.055325Z",
     "start_time": "2019-07-26T17:13:14.047835Z"
    }
   },
   "outputs": [],
   "source": [
    "user_top_10 = user_top_10.merge(movies_df, how='left', on='movieId')"
   ]
  },
  {
   "cell_type": "code",
   "execution_count": 66,
   "metadata": {
    "ExecuteTime": {
     "end_time": "2019-07-26T17:13:14.476889Z",
     "start_time": "2019-07-26T17:13:14.473526Z"
    }
   },
   "outputs": [],
   "source": [
    "user_top_10.drop([0,'movieId', 'genres'], axis=1, inplace=True)"
   ]
  },
  {
   "cell_type": "code",
   "execution_count": 67,
   "metadata": {
    "ExecuteTime": {
     "end_time": "2019-07-26T17:13:14.848464Z",
     "start_time": "2019-07-26T17:13:14.842751Z"
    }
   },
   "outputs": [
    {
     "data": {
      "text/html": [
       "<div>\n",
       "<style scoped>\n",
       "    .dataframe tbody tr th:only-of-type {\n",
       "        vertical-align: middle;\n",
       "    }\n",
       "\n",
       "    .dataframe tbody tr th {\n",
       "        vertical-align: top;\n",
       "    }\n",
       "\n",
       "    .dataframe thead th {\n",
       "        text-align: right;\n",
       "    }\n",
       "</style>\n",
       "<table border=\"1\" class=\"dataframe\">\n",
       "  <thead>\n",
       "    <tr style=\"text-align: right;\">\n",
       "      <th></th>\n",
       "      <th>title</th>\n",
       "    </tr>\n",
       "  </thead>\n",
       "  <tbody>\n",
       "    <tr>\n",
       "      <th>0</th>\n",
       "      <td>Mr. Skeffington (1944)</td>\n",
       "    </tr>\n",
       "    <tr>\n",
       "      <th>1</th>\n",
       "      <td>Very Potter Sequel, A (2010)</td>\n",
       "    </tr>\n",
       "    <tr>\n",
       "      <th>2</th>\n",
       "      <td>12 Angry Men (1997)</td>\n",
       "    </tr>\n",
       "    <tr>\n",
       "      <th>3</th>\n",
       "      <td>Reign Over Me (2007)</td>\n",
       "    </tr>\n",
       "    <tr>\n",
       "      <th>4</th>\n",
       "      <td>On the Beach (1959)</td>\n",
       "    </tr>\n",
       "    <tr>\n",
       "      <th>5</th>\n",
       "      <td>Incendies (2010)</td>\n",
       "    </tr>\n",
       "    <tr>\n",
       "      <th>6</th>\n",
       "      <td>Cosmos</td>\n",
       "    </tr>\n",
       "    <tr>\n",
       "      <th>7</th>\n",
       "      <td>Woman Under the Influence, A (1974)</td>\n",
       "    </tr>\n",
       "    <tr>\n",
       "      <th>8</th>\n",
       "      <td>Watermark (2014)</td>\n",
       "    </tr>\n",
       "    <tr>\n",
       "      <th>9</th>\n",
       "      <td>Bitter Lake (2015)</td>\n",
       "    </tr>\n",
       "  </tbody>\n",
       "</table>\n",
       "</div>"
      ],
      "text/plain": [
       "                                 title\n",
       "0               Mr. Skeffington (1944)\n",
       "1         Very Potter Sequel, A (2010)\n",
       "2                  12 Angry Men (1997)\n",
       "3                 Reign Over Me (2007)\n",
       "4                  On the Beach (1959)\n",
       "5                     Incendies (2010)\n",
       "6                               Cosmos\n",
       "7  Woman Under the Influence, A (1974)\n",
       "8                     Watermark (2014)\n",
       "9                   Bitter Lake (2015)"
      ]
     },
     "execution_count": 67,
     "metadata": {},
     "output_type": "execute_result"
    }
   ],
   "source": [
    "user_top_10"
   ]
  },
  {
   "cell_type": "markdown",
   "metadata": {},
   "source": [
    "# Predict User's Cluster"
   ]
  },
  {
   "cell_type": "code",
   "execution_count": 68,
   "metadata": {
    "ExecuteTime": {
     "end_time": "2019-07-26T17:13:36.556115Z",
     "start_time": "2019-07-26T17:13:36.552879Z"
    }
   },
   "outputs": [],
   "source": [
    "user_cluster = gs_gbc.predict(user_fac.reshape(1,-1))[0]"
   ]
  },
  {
   "cell_type": "markdown",
   "metadata": {},
   "source": [
    "# Augmented Recommendations"
   ]
  },
  {
   "cell_type": "code",
   "execution_count": 72,
   "metadata": {
    "ExecuteTime": {
     "end_time": "2019-07-26T17:13:48.534699Z",
     "start_time": "2019-07-26T17:13:48.529899Z"
    }
   },
   "outputs": [],
   "source": [
    "def top_rated_movies(cluster):\n",
    "    sorted_ratings = centroid_ratings_T_df[cluster].sort_values(ascending=False)\n",
    "    sorted_ratings_df = sorted_ratings.reset_index()\n",
    "    most_rated_df = pd.merge(most_rated, movies_df, how='left', on='movieId')\n",
    "    most_rated_df.drop(['total_recs', 0], axis=1, inplace=True)\n",
    "    top_movies = pd.merge(sorted_ratings_df, most_rated_df, how='inner', left_on='id', right_on='movieId')\n",
    "    top_movies.columns = ['id', 'rating', 'movieId', 'title', 'genres']\n",
    "    top_10_movies = top_movies.sort_values(by='rating', ascending=False )[:10]\n",
    "    return top_10_movies.title"
   ]
  },
  {
   "cell_type": "code",
   "execution_count": 73,
   "metadata": {
    "ExecuteTime": {
     "end_time": "2019-07-26T17:13:48.839937Z",
     "start_time": "2019-07-26T17:13:48.834920Z"
    }
   },
   "outputs": [],
   "source": [
    "def get_recommendations(user_cluster):\n",
    "    near_clusters = nearest_clusters(user_cluster)\n",
    "    recommendation_set = set()\n",
    "    for index, cluster in enumerate(near_clusters):\n",
    "        if index==0:\n",
    "            recs = np.random.choice(top_rated_movies(cluster), size=6, replace=False)\n",
    "            recommendation_set.update(set(recs))\n",
    "        if index==1:\n",
    "            cluster_unique_top_movies = set(top_rated_movies(cluster)).difference(recommendation_set)\n",
    "            recs = np.random.choice(list(cluster_unique_top_movies), size=4, replace=False)\n",
    "            recommendation_set.update(recs)\n",
    "    print(list(recommendation_set))"
   ]
  },
  {
   "cell_type": "code",
   "execution_count": 80,
   "metadata": {
    "ExecuteTime": {
     "end_time": "2019-07-26T18:44:27.621981Z",
     "start_time": "2019-07-26T18:44:27.593654Z"
    }
   },
   "outputs": [
    {
     "name": "stdout",
     "output_type": "stream",
     "text": [
      "['Shining, The (1980)', 'Patriot, The (2000)', 'Requiem for a Dream (2000)', 'Natural Born Killers (1994)', \"Pirates of the Caribbean: Dead Man's Chest (2006)\", 'Sleepy Hollow (1999)', 'Guardians of the Galaxy (2014)', 'Trainspotting (1996)', 'Eyes Wide Shut (1999)', 'Hangover, The (2009)']\n"
     ]
    }
   ],
   "source": [
    "get_recommendations(5)"
   ]
  },
  {
   "cell_type": "code",
   "execution_count": 81,
   "metadata": {
    "ExecuteTime": {
     "end_time": "2019-07-26T19:02:33.174934Z",
     "start_time": "2019-07-26T19:02:33.150470Z"
    }
   },
   "outputs": [
    {
     "data": {
      "text/plain": [
       "0                                  First Knight (1995)\n",
       "1                                         Congo (1995)\n",
       "2                                       Twister (1996)\n",
       "3    City Slickers II: The Legend of Curly's Gold (...\n",
       "4                                  Broken Arrow (1996)\n",
       "5                                    Armageddon (1998)\n",
       "6                 Independence Day (a.k.a. ID4) (1996)\n",
       "7                                       Top Gun (1986)\n",
       "8                                      Net, The (1995)\n",
       "9                             Miss Congeniality (2000)\n",
       "Name: title, dtype: object"
      ]
     },
     "execution_count": 81,
     "metadata": {},
     "output_type": "execute_result"
    }
   ],
   "source": [
    "top_rated_movies(0)"
   ]
  },
  {
   "cell_type": "code",
   "execution_count": 82,
   "metadata": {
    "ExecuteTime": {
     "end_time": "2019-07-26T19:02:38.621014Z",
     "start_time": "2019-07-26T19:02:38.601069Z"
    }
   },
   "outputs": [
    {
     "data": {
      "text/plain": [
       "0          Eyes Wide Shut (1999)\n",
       "1        Mulholland Drive (2001)\n",
       "2    Natural Born Killers (1994)\n",
       "3            Pulp Fiction (1994)\n",
       "4     Clockwork Orange, A (1971)\n",
       "5            Shining, The (1980)\n",
       "6     Requiem for a Dream (2000)\n",
       "7           Trainspotting (1996)\n",
       "8           Exorcist, The (1973)\n",
       "9           Sleepy Hollow (1999)\n",
       "Name: title, dtype: object"
      ]
     },
     "execution_count": 82,
     "metadata": {},
     "output_type": "execute_result"
    }
   ],
   "source": [
    "top_rated_movies(1)"
   ]
  },
  {
   "cell_type": "code",
   "execution_count": null,
   "metadata": {},
   "outputs": [],
   "source": []
  },
  {
   "cell_type": "code",
   "execution_count": null,
   "metadata": {},
   "outputs": [],
   "source": []
  },
  {
   "cell_type": "code",
   "execution_count": 5,
   "metadata": {
    "ExecuteTime": {
     "end_time": "2019-07-26T14:57:18.489009Z",
     "start_time": "2019-07-26T14:57:17.858356Z"
    }
   },
   "outputs": [],
   "source": [
    "from joblib import dump, load\n",
    "gbc = load('../models/fifp_classification.joblib') \n"
   ]
  },
  {
   "cell_type": "code",
   "execution_count": null,
   "metadata": {},
   "outputs": [],
   "source": []
  }
 ],
 "metadata": {
  "kernelspec": {
   "display_name": "Python 3",
   "language": "python",
   "name": "python3"
  },
  "language_info": {
   "codemirror_mode": {
    "name": "ipython",
    "version": 3
   },
   "file_extension": ".py",
   "mimetype": "text/x-python",
   "name": "python",
   "nbconvert_exporter": "python",
   "pygments_lexer": "ipython3",
   "version": "3.7.3"
  },
  "toc": {
   "base_numbering": 1,
   "nav_menu": {},
   "number_sections": true,
   "sideBar": true,
   "skip_h1_title": false,
   "title_cell": "Table of Contents",
   "title_sidebar": "Contents",
   "toc_cell": false,
   "toc_position": {},
   "toc_section_display": true,
   "toc_window_display": false
  }
 },
 "nbformat": 4,
 "nbformat_minor": 2
}
