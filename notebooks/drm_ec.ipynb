{
 "cells": [
  {
   "cell_type": "markdown",
   "metadata": {},
   "source": [
    "# Primary Notebook"
   ]
  },
  {
   "cell_type": "markdown",
   "metadata": {},
   "source": [
    "## Local Code Imports - Do not delete"
   ]
  },
  {
   "cell_type": "code",
   "execution_count": 1,
   "metadata": {
    "ExecuteTime": {
     "end_time": "2019-07-25T13:11:30.373700Z",
     "start_time": "2019-07-25T13:11:30.360977Z"
    },
    "tags": [
     "hidecode"
    ]
   },
   "outputs": [],
   "source": [
    "# DO NOT REMOVE THESE\n",
    "%load_ext autoreload\n",
    "%autoreload 2"
   ]
  },
  {
   "cell_type": "code",
   "execution_count": 2,
   "metadata": {
    "ExecuteTime": {
     "end_time": "2019-07-25T13:11:30.667929Z",
     "start_time": "2019-07-25T13:11:30.652405Z"
    }
   },
   "outputs": [],
   "source": [
    "# DO NOT REMOVE This\n",
    "%reload_ext autoreload"
   ]
  },
  {
   "cell_type": "code",
   "execution_count": 3,
   "metadata": {
    "ExecuteTime": {
     "end_time": "2019-07-25T13:11:31.055872Z",
     "start_time": "2019-07-25T13:11:31.048172Z"
    }
   },
   "outputs": [],
   "source": [
    "## Uncomment to filter warnings\n",
    "#import warnings\n",
    "#warnings.filterwarnings('ignore')"
   ]
  },
  {
   "cell_type": "code",
   "execution_count": 13,
   "metadata": {
    "ExecuteTime": {
     "end_time": "2019-07-25T13:20:40.183562Z",
     "start_time": "2019-07-25T13:20:40.166210Z"
    }
   },
   "outputs": [],
   "source": [
    "## DO NOT REMOVE\n",
    "## import local src module -\n",
    "## src in this project will contain all your local code\n",
    "## clean_data.py, model.py, visualize.py, custom.py\n",
    "#from src import make_data as mk\n",
    "from src import visualize as viz\n",
    "from src import model as mdl\n",
    "from src import custom as cm\n",
    "#from src import pandas_operators as po\n",
    "\n",
    "#def test_src():\n",
    "    #mk.test_make_data()\n",
    "    #viz.test_viz()\n",
    "    #mdl.test_model()\n",
    "    #po.test_pandas()\n",
    "\n",
    "#    return 1"
   ]
  },
  {
   "cell_type": "code",
   "execution_count": 15,
   "metadata": {
    "ExecuteTime": {
     "end_time": "2019-07-25T13:20:47.103627Z",
     "start_time": "2019-07-25T13:20:47.087186Z"
    }
   },
   "outputs": [],
   "source": [
    "#test_src()"
   ]
  },
  {
   "cell_type": "markdown",
   "metadata": {},
   "source": [
    "## Code Imports"
   ]
  },
  {
   "cell_type": "code",
   "execution_count": 188,
   "metadata": {
    "ExecuteTime": {
     "end_time": "2019-07-26T01:14:22.896207Z",
     "start_time": "2019-07-26T01:14:22.863139Z"
    }
   },
   "outputs": [],
   "source": [
    "## Some standard imports\n",
    "import numpy as np\n",
    "import pandas as pd\n",
    "import matplotlib.pyplot as plt\n",
    "import seaborn as sns\n",
    "from sklearn.preprocessing import StandardScaler\n",
    "from scipy.cluster.hierarchy import dendrogram, linkage\n",
    "from scipy.cluster.hierarchy import cophenet\n",
    "from scipy.spatial.distance import pdist\n",
    "from sklearn.cluster import AgglomerativeClustering\n",
    "from sklearn.neighbors import KernelDensity\n",
    "from sklearn.model_selection import train_test_split\n",
    "from sklearn.metrics import confusion_matrix, accuracy_score\n",
    "from sklearn.ensemble import GradientBoostingClassifier\n",
    "from sklearn.model_selection import GridSearchCV\n",
    "%matplotlib inline"
   ]
  },
  {
   "cell_type": "markdown",
   "metadata": {},
   "source": [
    "# Project Overview"
   ]
  },
  {
   "cell_type": "markdown",
   "metadata": {},
   "source": [
    "# EDA, Data Cleaning & Feature Engineering"
   ]
  },
  {
   "cell_type": "code",
   "execution_count": 82,
   "metadata": {
    "ExecuteTime": {
     "end_time": "2019-07-25T20:12:10.615660Z",
     "start_time": "2019-07-25T20:12:08.784149Z"
    }
   },
   "outputs": [],
   "source": [
    "user_factors = pd.read_csv('../data/processed/user_factors.csv')"
   ]
  },
  {
   "cell_type": "code",
   "execution_count": 165,
   "metadata": {
    "ExecuteTime": {
     "end_time": "2019-07-25T20:53:06.117933Z",
     "start_time": "2019-07-25T20:53:03.385603Z"
    }
   },
   "outputs": [],
   "source": [
    "user_factors_scaled = pd.read_csv('../data/processed/user_factors_scaled.csv')"
   ]
  },
  {
   "cell_type": "markdown",
   "metadata": {},
   "source": [
    "# AWS KMeans Evaluation"
   ]
  },
  {
   "cell_type": "code",
   "execution_count": 42,
   "metadata": {
    "ExecuteTime": {
     "end_time": "2019-07-25T18:13:22.695492Z",
     "start_time": "2019-07-25T18:13:22.673116Z"
    }
   },
   "outputs": [],
   "source": [
    "error = [8113978.666767631, 7354872.282449911, 6779693.947846839, 6494419.943265818, 6161394.18380805, 5969178.495847053, 5775171.418613084, 5586181.465087898, 5459016.548945165, 5320932.3011912545, 5191293.46220535, 5090035.762150701, 4986521.909023397, 4919589.194313965, 4845781.722909153, 4738299.132215889, 4697877.381008717, 4626969.254411039, 4562072.290577676, 4519194.064635965, 4451951.002486911, 4413293.651221422, 4361910.62076177, 4339251.383448499, 4277987.088258287, 4244595.896973764, 4199613.235502976, 4156505.1574725825, 4131992.707043184, 4095312.234922758, 4069049.097594653, 4033434.5349058285, 4011851.7686528624, 3976083.217075855, 3949592.2147446494, 3938039.9457209697, 3899577.4734264542, 3881519.333619226, 3850186.2378393123, 3823198.4054184584, 3808773.2587171667, 3784495.988544207, 3761565.3901316617, 3746975.2839278127, 3723729.6121418993, 3699745.0362992603, 3680091.71095213, 3667951.1618961715, 3653602.1354131224, 3632124.2721405267, 3608965.8957424895, 3593001.8085261723, 3577712.029614562, 3560315.3167280406, 3552552.115932628, 3532308.4953923486, 3511941.7114949734, 3498429.793736455]"
   ]
  },
  {
   "cell_type": "code",
   "execution_count": 43,
   "metadata": {
    "ExecuteTime": {
     "end_time": "2019-07-25T18:13:23.170199Z",
     "start_time": "2019-07-25T18:13:23.150815Z"
    }
   },
   "outputs": [
    {
     "data": {
      "text/plain": [
       "58"
      ]
     },
     "execution_count": 43,
     "metadata": {},
     "output_type": "execute_result"
    }
   ],
   "source": [
    "len(error)"
   ]
  },
  {
   "cell_type": "code",
   "execution_count": 56,
   "metadata": {
    "ExecuteTime": {
     "end_time": "2019-07-25T18:19:15.895505Z",
     "start_time": "2019-07-25T18:19:15.877124Z"
    }
   },
   "outputs": [],
   "source": [
    "cluster = list(range(2, 60))"
   ]
  },
  {
   "cell_type": "code",
   "execution_count": 51,
   "metadata": {
    "ExecuteTime": {
     "end_time": "2019-07-25T18:14:17.911138Z",
     "start_time": "2019-07-25T18:14:17.795969Z"
    }
   },
   "outputs": [
    {
     "data": {
      "image/png": "[encoded data removed]",
      "text/plain": [
       "<Figure size 432x288 with 1 Axes>"
      ]
     },
     "metadata": {
      "needs_background": "light"
     },
     "output_type": "display_data"
    }
   ],
   "source": [
    "plt.plot(cluster, error);"
   ]
  },
  {
   "cell_type": "code",
   "execution_count": 58,
   "metadata": {
    "ExecuteTime": {
     "end_time": "2019-07-25T18:19:40.682266Z",
     "start_time": "2019-07-25T18:19:40.663477Z"
    }
   },
   "outputs": [],
   "source": [
    "error_diff = []\n",
    "for i in list(range(0,56)):\n",
    "    diff = error[i]-error[i+1]\n",
    "    error_diff.append(diff)"
   ]
  },
  {
   "cell_type": "code",
   "execution_count": 59,
   "metadata": {
    "ExecuteTime": {
     "end_time": "2019-07-25T18:19:41.438905Z",
     "start_time": "2019-07-25T18:19:41.420018Z"
    }
   },
   "outputs": [],
   "source": [
    "cluster_diff = list(range(2, len(error_diff)+2))"
   ]
  },
  {
   "cell_type": "code",
   "execution_count": 60,
   "metadata": {
    "ExecuteTime": {
     "end_time": "2019-07-25T18:19:42.053887Z",
     "start_time": "2019-07-25T18:19:41.932302Z"
    },
    "scrolled": true
   },
   "outputs": [
    {
     "data": {
      "image/png": "[encoded data removed]",
      "text/plain": [
       "<Figure size 432x288 with 1 Axes>"
      ]
     },
     "metadata": {
      "needs_background": "light"
     },
     "output_type": "display_data"
    }
   ],
   "source": [
    "plt.plot(cluster_diff, error_diff);"
   ]
  },
  {
   "cell_type": "markdown",
   "metadata": {},
   "source": [
    "# KMeans Model"
   ]
  },
  {
   "cell_type": "code",
   "execution_count": 190,
   "metadata": {
    "ExecuteTime": {
     "end_time": "2019-07-26T01:39:48.436447Z",
     "start_time": "2019-07-26T01:39:48.416390Z"
    }
   },
   "outputs": [],
   "source": [
    "from sklearn.cluster import KMeans\n",
    "kmeans = KMeans(n_clusters = 9)"
   ]
  },
  {
   "cell_type": "code",
   "execution_count": 191,
   "metadata": {
    "ExecuteTime": {
     "end_time": "2019-07-26T01:40:09.540572Z",
     "start_time": "2019-07-26T01:39:49.959513Z"
    },
    "scrolled": true
   },
   "outputs": [
    {
     "data": {
      "text/plain": [
       "KMeans(algorithm='auto', copy_x=True, init='k-means++', max_iter=300,\n",
       "    n_clusters=9, n_init=10, n_jobs=None, precompute_distances='auto',\n",
       "    random_state=None, tol=0.0001, verbose=0)"
      ]
     },
     "execution_count": 191,
     "metadata": {},
     "output_type": "execute_result"
    }
   ],
   "source": [
    "kmeans.fit(user_factors_scaled)"
   ]
  },
  {
   "cell_type": "code",
   "execution_count": 192,
   "metadata": {
    "ExecuteTime": {
     "end_time": "2019-07-26T01:40:12.186234Z",
     "start_time": "2019-07-26T01:40:12.090717Z"
    }
   },
   "outputs": [],
   "source": [
    "preds = kmeans.predict(user_factors_scaled)"
   ]
  },
  {
   "cell_type": "markdown",
   "metadata": {},
   "source": [
    "# Gradient Boosting Machine"
   ]
  },
  {
   "cell_type": "code",
   "execution_count": 193,
   "metadata": {
    "ExecuteTime": {
     "end_time": "2019-07-26T01:40:15.515392Z",
     "start_time": "2019-07-26T01:40:15.468015Z"
    },
    "scrolled": false
   },
   "outputs": [
    {
     "data": {
      "text/html": [
       "<div>\n",
       "<style scoped>\n",
       "    .dataframe tbody tr th:only-of-type {\n",
       "        vertical-align: middle;\n",
       "    }\n",
       "\n",
       "    .dataframe tbody tr th {\n",
       "        vertical-align: top;\n",
       "    }\n",
       "\n",
       "    .dataframe thead th {\n",
       "        text-align: right;\n",
       "    }\n",
       "</style>\n",
       "<table border=\"1\" class=\"dataframe\">\n",
       "  <thead>\n",
       "    <tr style=\"text-align: right;\">\n",
       "      <th></th>\n",
       "      <th>id</th>\n",
       "      <th>1</th>\n",
       "      <th>2</th>\n",
       "      <th>3</th>\n",
       "      <th>4</th>\n",
       "      <th>5</th>\n",
       "      <th>6</th>\n",
       "      <th>7</th>\n",
       "      <th>8</th>\n",
       "      <th>9</th>\n",
       "      <th>...</th>\n",
       "      <th>34</th>\n",
       "      <th>35</th>\n",
       "      <th>36</th>\n",
       "      <th>37</th>\n",
       "      <th>38</th>\n",
       "      <th>39</th>\n",
       "      <th>40</th>\n",
       "      <th>41</th>\n",
       "      <th>42</th>\n",
       "      <th>cluster</th>\n",
       "    </tr>\n",
       "  </thead>\n",
       "  <tbody>\n",
       "    <tr>\n",
       "      <th>0</th>\n",
       "      <td>1</td>\n",
       "      <td>-0.380470</td>\n",
       "      <td>0.103641</td>\n",
       "      <td>0.310486</td>\n",
       "      <td>0.078450</td>\n",
       "      <td>0.129363</td>\n",
       "      <td>-0.033363</td>\n",
       "      <td>0.030401</td>\n",
       "      <td>-0.360824</td>\n",
       "      <td>-0.213137</td>\n",
       "      <td>...</td>\n",
       "      <td>-0.480875</td>\n",
       "      <td>0.194733</td>\n",
       "      <td>0.479119</td>\n",
       "      <td>0.328390</td>\n",
       "      <td>-0.123725</td>\n",
       "      <td>-0.188246</td>\n",
       "      <td>-0.525000</td>\n",
       "      <td>-0.133443</td>\n",
       "      <td>-0.167593</td>\n",
       "      <td>4</td>\n",
       "    </tr>\n",
       "    <tr>\n",
       "      <th>1</th>\n",
       "      <td>2</td>\n",
       "      <td>-0.226508</td>\n",
       "      <td>0.167774</td>\n",
       "      <td>0.536940</td>\n",
       "      <td>0.235142</td>\n",
       "      <td>-0.036765</td>\n",
       "      <td>0.118235</td>\n",
       "      <td>0.024486</td>\n",
       "      <td>-0.449235</td>\n",
       "      <td>-0.145772</td>\n",
       "      <td>...</td>\n",
       "      <td>-0.314272</td>\n",
       "      <td>0.170148</td>\n",
       "      <td>0.567598</td>\n",
       "      <td>0.492936</td>\n",
       "      <td>-0.072118</td>\n",
       "      <td>-0.063404</td>\n",
       "      <td>-0.715515</td>\n",
       "      <td>0.038176</td>\n",
       "      <td>-0.056638</td>\n",
       "      <td>4</td>\n",
       "    </tr>\n",
       "    <tr>\n",
       "      <th>2</th>\n",
       "      <td>3</td>\n",
       "      <td>-0.240955</td>\n",
       "      <td>0.179579</td>\n",
       "      <td>0.439598</td>\n",
       "      <td>0.231143</td>\n",
       "      <td>0.003269</td>\n",
       "      <td>0.110166</td>\n",
       "      <td>0.018843</td>\n",
       "      <td>-0.457156</td>\n",
       "      <td>-0.184155</td>\n",
       "      <td>...</td>\n",
       "      <td>-0.375902</td>\n",
       "      <td>0.142993</td>\n",
       "      <td>0.607431</td>\n",
       "      <td>0.525451</td>\n",
       "      <td>-0.006926</td>\n",
       "      <td>-0.018648</td>\n",
       "      <td>-0.715832</td>\n",
       "      <td>0.011471</td>\n",
       "      <td>-0.136575</td>\n",
       "      <td>4</td>\n",
       "    </tr>\n",
       "    <tr>\n",
       "      <th>3</th>\n",
       "      <td>4</td>\n",
       "      <td>-0.271722</td>\n",
       "      <td>0.041331</td>\n",
       "      <td>0.368844</td>\n",
       "      <td>-0.016227</td>\n",
       "      <td>0.102699</td>\n",
       "      <td>0.047941</td>\n",
       "      <td>0.020815</td>\n",
       "      <td>-0.335555</td>\n",
       "      <td>-0.272367</td>\n",
       "      <td>...</td>\n",
       "      <td>-0.530468</td>\n",
       "      <td>0.179969</td>\n",
       "      <td>0.527210</td>\n",
       "      <td>0.440110</td>\n",
       "      <td>0.124539</td>\n",
       "      <td>-0.082171</td>\n",
       "      <td>-0.663929</td>\n",
       "      <td>-0.065500</td>\n",
       "      <td>-0.327186</td>\n",
       "      <td>4</td>\n",
       "    </tr>\n",
       "    <tr>\n",
       "      <th>4</th>\n",
       "      <td>5</td>\n",
       "      <td>-0.368851</td>\n",
       "      <td>0.104798</td>\n",
       "      <td>0.349379</td>\n",
       "      <td>0.013516</td>\n",
       "      <td>0.070510</td>\n",
       "      <td>0.036399</td>\n",
       "      <td>-0.017281</td>\n",
       "      <td>-0.401808</td>\n",
       "      <td>-0.266340</td>\n",
       "      <td>...</td>\n",
       "      <td>-0.581576</td>\n",
       "      <td>0.247609</td>\n",
       "      <td>0.590982</td>\n",
       "      <td>0.318466</td>\n",
       "      <td>0.053089</td>\n",
       "      <td>-0.191376</td>\n",
       "      <td>-0.671003</td>\n",
       "      <td>-0.065487</td>\n",
       "      <td>-0.266448</td>\n",
       "      <td>4</td>\n",
       "    </tr>\n",
       "  </tbody>\n",
       "</table>\n",
       "<p>5 rows × 44 columns</p>\n",
       "</div>"
      ],
      "text/plain": [
       "   id         1         2         3         4         5         6         7  \\\n",
       "0   1 -0.380470  0.103641  0.310486  0.078450  0.129363 -0.033363  0.030401   \n",
       "1   2 -0.226508  0.167774  0.536940  0.235142 -0.036765  0.118235  0.024486   \n",
       "2   3 -0.240955  0.179579  0.439598  0.231143  0.003269  0.110166  0.018843   \n",
       "3   4 -0.271722  0.041331  0.368844 -0.016227  0.102699  0.047941  0.020815   \n",
       "4   5 -0.368851  0.104798  0.349379  0.013516  0.070510  0.036399 -0.017281   \n",
       "\n",
       "          8         9  ...        34        35        36        37        38  \\\n",
       "0 -0.360824 -0.213137  ... -0.480875  0.194733  0.479119  0.328390 -0.123725   \n",
       "1 -0.449235 -0.145772  ... -0.314272  0.170148  0.567598  0.492936 -0.072118   \n",
       "2 -0.457156 -0.184155  ... -0.375902  0.142993  0.607431  0.525451 -0.006926   \n",
       "3 -0.335555 -0.272367  ... -0.530468  0.179969  0.527210  0.440110  0.124539   \n",
       "4 -0.401808 -0.266340  ... -0.581576  0.247609  0.590982  0.318466  0.053089   \n",
       "\n",
       "         39        40        41        42  cluster  \n",
       "0 -0.188246 -0.525000 -0.133443 -0.167593        4  \n",
       "1 -0.063404 -0.715515  0.038176 -0.056638        4  \n",
       "2 -0.018648 -0.715832  0.011471 -0.136575        4  \n",
       "3 -0.082171 -0.663929 -0.065500 -0.327186        4  \n",
       "4 -0.191376 -0.671003 -0.065487 -0.266448        4  \n",
       "\n",
       "[5 rows x 44 columns]"
      ]
     },
     "execution_count": 193,
     "metadata": {},
     "output_type": "execute_result"
    }
   ],
   "source": [
    "preds_df = pd.DataFrame(preds, columns=['cluster'])\n",
    "user_factors_with_preds = user_factors.copy()\n",
    "user_factors_with_preds['cluster'] = preds_df\n",
    "user_factors_with_preds.head()"
   ]
  },
  {
   "cell_type": "code",
   "execution_count": 194,
   "metadata": {
    "ExecuteTime": {
     "end_time": "2019-07-26T01:40:20.515413Z",
     "start_time": "2019-07-26T01:40:20.493611Z"
    }
   },
   "outputs": [
    {
     "data": {
      "text/plain": [
       "(243658, 243658, 243658)"
      ]
     },
     "execution_count": 194,
     "metadata": {},
     "output_type": "execute_result"
    }
   ],
   "source": [
    "len(user_factors_scaled), len(user_factors), len(preds)"
   ]
  },
  {
   "cell_type": "code",
   "execution_count": 195,
   "metadata": {
    "ExecuteTime": {
     "end_time": "2019-07-26T01:40:23.820674Z",
     "start_time": "2019-07-26T01:40:23.778770Z"
    }
   },
   "outputs": [],
   "source": [
    "X = user_factors_with_preds.drop(['id', 'cluster'], axis=1)"
   ]
  },
  {
   "cell_type": "code",
   "execution_count": 196,
   "metadata": {
    "ExecuteTime": {
     "end_time": "2019-07-26T01:40:24.465602Z",
     "start_time": "2019-07-26T01:40:24.445532Z"
    }
   },
   "outputs": [],
   "source": [
    "y = preds"
   ]
  },
  {
   "cell_type": "code",
   "execution_count": 197,
   "metadata": {
    "ExecuteTime": {
     "end_time": "2019-07-26T01:40:25.542836Z",
     "start_time": "2019-07-26T01:40:25.437605Z"
    }
   },
   "outputs": [],
   "source": [
    "X_train, X_test, y_train, y_test = train_test_split(X, y, random_state=142, shuffle=True)"
   ]
  },
  {
   "cell_type": "code",
   "execution_count": 198,
   "metadata": {
    "ExecuteTime": {
     "end_time": "2019-07-26T01:48:33.336645Z",
     "start_time": "2019-07-26T01:40:29.576840Z"
    }
   },
   "outputs": [
    {
     "data": {
      "text/plain": [
       "(0.11213986702782566, 0.17308460515587465)"
      ]
     },
     "execution_count": 198,
     "metadata": {},
     "output_type": "execute_result"
    }
   ],
   "source": [
    "gbc = GradientBoostingClassifier()\n",
    "param_grid = {'learning_rate':[.15], \n",
    "             'max_depth': [5],\n",
    "             'min_samples_split': [25],\n",
    "             'n_estimators': [41],\n",
    "             'max_features': [7]}\n",
    "gs_gbc = GridSearchCV(gbc, param_grid, cv=5)\n",
    "gs_gbc.fit(X_train, y_train)\n",
    "gbc_train_preds = gs_gbc.predict(X_train)\n",
    "gbc_test_preds = gs_gbc.predict(X_test)\n",
    "accuracy_score(y_test, gbc_test_preds), accuracy_score(y_train, gbc_train_preds)"
   ]
  },
  {
   "cell_type": "code",
   "execution_count": 199,
   "metadata": {
    "ExecuteTime": {
     "end_time": "2019-07-26T01:54:40.765473Z",
     "start_time": "2019-07-26T01:54:40.583098Z"
    }
   },
   "outputs": [
    {
     "name": "stdout",
     "output_type": "stream",
     "text": [
      "[[ 906  345 1066  583  564  977  855  921  525]\n",
      " [ 880  362 1052  663  645 1050  807  831  563]\n",
      " [ 868  356 1024  626  630  979  856  904  546]\n",
      " [ 891  322 1037  647  587 1065  824  914  545]\n",
      " [ 828  315 1055  663  616 1101  834  873  516]\n",
      " [ 862  334  976  652  581 1023  852  877  509]\n",
      " [ 875  350 1091  669  621  989  780  895  513]\n",
      " [ 862  348 1051  657  605  960  797  956  537]\n",
      " [ 867  318 1018  622  623 1013  789  909  517]]\n",
      "[[4026  941 2958 1770 1703 2815 2279 2499 1469]\n",
      " [2538 2037 3067 1823 1667 2831 2250 2502 1377]\n",
      " [2511  862 4474 1750 1689 2935 2250 2579 1431]\n",
      " [2413  882 3005 3137 1633 2810 2282 2565 1514]\n",
      " [2488  898 2910 1736 3066 2768 2208 2516 1485]\n",
      " [2441  860 2962 1746 1652 4498 2239 2484 1456]\n",
      " [2552  919 3025 1797 1655 2823 3742 2509 1442]\n",
      " [2520  922 3070 1780 1629 2876 2240 3871 1461]\n",
      " [2536  932 3088 1734 1572 2811 2244 2527 2779]]\n"
     ]
    }
   ],
   "source": [
    "print(confusion_matrix(y_test, gbc_test_preds))\n",
    "print(confusion_matrix(y_train, gbc_train_preds))"
   ]
  },
  {
   "cell_type": "code",
   "execution_count": null,
   "metadata": {},
   "outputs": [],
   "source": []
  },
  {
   "cell_type": "code",
   "execution_count": null,
   "metadata": {},
   "outputs": [],
   "source": []
  },
  {
   "cell_type": "code",
   "execution_count": 177,
   "metadata": {
    "ExecuteTime": {
     "end_time": "2019-07-25T23:22:40.938154Z",
     "start_time": "2019-07-25T23:22:40.899132Z"
    }
   },
   "outputs": [
    {
     "ename": "AttributeError",
     "evalue": "'DataFrame' object has no attribute 'value_counts'",
     "output_type": "error",
     "traceback": [
      "\u001b[0;31m---------------------------------------------------------------------------\u001b[0m",
      "\u001b[0;31mAttributeError\u001b[0m                            Traceback (most recent call last)",
      "\u001b[0;32m<ipython-input-177-3d1fed58b86b>\u001b[0m in \u001b[0;36m<module>\u001b[0;34m\u001b[0m\n\u001b[0;32m----> 1\u001b[0;31m \u001b[0my\u001b[0m\u001b[0;34m.\u001b[0m\u001b[0mvalue_counts\u001b[0m\u001b[0;34m(\u001b[0m\u001b[0;34m)\u001b[0m\u001b[0;34m\u001b[0m\u001b[0;34m\u001b[0m\u001b[0m\n\u001b[0m",
      "\u001b[0;32m/anaconda3/lib/python3.7/site-packages/pandas/core/generic.py\u001b[0m in \u001b[0;36m__getattr__\u001b[0;34m(self, name)\u001b[0m\n\u001b[1;32m   5065\u001b[0m             \u001b[0;32mif\u001b[0m \u001b[0mself\u001b[0m\u001b[0;34m.\u001b[0m\u001b[0m_info_axis\u001b[0m\u001b[0;34m.\u001b[0m\u001b[0m_can_hold_identifiers_and_holds_name\u001b[0m\u001b[0;34m(\u001b[0m\u001b[0mname\u001b[0m\u001b[0;34m)\u001b[0m\u001b[0;34m:\u001b[0m\u001b[0;34m\u001b[0m\u001b[0;34m\u001b[0m\u001b[0m\n\u001b[1;32m   5066\u001b[0m                 \u001b[0;32mreturn\u001b[0m \u001b[0mself\u001b[0m\u001b[0;34m[\u001b[0m\u001b[0mname\u001b[0m\u001b[0;34m]\u001b[0m\u001b[0;34m\u001b[0m\u001b[0;34m\u001b[0m\u001b[0m\n\u001b[0;32m-> 5067\u001b[0;31m             \u001b[0;32mreturn\u001b[0m \u001b[0mobject\u001b[0m\u001b[0;34m.\u001b[0m\u001b[0m__getattribute__\u001b[0m\u001b[0;34m(\u001b[0m\u001b[0mself\u001b[0m\u001b[0;34m,\u001b[0m \u001b[0mname\u001b[0m\u001b[0;34m)\u001b[0m\u001b[0;34m\u001b[0m\u001b[0;34m\u001b[0m\u001b[0m\n\u001b[0m\u001b[1;32m   5068\u001b[0m \u001b[0;34m\u001b[0m\u001b[0m\n\u001b[1;32m   5069\u001b[0m     \u001b[0;32mdef\u001b[0m \u001b[0m__setattr__\u001b[0m\u001b[0;34m(\u001b[0m\u001b[0mself\u001b[0m\u001b[0;34m,\u001b[0m \u001b[0mname\u001b[0m\u001b[0;34m,\u001b[0m \u001b[0mvalue\u001b[0m\u001b[0;34m)\u001b[0m\u001b[0;34m:\u001b[0m\u001b[0;34m\u001b[0m\u001b[0;34m\u001b[0m\u001b[0m\n",
      "\u001b[0;31mAttributeError\u001b[0m: 'DataFrame' object has no attribute 'value_counts'"
     ]
    }
   ],
   "source": [
    "y.value_counts()"
   ]
  },
  {
   "cell_type": "code",
   "execution_count": 152,
   "metadata": {
    "ExecuteTime": {
     "end_time": "2019-07-25T20:47:49.741475Z",
     "start_time": "2019-07-25T20:47:49.603859Z"
    }
   },
   "outputs": [
    {
     "data": {
      "text/plain": [
       "12    771330\n",
       "6     710936\n",
       "15    688117\n",
       "14    670582\n",
       "9     665670\n",
       "5     665596\n",
       "2     665459\n",
       "16    595618\n",
       "8     583660\n",
       "3     571562\n",
       "1     498176\n",
       "10    491085\n",
       "13    488026\n",
       "7     480531\n",
       "17    463126\n",
       "11    460582\n",
       "4     438442\n",
       "0     325138\n",
       "Name: cluster, dtype: int64"
      ]
     },
     "execution_count": 152,
     "metadata": {},
     "output_type": "execute_result"
    }
   ],
   "source": [
    "preds_df['cluster'].value_counts()"
   ]
  },
  {
   "cell_type": "code",
   "execution_count": null,
   "metadata": {},
   "outputs": [],
   "source": []
  }
 ],
 "metadata": {
  "kernelspec": {
   "display_name": "Python 3",
   "language": "python",
   "name": "python3"
  },
  "language_info": {
   "codemirror_mode": {
    "name": "ipython",
    "version": 3
   },
   "file_extension": ".py",
   "mimetype": "text/x-python",
   "name": "python",
   "nbconvert_exporter": "python",
   "pygments_lexer": "ipython3",
   "version": "3.7.3"
  },
  "toc": {
   "base_numbering": 1,
   "nav_menu": {},
   "number_sections": true,
   "sideBar": true,
   "skip_h1_title": false,
   "title_cell": "Table of Contents",
   "title_sidebar": "Contents",
   "toc_cell": false,
   "toc_position": {},
   "toc_section_display": true,
   "toc_window_display": false
  },
  "varInspector": {
   "cols": {
    "lenName": 16,
    "lenType": 16,
    "lenVar": 40
   },
   "kernels_config": {
    "python": {
     "delete_cmd_postfix": "",
     "delete_cmd_prefix": "del ",
     "library": "var_list.py",
     "varRefreshCmd": "print(var_dic_list())"
    },
    "r": {
     "delete_cmd_postfix": ") ",
     "delete_cmd_prefix": "rm(",
     "library": "var_list.r",
     "varRefreshCmd": "cat(var_dic_list()) "
    }
   },
   "types_to_exclude": [
    "module",
    "function",
    "builtin_function_or_method",
    "instance",
    "_Feature"
   ],
   "window_display": false
  }
 },
 "nbformat": 4,
 "nbformat_minor": 2
}
