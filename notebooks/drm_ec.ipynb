{
 "cells": [
  {
   "cell_type": "markdown",
   "metadata": {},
   "source": [
    "# Primary Notebook"
   ]
  },
  {
   "cell_type": "markdown",
   "metadata": {},
   "source": [
    "## Local Code Imports - Do not delete"
   ]
  },
  {
   "cell_type": "code",
   "execution_count": 1,
   "metadata": {
    "ExecuteTime": {
     "end_time": "2019-07-29T15:41:38.173749Z",
     "start_time": "2019-07-29T15:41:38.156694Z"
    },
    "tags": [
     "hidecode"
    ]
   },
   "outputs": [],
   "source": [
    "# DO NOT REMOVE THESE\n",
    "%load_ext autoreload\n",
    "%autoreload 2"
   ]
  },
  {
   "cell_type": "code",
   "execution_count": 2,
   "metadata": {
    "ExecuteTime": {
     "end_time": "2019-07-29T15:41:38.456717Z",
     "start_time": "2019-07-29T15:41:38.431487Z"
    }
   },
   "outputs": [],
   "source": [
    "# DO NOT REMOVE This\n",
    "%reload_ext autoreload"
   ]
  },
  {
   "cell_type": "code",
   "execution_count": 3,
   "metadata": {
    "ExecuteTime": {
     "end_time": "2019-07-29T15:41:38.766841Z",
     "start_time": "2019-07-29T15:41:38.753942Z"
    }
   },
   "outputs": [],
   "source": [
    "# Uncomment to filter warnings\n",
    "import warnings\n",
    "warnings.filterwarnings('ignore')"
   ]
  },
  {
   "cell_type": "code",
   "execution_count": 4,
   "metadata": {
    "ExecuteTime": {
     "end_time": "2019-07-29T15:41:39.665123Z",
     "start_time": "2019-07-29T15:41:39.089828Z"
    }
   },
   "outputs": [],
   "source": [
    "# DO NOT REMOVE\n",
    "# import local src module -\n",
    "from src import recapp as ra"
   ]
  },
  {
   "cell_type": "markdown",
   "metadata": {},
   "source": [
    "# EDA, Data Cleaning & Feature Engineering"
   ]
  },
  {
   "cell_type": "code",
   "execution_count": null,
   "metadata": {
    "ExecuteTime": {
     "end_time": "2019-07-26T12:56:43.825320Z",
     "start_time": "2019-07-26T12:56:42.140193Z"
    }
   },
   "outputs": [],
   "source": [
    "user_factors = pd.read_csv('../data/processed/user_factors_unstacked.csv')"
   ]
  },
  {
   "cell_type": "code",
   "execution_count": null,
   "metadata": {
    "ExecuteTime": {
     "end_time": "2019-07-26T12:56:47.178563Z",
     "start_time": "2019-07-26T12:56:44.923947Z"
    }
   },
   "outputs": [],
   "source": [
    "user_factors_scaled = pd.read_csv('../data/processed/user_factors_scaled.csv')"
   ]
  },
  {
   "cell_type": "code",
   "execution_count": null,
   "metadata": {
    "ExecuteTime": {
     "end_time": "2019-07-26T13:16:08.841508Z",
     "start_time": "2019-07-26T13:16:08.768880Z"
    }
   },
   "outputs": [],
   "source": [
    "user_factors_scaled.drop(['Unnamed: 0'], axis=1, inplace=True)"
   ]
  },
  {
   "cell_type": "code",
   "execution_count": null,
   "metadata": {
    "ExecuteTime": {
     "end_time": "2019-07-26T16:01:34.983532Z",
     "start_time": "2019-07-26T16:01:34.917031Z"
    },
    "scrolled": false
   },
   "outputs": [],
   "source": [
    "centroid_ratings_T_df = cm.centroid_ratings(centroids, item_factors_unstacked)\n",
    "centroid_ratings_T_df.head()"
   ]
  },
  {
   "cell_type": "markdown",
   "metadata": {},
   "source": [
    "# Recommendations"
   ]
  },
  {
   "cell_type": "code",
   "execution_count": 5,
   "metadata": {
    "ExecuteTime": {
     "end_time": "2019-07-29T15:42:38.185994Z",
     "start_time": "2019-07-29T15:41:43.188839Z"
    },
    "scrolled": true
   },
   "outputs": [
    {
     "name": "stdout",
     "output_type": "stream",
     "text": [
      "Enter a ranking from 1 (lowest) to 5 (highest) for the following movies. If you have not seen the movie, press enter.\n",
      "Whiplash (2013): \n",
      "Can't Change the Meeting Place (1979): \n",
      "Princess Mononoke (Mononoke-hime) (1997): \n",
      "Wallace & Gromit: The Wrong Trousers (1993): \n",
      "Cinema Paradiso (Nuovo cinema Paradiso) (1989): \n",
      "M (1931): \n",
      "Silence of the Lambs, The (1991): 5\n",
      "Third Man, The (1949): 2\n",
      "All About Eve (1950): \n",
      "Chinatown (1974): \n",
      "Casablanca (1942): 5\n",
      "Planet Earth II (2016): \n",
      "It Happened One Night (1934): \n",
      "The Blue Planet (2001): \n",
      "Goodfellas (1990): 3\n",
      "Life (2009): \n",
      "Notorious (1946): \n",
      "To Kill a Mockingbird (1962): 4\n",
      "Intouchables (2011): \n",
      "Paths of Glory (1957): \n",
      "The Adventures of Sherlock Holmes and Doctor Watson: \n",
      "Voices from the List (2004): \n",
      "Human Planet (2011): \n",
      "American Beauty (1999): 1\n",
      "Children of Paradise (Les enfants du paradis) (1945): \n",
      "Life Is Beautiful (La Vita è bella) (1997): \n",
      "Operation 'Y' & Other Shurik's Adventures (1965): \n",
      "My Neighbor Totoro (Tonari no Totoro) (1988): \n",
      "Bicycle Thieves (a.k.a. The Bicycle Thief) (a.k.a. The Bicycle Thieves) (Ladri di biciclette) (1948): \n",
      "City of God (Cidade de Deus) (2002): \n",
      "Big Sleep, The (1946): \n",
      "Memento (2000): 4\n",
      "Seven Samurai (Shichinin no samurai) (1954): 5\n",
      "Pulp Fiction (1994): 5\n",
      "The Godfather Trilogy: 1972-1990 (1992): 5\n",
      "\n",
      "\n",
      "\n",
      " Try:\n",
      "    Dreamland (2016)\n",
      "    Shouting Fire: Stories from the Edge of Free Speech (2009)\n",
      "    Band of Brothers (2001)\n",
      "    Cosmos\n",
      "    Rise & Fall of ECW, The (2004)\n",
      "    The Spirit of Christmas (1995)\n",
      "    The Battle of Chernobyl (2006)\n",
      "    An Interesting Story (1904)\n",
      "    Car Bonus (Autobonus) (2001)\n",
      "    Marilena de la P7 (2006)\n",
      "\n",
      "\n",
      "You may also like:\n",
      "    Burnt Offerings (1976)\n",
      "    Einstein and Eddington (2008)\n",
      "    Bill Burr: Let It Go (2010)\n",
      "    Dumplings (Gaau ji) (2004)\n",
      "    Best Offer, The (Migliore offerta, La) (2013)\n",
      "    Black Swan (2010)\n",
      "    Village, The (2004)\n",
      "    Last Metro, The (Dernier métro, Le) (1980)\n",
      "    State Fair (1945)\n",
      "    Sprung (1997)\n"
     ]
    }
   ],
   "source": [
    "ra.recommendations()"
   ]
  },
  {
   "cell_type": "code",
   "execution_count": null,
   "metadata": {},
   "outputs": [],
   "source": []
  }
 ],
 "metadata": {
  "kernelspec": {
   "display_name": "Python 3",
   "language": "python",
   "name": "python3"
  },
  "language_info": {
   "codemirror_mode": {
    "name": "ipython",
    "version": 3
   },
   "file_extension": ".py",
   "mimetype": "text/x-python",
   "name": "python",
   "nbconvert_exporter": "python",
   "pygments_lexer": "ipython3",
   "version": "3.7.3"
  },
  "toc": {
   "base_numbering": 1,
   "nav_menu": {},
   "number_sections": true,
   "sideBar": true,
   "skip_h1_title": false,
   "title_cell": "Table of Contents",
   "title_sidebar": "Contents",
   "toc_cell": false,
   "toc_position": {},
   "toc_section_display": true,
   "toc_window_display": false
  },
  "varInspector": {
   "cols": {
    "lenName": 16,
    "lenType": 16,
    "lenVar": 40
   },
   "kernels_config": {
    "python": {
     "delete_cmd_postfix": "",
     "delete_cmd_prefix": "del ",
     "library": "var_list.py",
     "varRefreshCmd": "print(var_dic_list())"
    },
    "r": {
     "delete_cmd_postfix": ") ",
     "delete_cmd_prefix": "rm(",
     "library": "var_list.r",
     "varRefreshCmd": "cat(var_dic_list()) "
    }
   },
   "types_to_exclude": [
    "module",
    "function",
    "builtin_function_or_method",
    "instance",
    "_Feature"
   ],
   "window_display": false
  }
 },
 "nbformat": 4,
 "nbformat_minor": 2
}
