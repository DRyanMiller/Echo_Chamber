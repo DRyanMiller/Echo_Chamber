{
 "cells": [
  {
   "cell_type": "markdown",
   "metadata": {},
   "source": [
    "# Overcoming Echo Chambers in Recommendation Systems"
   ]
  },
  {
   "cell_type": "markdown",
   "metadata": {},
   "source": [
    "## Introduction"
   ]
  },
  {
   "cell_type": "markdown",
   "metadata": {},
   "source": [
    "\n",
    "\n",
    "Continue reading to learn more about how this project was developed or skip to the <a href = #Get_Recommendations> Get Recommendations</a> in Section 2 to test the recommendation engine."
   ]
  },
  {
   "cell_type": "markdown",
   "metadata": {},
   "source": [
    "# Recommendations"
   ]
  },
  {
   "cell_type": "markdown",
   "metadata": {},
   "source": [
    "## Local Code Imports"
   ]
  },
  {
   "cell_type": "code",
   "execution_count": 1,
   "metadata": {
    "ExecuteTime": {
     "end_time": "2019-07-30T20:29:57.977543Z",
     "start_time": "2019-07-30T20:29:57.859955Z"
    },
    "tags": [
     "hidecode"
    ]
   },
   "outputs": [],
   "source": [
    "# DO NOT REMOVE THESE\n",
    "%load_ext autoreload\n",
    "%autoreload 2"
   ]
  },
  {
   "cell_type": "code",
   "execution_count": 2,
   "metadata": {
    "ExecuteTime": {
     "end_time": "2019-07-30T20:29:58.114375Z",
     "start_time": "2019-07-30T20:29:58.088938Z"
    }
   },
   "outputs": [],
   "source": [
    "# DO NOT REMOVE This\n",
    "%reload_ext autoreload"
   ]
  },
  {
   "cell_type": "code",
   "execution_count": 3,
   "metadata": {
    "ExecuteTime": {
     "end_time": "2019-07-30T20:29:58.505520Z",
     "start_time": "2019-07-30T20:29:58.492784Z"
    }
   },
   "outputs": [],
   "source": [
    "# Uncomment to filter warnings\n",
    "import warnings\n",
    "warnings.filterwarnings('ignore')"
   ]
  },
  {
   "cell_type": "code",
   "execution_count": 9,
   "metadata": {
    "ExecuteTime": {
     "end_time": "2019-07-30T20:34:58.969293Z",
     "start_time": "2019-07-30T20:34:58.940330Z"
    }
   },
   "outputs": [],
   "source": [
    "# DO NOT REMOVE\n",
    "# import local src module -\n",
    "from src import recapp as ra"
   ]
  },
  {
   "cell_type": "code",
   "execution_count": null,
   "metadata": {},
   "outputs": [],
   "source": []
  },
  {
   "cell_type": "code",
   "execution_count": null,
   "metadata": {},
   "outputs": [],
   "source": []
  },
  {
   "cell_type": "code",
   "execution_count": null,
   "metadata": {},
   "outputs": [],
   "source": []
  },
  {
   "cell_type": "code",
   "execution_count": null,
   "metadata": {},
   "outputs": [],
   "source": []
  },
  {
   "cell_type": "markdown",
   "metadata": {},
   "source": [
    "<a id='Get_Recommendations'></a>"
   ]
  },
  {
   "cell_type": "markdown",
   "metadata": {},
   "source": [
    "## Get Recommendations"
   ]
  },
  {
   "cell_type": "code",
   "execution_count": 12,
   "metadata": {
    "ExecuteTime": {
     "end_time": "2019-07-30T20:51:07.756068Z",
     "start_time": "2019-07-30T20:50:42.068626Z"
    },
    "scrolled": false
   },
   "outputs": [
    {
     "name": "stdout",
     "output_type": "stream",
     "text": [
      "Enter a ranking from 1 (lowest) to 5 (highest) for the following movies.\n",
      "If you have not seen the movie, press enter.\n",
      "Human Planet (2011): 4\n",
      "Rear Window (1954): \n",
      "Last Year's Snow Was Falling (1983): 6\n",
      "Ratings must be whole numbers between 1 and 5.\n",
      "City of God (Cidade de Deus) (2002): 3\n",
      "American Beauty (1999): 3\n",
      "Grand Illusion (La grande illusion) (1937): 3\n",
      "Sherlock - A Study in Pink (2010): 3\n",
      "Vertigo (1958): 4\n",
      "The Adventures of Sherlock Holmes and Dr. Watson: Bloody Signature (1979): 42\n",
      "Ratings must be whole numbers between 1 and 5.\n",
      "Maltese Falcon, The (1941): 4\n",
      "Rashomon (Rashômon) (1950): 2\n",
      "Godfather, The (1972): 4\n",
      "Usual Suspects, The (1995): 2\n",
      "\n",
      "\n",
      "\n",
      "\n",
      "Try:\n",
      "    I, Claudius (1976)\n",
      "    Planet Earth (2006)\n",
      "    Planet Earth II (2016)\n",
      "    Dylan Moran: Yeah, Yeah (2011)\n",
      "    Harakiri (Seppuku) (1962)\n",
      "    Human Condition III, The (Ningen no joken III) (1961)\n",
      "    Civil War, The (1990)\n",
      "    Smiley's People (1982)\n",
      "    Life (2009)\n",
      "    Blue Planet II (2017)\n",
      "\n",
      "\n",
      "You may also like:\n",
      "    Quiz Show (1994)\n",
      "    Wish I Was Here (2014)\n",
      "    Double Jeopardy (1999)\n",
      "    My Sassy Girl (Yeopgijeogin geunyeo) (2001)\n",
      "    Winnie the Pooh and the Day of Concern (1972)\n",
      "    Work of Director Michel Gondry, The (2003)\n",
      "    Rabbit-Proof Fence (2002)\n",
      "    The Raid 2: Berandal (2014)\n",
      "    Live Flesh (Carne trémula) (1997)\n",
      "    The Light Between Oceans (2016)\n"
     ]
    }
   ],
   "source": [
    "ra.get_recommendations()"
   ]
  }
 ],
 "metadata": {
  "kernelspec": {
   "display_name": "Python 3",
   "language": "python",
   "name": "python3"
  },
  "language_info": {
   "codemirror_mode": {
    "name": "ipython",
    "version": 3
   },
   "file_extension": ".py",
   "mimetype": "text/x-python",
   "name": "python",
   "nbconvert_exporter": "python",
   "pygments_lexer": "ipython3",
   "version": "3.7.3"
  },
  "toc": {
   "base_numbering": 1,
   "nav_menu": {},
   "number_sections": true,
   "sideBar": true,
   "skip_h1_title": false,
   "title_cell": "Table of Contents",
   "title_sidebar": "Contents",
   "toc_cell": false,
   "toc_position": {},
   "toc_section_display": true,
   "toc_window_display": false
  },
  "varInspector": {
   "cols": {
    "lenName": 16,
    "lenType": 16,
    "lenVar": 40
   },
   "kernels_config": {
    "python": {
     "delete_cmd_postfix": "",
     "delete_cmd_prefix": "del ",
     "library": "var_list.py",
     "varRefreshCmd": "print(var_dic_list())"
    },
    "r": {
     "delete_cmd_postfix": ") ",
     "delete_cmd_prefix": "rm(",
     "library": "var_list.r",
     "varRefreshCmd": "cat(var_dic_list()) "
    }
   },
   "types_to_exclude": [
    "module",
    "function",
    "builtin_function_or_method",
    "instance",
    "_Feature"
   ],
   "window_display": false
  }
 },
 "nbformat": 4,
 "nbformat_minor": 2
}
