{
 "cells": [
  {
   "cell_type": "markdown",
   "metadata": {},
   "source": [
    "# Primary Notebook"
   ]
  },
  {
   "cell_type": "markdown",
   "metadata": {},
   "source": [
    "## Local Code Imports - Do not delete"
   ]
  },
  {
   "cell_type": "code",
   "execution_count": null,
   "metadata": {
    "ExecuteTime": {
     "end_time": "2019-07-27T16:09:20.912737Z",
     "start_time": "2019-07-27T16:09:20.895686Z"
    },
    "tags": [
     "hidecode"
    ]
   },
   "outputs": [],
   "source": [
    "# DO NOT REMOVE THESE\n",
    "%load_ext autoreload\n",
    "%autoreload 2"
   ]
  },
  {
   "cell_type": "code",
   "execution_count": null,
   "metadata": {
    "ExecuteTime": {
     "end_time": "2019-07-27T16:09:21.231794Z",
     "start_time": "2019-07-27T16:09:21.206260Z"
    }
   },
   "outputs": [],
   "source": [
    "# DO NOT REMOVE This\n",
    "%reload_ext autoreload"
   ]
  },
  {
   "cell_type": "code",
   "execution_count": null,
   "metadata": {
    "ExecuteTime": {
     "end_time": "2019-07-27T16:09:21.548289Z",
     "start_time": "2019-07-27T16:09:21.535518Z"
    }
   },
   "outputs": [],
   "source": [
    "## Uncomment to filter warnings\n",
    "#import warnings\n",
    "#warnings.filterwarnings('ignore')"
   ]
  },
  {
   "cell_type": "code",
   "execution_count": 1,
   "metadata": {
    "ExecuteTime": {
     "end_time": "2019-07-27T16:28:44.739053Z",
     "start_time": "2019-07-27T16:28:43.830012Z"
    }
   },
   "outputs": [],
   "source": [
    "## DO NOT REMOVE\n",
    "## import local src module -\n",
    "## src in this project will contain all your local code\n",
    "## clean_data.py, model.py, visualize.py, custom.py\n",
    "#from src import make_data as mk\n",
    "from src import visualize as viz\n",
    "from src import model as mdl\n",
    "from src import custom as cm\n",
    "from src import recapp as ra\n",
    "#from src import pandas_operators as po\n",
    "\n",
    "#def test_src():\n",
    "    #mk.test_make_data()\n",
    "    #viz.test_viz()\n",
    "    #mdl.test_model()\n",
    "    #po.test_pandas()\n",
    "\n",
    "#    return 1"
   ]
  },
  {
   "cell_type": "code",
   "execution_count": null,
   "metadata": {
    "ExecuteTime": {
     "end_time": "2019-07-27T14:28:20.367779Z",
     "start_time": "2019-07-27T14:28:20.337059Z"
    }
   },
   "outputs": [],
   "source": [
    "#test_src()"
   ]
  },
  {
   "cell_type": "markdown",
   "metadata": {},
   "source": [
    "## Code Imports"
   ]
  },
  {
   "cell_type": "code",
   "execution_count": 2,
   "metadata": {
    "ExecuteTime": {
     "end_time": "2019-07-27T16:28:47.182217Z",
     "start_time": "2019-07-27T16:28:47.166158Z"
    }
   },
   "outputs": [],
   "source": [
    "## Some standard imports\n",
    "import numpy as np\n",
    "import pandas as pd\n",
    "import matplotlib.pyplot as plt\n",
    "import seaborn as sns\n",
    "from sklearn.preprocessing import StandardScaler\n",
    "from sklearn.cluster import AgglomerativeClustering\n",
    "from sklearn.neighbors import KernelDensity\n",
    "from sklearn.model_selection import train_test_split\n",
    "from sklearn.metrics import confusion_matrix, accuracy_score\n",
    "from sklearn.ensemble import GradientBoostingClassifier\n",
    "from sklearn.model_selection import GridSearchCV\n",
    "from joblib import dump\n",
    "%matplotlib inline\n",
    "import warnings\n",
    "warnings.filterwarnings(\"ignore\")"
   ]
  },
  {
   "cell_type": "markdown",
   "metadata": {},
   "source": [
    "# Project Overview"
   ]
  },
  {
   "cell_type": "markdown",
   "metadata": {
    "heading_collapsed": true
   },
   "source": [
    "# EDA, Data Cleaning & Feature Engineering"
   ]
  },
  {
   "cell_type": "code",
   "execution_count": null,
   "metadata": {
    "ExecuteTime": {
     "end_time": "2019-07-26T12:56:43.825320Z",
     "start_time": "2019-07-26T12:56:42.140193Z"
    },
    "hidden": true
   },
   "outputs": [],
   "source": [
    "user_factors = pd.read_csv('../data/processed/user_factors_unstacked.csv')"
   ]
  },
  {
   "cell_type": "code",
   "execution_count": null,
   "metadata": {
    "ExecuteTime": {
     "end_time": "2019-07-26T12:56:47.178563Z",
     "start_time": "2019-07-26T12:56:44.923947Z"
    },
    "hidden": true
   },
   "outputs": [],
   "source": [
    "user_factors_scaled = pd.read_csv('../data/processed/user_factors_scaled.csv')"
   ]
  },
  {
   "cell_type": "code",
   "execution_count": null,
   "metadata": {
    "ExecuteTime": {
     "end_time": "2019-07-26T13:16:08.841508Z",
     "start_time": "2019-07-26T13:16:08.768880Z"
    },
    "hidden": true
   },
   "outputs": [],
   "source": [
    "user_factors_scaled.drop(['Unnamed: 0'], axis=1, inplace=True)"
   ]
  },
  {
   "cell_type": "markdown",
   "metadata": {
    "heading_collapsed": true
   },
   "source": [
    "# AWS KMeans Evaluation"
   ]
  },
  {
   "cell_type": "code",
   "execution_count": null,
   "metadata": {
    "ExecuteTime": {
     "end_time": "2019-07-25T18:13:22.695492Z",
     "start_time": "2019-07-25T18:13:22.673116Z"
    },
    "hidden": true
   },
   "outputs": [],
   "source": [
    "error = [8113978.666767631, 7354872.282449911, 6779693.947846839, 6494419.943265818, 6161394.18380805, 5969178.495847053, 5775171.418613084, 5586181.465087898, 5459016.548945165, 5320932.3011912545, 5191293.46220535, 5090035.762150701, 4986521.909023397, 4919589.194313965, 4845781.722909153, 4738299.132215889, 4697877.381008717, 4626969.254411039, 4562072.290577676, 4519194.064635965, 4451951.002486911, 4413293.651221422, 4361910.62076177, 4339251.383448499, 4277987.088258287, 4244595.896973764, 4199613.235502976, 4156505.1574725825, 4131992.707043184, 4095312.234922758, 4069049.097594653, 4033434.5349058285, 4011851.7686528624, 3976083.217075855, 3949592.2147446494, 3938039.9457209697, 3899577.4734264542, 3881519.333619226, 3850186.2378393123, 3823198.4054184584, 3808773.2587171667, 3784495.988544207, 3761565.3901316617, 3746975.2839278127, 3723729.6121418993, 3699745.0362992603, 3680091.71095213, 3667951.1618961715, 3653602.1354131224, 3632124.2721405267, 3608965.8957424895, 3593001.8085261723, 3577712.029614562, 3560315.3167280406, 3552552.115932628, 3532308.4953923486, 3511941.7114949734, 3498429.793736455]"
   ]
  },
  {
   "cell_type": "code",
   "execution_count": null,
   "metadata": {
    "ExecuteTime": {
     "end_time": "2019-07-25T18:13:23.170199Z",
     "start_time": "2019-07-25T18:13:23.150815Z"
    },
    "hidden": true
   },
   "outputs": [],
   "source": [
    "len(error)"
   ]
  },
  {
   "cell_type": "code",
   "execution_count": null,
   "metadata": {
    "ExecuteTime": {
     "end_time": "2019-07-25T18:19:15.895505Z",
     "start_time": "2019-07-25T18:19:15.877124Z"
    },
    "hidden": true
   },
   "outputs": [],
   "source": [
    "cluster = list(range(2, 60))"
   ]
  },
  {
   "cell_type": "code",
   "execution_count": null,
   "metadata": {
    "ExecuteTime": {
     "end_time": "2019-07-25T18:14:17.911138Z",
     "start_time": "2019-07-25T18:14:17.795969Z"
    },
    "hidden": true
   },
   "outputs": [],
   "source": [
    "plt.plot(cluster, error);"
   ]
  },
  {
   "cell_type": "code",
   "execution_count": null,
   "metadata": {
    "ExecuteTime": {
     "end_time": "2019-07-25T18:19:40.682266Z",
     "start_time": "2019-07-25T18:19:40.663477Z"
    },
    "hidden": true
   },
   "outputs": [],
   "source": [
    "error_diff = []\n",
    "for i in list(range(0,56)):\n",
    "    diff = error[i]-error[i+1]\n",
    "    error_diff.append(diff)"
   ]
  },
  {
   "cell_type": "code",
   "execution_count": null,
   "metadata": {
    "ExecuteTime": {
     "end_time": "2019-07-25T18:19:41.438905Z",
     "start_time": "2019-07-25T18:19:41.420018Z"
    },
    "hidden": true
   },
   "outputs": [],
   "source": [
    "cluster_diff = list(range(2, len(error_diff)+2))"
   ]
  },
  {
   "cell_type": "code",
   "execution_count": null,
   "metadata": {
    "ExecuteTime": {
     "end_time": "2019-07-25T18:19:42.053887Z",
     "start_time": "2019-07-25T18:19:41.932302Z"
    },
    "hidden": true,
    "scrolled": false
   },
   "outputs": [],
   "source": [
    "plt.plot(cluster_diff, error_diff);"
   ]
  },
  {
   "cell_type": "markdown",
   "metadata": {
    "heading_collapsed": true
   },
   "source": [
    "# KMeans Model"
   ]
  },
  {
   "cell_type": "code",
   "execution_count": null,
   "metadata": {
    "ExecuteTime": {
     "end_time": "2019-07-26T13:16:28.430820Z",
     "start_time": "2019-07-26T13:16:28.402646Z"
    },
    "hidden": true
   },
   "outputs": [],
   "source": [
    "from sklearn.cluster import KMeans\n",
    "kmeans = KMeans(n_clusters = 9)"
   ]
  },
  {
   "cell_type": "code",
   "execution_count": null,
   "metadata": {
    "ExecuteTime": {
     "end_time": "2019-07-26T13:17:10.894211Z",
     "start_time": "2019-07-26T13:16:29.477280Z"
    },
    "hidden": true,
    "scrolled": true
   },
   "outputs": [],
   "source": [
    "kmeans.fit(user_factors_scaled)"
   ]
  },
  {
   "cell_type": "code",
   "execution_count": null,
   "metadata": {
    "ExecuteTime": {
     "end_time": "2019-07-26T13:17:13.792455Z",
     "start_time": "2019-07-26T13:17:13.702998Z"
    },
    "hidden": true
   },
   "outputs": [],
   "source": [
    "preds = kmeans.predict(user_factors_scaled)"
   ]
  },
  {
   "cell_type": "code",
   "execution_count": null,
   "metadata": {
    "ExecuteTime": {
     "end_time": "2019-07-26T15:19:46.582654Z",
     "start_time": "2019-07-26T15:19:46.529197Z"
    },
    "hidden": true,
    "scrolled": true
   },
   "outputs": [],
   "source": [
    "centroids = kmeans.cluster_centers_ "
   ]
  },
  {
   "cell_type": "code",
   "execution_count": null,
   "metadata": {
    "ExecuteTime": {
     "end_time": "2019-07-26T15:44:20.074779Z",
     "start_time": "2019-07-26T15:44:20.023141Z"
    },
    "hidden": true
   },
   "outputs": [],
   "source": [
    "centroids_df = pd.DataFrame(centroids)"
   ]
  },
  {
   "cell_type": "code",
   "execution_count": null,
   "metadata": {
    "ExecuteTime": {
     "end_time": "2019-07-26T20:14:11.654480Z",
     "start_time": "2019-07-26T20:14:11.599723Z"
    },
    "hidden": true
   },
   "outputs": [],
   "source": [
    "centroids_df.to_csv('../data/processed/centroids.csv')"
   ]
  },
  {
   "cell_type": "code",
   "execution_count": null,
   "metadata": {
    "ExecuteTime": {
     "end_time": "2019-07-26T20:13:43.379377Z",
     "start_time": "2019-07-26T20:13:43.324019Z"
    },
    "hidden": true
   },
   "outputs": [],
   "source": [
    "centroids_df.shape"
   ]
  },
  {
   "cell_type": "markdown",
   "metadata": {},
   "source": [
    "# Gradient Boosting Machine"
   ]
  },
  {
   "cell_type": "code",
   "execution_count": null,
   "metadata": {
    "ExecuteTime": {
     "end_time": "2019-07-26T13:17:18.373778Z",
     "start_time": "2019-07-26T13:17:18.318062Z"
    },
    "scrolled": false
   },
   "outputs": [],
   "source": [
    "preds_df = pd.DataFrame(preds, columns=['cluster'])\n",
    "user_factors_with_preds = user_factors.copy()\n",
    "user_factors_with_preds['cluster'] = preds_df\n",
    "X = user_factors_with_preds.drop(['id', 'cluster'], axis=1)\n",
    "y = preds\n",
    "X_train, X_test, y_train, y_test = train_test_split(X, y, random_state=142, shuffle=True)"
   ]
  },
  {
   "cell_type": "code",
   "execution_count": null,
   "metadata": {
    "ExecuteTime": {
     "end_time": "2019-07-26T14:48:04.513829Z",
     "start_time": "2019-07-26T13:29:43.290759Z"
    }
   },
   "outputs": [],
   "source": [
    "gbc = GradientBoostingClassifier()\n",
    "param_grid = {'learning_rate':[.15], \n",
    "             'max_depth': [10],\n",
    "             'min_samples_split': [25],\n",
    "             'n_estimators': [42],\n",
    "             'max_features': [7]}\n",
    "gs_gbc = GridSearchCV(gbc, param_grid, cv=5)\n",
    "gs_gbc.fit(X_train, y_train)\n",
    "gbc_train_preds = gs_gbc.predict(X_train)\n",
    "gbc_test_preds = gs_gbc.predict(X_test)\n",
    "accuracy_score(y_test, gbc_test_preds), accuracy_score(y_train, gbc_train_preds)"
   ]
  },
  {
   "cell_type": "code",
   "execution_count": null,
   "metadata": {
    "ExecuteTime": {
     "end_time": "2019-07-26T14:49:02.284979Z",
     "start_time": "2019-07-26T14:49:02.111233Z"
    }
   },
   "outputs": [],
   "source": [
    "print(confusion_matrix(y_test, gbc_test_preds))\n",
    "print(confusion_matrix(y_train, gbc_train_preds))"
   ]
  },
  {
   "cell_type": "code",
   "execution_count": null,
   "metadata": {
    "ExecuteTime": {
     "end_time": "2019-07-26T14:55:57.877447Z",
     "start_time": "2019-07-26T14:55:57.673074Z"
    }
   },
   "outputs": [],
   "source": [
    "dump(gs_gbc, '../models/fifp_classification.joblib') "
   ]
  },
  {
   "cell_type": "markdown",
   "metadata": {
    "heading_collapsed": true
   },
   "source": [
    "# Clusters Distances"
   ]
  },
  {
   "cell_type": "code",
   "execution_count": null,
   "metadata": {
    "ExecuteTime": {
     "end_time": "2019-07-26T15:38:12.212150Z",
     "start_time": "2019-07-26T15:38:12.153238Z"
    },
    "hidden": true
   },
   "outputs": [],
   "source": [
    "cluster_distances = cm.cluster_distances(centroids)\n",
    "cluster_distances.to_csv('../data/processed/cluster_distances_df.csv')"
   ]
  },
  {
   "cell_type": "code",
   "execution_count": null,
   "metadata": {
    "ExecuteTime": {
     "end_time": "2019-07-26T15:46:35.905108Z",
     "start_time": "2019-07-26T15:46:35.590145Z"
    },
    "hidden": true
   },
   "outputs": [],
   "source": [
    "item_factors_unstacked = pd.read_csv('../data/processed/item_factors.csv', index_col=['id'] )"
   ]
  },
  {
   "cell_type": "code",
   "execution_count": null,
   "metadata": {
    "ExecuteTime": {
     "end_time": "2019-07-26T18:57:38.591236Z",
     "start_time": "2019-07-26T18:57:38.537950Z"
    },
    "hidden": true
   },
   "outputs": [],
   "source": [
    "len(item_factors_unstacked)"
   ]
  },
  {
   "cell_type": "code",
   "execution_count": null,
   "metadata": {
    "hidden": true
   },
   "outputs": [],
   "source": [
    "item_factors_unstacked_transposed = item_factors_unstacked.T"
   ]
  },
  {
   "cell_type": "code",
   "execution_count": null,
   "metadata": {
    "ExecuteTime": {
     "end_time": "2019-07-26T16:01:34.983532Z",
     "start_time": "2019-07-26T16:01:34.917031Z"
    },
    "hidden": true,
    "scrolled": false
   },
   "outputs": [],
   "source": [
    "centroid_ratings_T_df = cm.centroid_ratings(centroids,item_factors_unstacked)\n",
    "centroid_ratings_T_df.head()"
   ]
  },
  {
   "cell_type": "markdown",
   "metadata": {},
   "source": [
    "# Recommendations"
   ]
  },
  {
   "cell_type": "code",
   "execution_count": 3,
   "metadata": {
    "ExecuteTime": {
     "end_time": "2019-07-27T16:29:31.478861Z",
     "start_time": "2019-07-27T16:28:49.550201Z"
    },
    "scrolled": true
   },
   "outputs": [
    {
     "name": "stdout",
     "output_type": "stream",
     "text": [
      "Enter a ranking for Schindler's List (1993) from 1 (lowest) to 5 (highest). If you have not seen the movie, press enter.5\n",
      "Enter a ranking for Human (2015) from 1 (lowest) to 5 (highest). If you have not seen the movie, press enter.\n",
      "Enter a ranking for Black Mirror: White Christmas (2014) from 1 (lowest) to 5 (highest). If you have not seen the movie, press enter.\n",
      "Enter a ranking for The Adventures of Sherlock Holmes and Doctor Watson: The Treasures of Agra (1983) from 1 (lowest) to 5 (highest). If you have not seen the movie, press enter.\n",
      "Enter a ranking for Operation 'Y' & Other Shurik's Adventures (1965) from 1 (lowest) to 5 (highest). If you have not seen the movie, press enter.\n",
      "Enter a ranking for The Adventures of Sherlock Holmes and Dr. Watson: Bloody Signature (1979) from 1 (lowest) to 5 (highest). If you have not seen the movie, press enter.\n",
      "Enter a ranking for Double Indemnity (1944) from 1 (lowest) to 5 (highest). If you have not seen the movie, press enter.\n",
      "Enter a ranking for Sherlock - A Study in Pink (2010) from 1 (lowest) to 5 (highest). If you have not seen the movie, press enter.5\n",
      "Enter a ranking for Human Planet (2011) from 1 (lowest) to 5 (highest). If you have not seen the movie, press enter.\n",
      "Enter a ranking for To Kill a Mockingbird (1962) from 1 (lowest) to 5 (highest). If you have not seen the movie, press enter.5\n",
      "Enter a ranking for 12 Angry Men (1957) from 1 (lowest) to 5 (highest). If you have not seen the movie, press enter.\n",
      "Enter a ranking for Black Mirror from 1 (lowest) to 5 (highest). If you have not seen the movie, press enter.\n",
      "Enter a ranking for American Beauty (1999) from 1 (lowest) to 5 (highest). If you have not seen the movie, press enter.1\n",
      "Enter a ranking for Shadow of a Doubt (1943) from 1 (lowest) to 5 (highest). If you have not seen the movie, press enter.\n",
      "Enter a ranking for Intouchables (2011) from 1 (lowest) to 5 (highest). If you have not seen the movie, press enter.\n",
      "Enter a ranking for Dark Knight, The (2008) from 1 (lowest) to 5 (highest). If you have not seen the movie, press enter.4\n",
      "Enter a ranking for Planet Earth II (2016) from 1 (lowest) to 5 (highest). If you have not seen the movie, press enter.\n",
      "Enter a ranking for The Blue Planet (2001) from 1 (lowest) to 5 (highest). If you have not seen the movie, press enter.\n",
      "Enter a ranking for Seven Samurai (Shichinin no samurai) (1954) from 1 (lowest) to 5 (highest). If you have not seen the movie, press enter.5\n",
      "Enter a ranking for Blade Runner (1982) from 1 (lowest) to 5 (highest). If you have not seen the movie, press enter.\n",
      "Enter a ranking for Chinatown (1974) from 1 (lowest) to 5 (highest). If you have not seen the movie, press enter.\n",
      "Enter a ranking for Pulp Fiction (1994) from 1 (lowest) to 5 (highest). If you have not seen the movie, press enter.5\n",
      "Enter a ranking for Third Man, The (1949) from 1 (lowest) to 5 (highest). If you have not seen the movie, press enter.2\n",
      "Enter a ranking for Godfather: Part II, The (1974) from 1 (lowest) to 5 (highest). If you have not seen the movie, press enter.5\n",
      "Enter a ranking for Band of Brothers (2001) from 1 (lowest) to 5 (highest). If you have not seen the movie, press enter.5\n",
      "\n",
      "\n",
      "\n",
      " Try:\n",
      "    Forsyte Saga, The (1967)\n",
      "    The War at Home (1979)\n",
      "    Connections (1978)\n",
      "    Richard Jeni: A Big Steaming Pile of Me (2005)\n",
      "    Welfare (1975)\n",
      "    Grin Without a Cat, A (Fond de l'air est rouge, Le) (1977)\n",
      "    A Song of Lisbon (1933)\n",
      "    Taxi for Tobruk (1961)\n",
      "    Hollow Crown, The (2012)\n",
      "    I, Claudius (1976)\n",
      "\n",
      "\n",
      "You may also like:\n",
      "    One, Two, Three (1961)\n",
      "    Raise the Titanic (1980)\n",
      "    Two Brothers (Deux frères) (2004)\n",
      "    Kill List (2011)\n",
      "    Sweeney Todd (2006)\n",
      "    Brother of Sleep (Schlafes Bruder) (1995)\n",
      "    Black Snake Moan (2006)\n",
      "    To Kill a Mockingbird (1962)\n",
      "    1922 (2017)\n",
      "    Ice Age: A Mammoth Christmas (2011)\n"
     ]
    }
   ],
   "source": [
    "ra.recommendations()"
   ]
  }
 ],
 "metadata": {
  "kernelspec": {
   "display_name": "Python 3",
   "language": "python",
   "name": "python3"
  },
  "language_info": {
   "codemirror_mode": {
    "name": "ipython",
    "version": 3
   },
   "file_extension": ".py",
   "mimetype": "text/x-python",
   "name": "python",
   "nbconvert_exporter": "python",
   "pygments_lexer": "ipython3",
   "version": "3.7.3"
  },
  "toc": {
   "base_numbering": 1,
   "nav_menu": {},
   "number_sections": true,
   "sideBar": true,
   "skip_h1_title": false,
   "title_cell": "Table of Contents",
   "title_sidebar": "Contents",
   "toc_cell": false,
   "toc_position": {},
   "toc_section_display": true,
   "toc_window_display": false
  },
  "varInspector": {
   "cols": {
    "lenName": 16,
    "lenType": 16,
    "lenVar": 40
   },
   "kernels_config": {
    "python": {
     "delete_cmd_postfix": "",
     "delete_cmd_prefix": "del ",
     "library": "var_list.py",
     "varRefreshCmd": "print(var_dic_list())"
    },
    "r": {
     "delete_cmd_postfix": ") ",
     "delete_cmd_prefix": "rm(",
     "library": "var_list.r",
     "varRefreshCmd": "cat(var_dic_list()) "
    }
   },
   "types_to_exclude": [
    "module",
    "function",
    "builtin_function_or_method",
    "instance",
    "_Feature"
   ],
   "window_display": false
  }
 },
 "nbformat": 4,
 "nbformat_minor": 2
}
