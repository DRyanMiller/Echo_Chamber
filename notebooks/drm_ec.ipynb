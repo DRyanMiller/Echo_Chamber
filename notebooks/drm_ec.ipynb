{
 "cells": [
  {
   "cell_type": "markdown",
   "metadata": {},
   "source": [
    "# Primary Notebook"
   ]
  },
  {
   "cell_type": "markdown",
   "metadata": {},
   "source": [
    "## Local Code Imports - Do not delete"
   ]
  },
  {
   "cell_type": "code",
   "execution_count": 51,
   "metadata": {
    "ExecuteTime": {
     "end_time": "2019-07-26T15:17:44.418830Z",
     "start_time": "2019-07-26T15:17:44.363016Z"
    },
    "tags": [
     "hidecode"
    ]
   },
   "outputs": [
    {
     "name": "stdout",
     "output_type": "stream",
     "text": [
      "The autoreload extension is already loaded. To reload it, use:\n",
      "  %reload_ext autoreload\n"
     ]
    }
   ],
   "source": [
    "# DO NOT REMOVE THESE\n",
    "%load_ext autoreload\n",
    "%autoreload 2"
   ]
  },
  {
   "cell_type": "code",
   "execution_count": 57,
   "metadata": {
    "ExecuteTime": {
     "end_time": "2019-07-26T15:21:06.474588Z",
     "start_time": "2019-07-26T15:21:06.401151Z"
    }
   },
   "outputs": [],
   "source": [
    "# DO NOT REMOVE This\n",
    "%reload_ext autoreload"
   ]
  },
  {
   "cell_type": "code",
   "execution_count": 3,
   "metadata": {
    "ExecuteTime": {
     "end_time": "2019-07-26T12:56:31.480048Z",
     "start_time": "2019-07-26T12:56:31.467773Z"
    }
   },
   "outputs": [],
   "source": [
    "## Uncomment to filter warnings\n",
    "#import warnings\n",
    "#warnings.filterwarnings('ignore')"
   ]
  },
  {
   "cell_type": "code",
   "execution_count": 53,
   "metadata": {
    "ExecuteTime": {
     "end_time": "2019-07-26T15:17:51.885367Z",
     "start_time": "2019-07-26T15:17:51.831141Z"
    }
   },
   "outputs": [],
   "source": [
    "## DO NOT REMOVE\n",
    "## import local src module -\n",
    "## src in this project will contain all your local code\n",
    "## clean_data.py, model.py, visualize.py, custom.py\n",
    "#from src import make_data as mk\n",
    "from src import visualize as viz\n",
    "from src import model as mdl\n",
    "from src import custom as cm\n",
    "#from src import pandas_operators as po\n",
    "\n",
    "#def test_src():\n",
    "    #mk.test_make_data()\n",
    "    #viz.test_viz()\n",
    "    #mdl.test_model()\n",
    "    #po.test_pandas()\n",
    "\n",
    "#    return 1"
   ]
  },
  {
   "cell_type": "code",
   "execution_count": 5,
   "metadata": {
    "ExecuteTime": {
     "end_time": "2019-07-26T12:56:34.576611Z",
     "start_time": "2019-07-26T12:56:34.553251Z"
    }
   },
   "outputs": [],
   "source": [
    "#test_src()"
   ]
  },
  {
   "cell_type": "markdown",
   "metadata": {},
   "source": [
    "## Code Imports"
   ]
  },
  {
   "cell_type": "code",
   "execution_count": 6,
   "metadata": {
    "ExecuteTime": {
     "end_time": "2019-07-26T12:56:35.511446Z",
     "start_time": "2019-07-26T12:56:35.466594Z"
    }
   },
   "outputs": [],
   "source": [
    "## Some standard imports\n",
    "import numpy as np\n",
    "import pandas as pd\n",
    "import matplotlib.pyplot as plt\n",
    "import seaborn as sns\n",
    "from sklearn.preprocessing import StandardScaler\n",
    "from scipy.cluster.hierarchy import dendrogram, linkage\n",
    "from scipy.cluster.hierarchy import cophenet\n",
    "from scipy.spatial.distance import pdist\n",
    "from sklearn.cluster import AgglomerativeClustering\n",
    "from sklearn.neighbors import KernelDensity\n",
    "from sklearn.model_selection import train_test_split\n",
    "from sklearn.metrics import confusion_matrix, accuracy_score\n",
    "from sklearn.ensemble import GradientBoostingClassifier\n",
    "from sklearn.model_selection import GridSearchCV\n",
    "from joblib import dump\n",
    "%matplotlib inline"
   ]
  },
  {
   "cell_type": "markdown",
   "metadata": {},
   "source": [
    "# Project Overview"
   ]
  },
  {
   "cell_type": "markdown",
   "metadata": {},
   "source": [
    "# EDA, Data Cleaning & Feature Engineering"
   ]
  },
  {
   "cell_type": "code",
   "execution_count": 7,
   "metadata": {
    "ExecuteTime": {
     "end_time": "2019-07-26T12:56:43.825320Z",
     "start_time": "2019-07-26T12:56:42.140193Z"
    }
   },
   "outputs": [],
   "source": [
    "user_factors = pd.read_csv('../data/processed/user_factors.csv')"
   ]
  },
  {
   "cell_type": "code",
   "execution_count": 8,
   "metadata": {
    "ExecuteTime": {
     "end_time": "2019-07-26T12:56:47.178563Z",
     "start_time": "2019-07-26T12:56:44.923947Z"
    }
   },
   "outputs": [],
   "source": [
    "user_factors_scaled = pd.read_csv('../data/processed/user_factors_scaled.csv')"
   ]
  },
  {
   "cell_type": "code",
   "execution_count": 33,
   "metadata": {
    "ExecuteTime": {
     "end_time": "2019-07-26T13:16:08.841508Z",
     "start_time": "2019-07-26T13:16:08.768880Z"
    }
   },
   "outputs": [],
   "source": [
    "user_factors_scaled.drop(['Unnamed: 0'], axis=1, inplace=True)"
   ]
  },
  {
   "cell_type": "markdown",
   "metadata": {
    "heading_collapsed": true
   },
   "source": [
    "# AWS KMeans Evaluation"
   ]
  },
  {
   "cell_type": "code",
   "execution_count": 42,
   "metadata": {
    "ExecuteTime": {
     "end_time": "2019-07-25T18:13:22.695492Z",
     "start_time": "2019-07-25T18:13:22.673116Z"
    },
    "hidden": true
   },
   "outputs": [],
   "source": [
    "error = [8113978.666767631, 7354872.282449911, 6779693.947846839, 6494419.943265818, 6161394.18380805, 5969178.495847053, 5775171.418613084, 5586181.465087898, 5459016.548945165, 5320932.3011912545, 5191293.46220535, 5090035.762150701, 4986521.909023397, 4919589.194313965, 4845781.722909153, 4738299.132215889, 4697877.381008717, 4626969.254411039, 4562072.290577676, 4519194.064635965, 4451951.002486911, 4413293.651221422, 4361910.62076177, 4339251.383448499, 4277987.088258287, 4244595.896973764, 4199613.235502976, 4156505.1574725825, 4131992.707043184, 4095312.234922758, 4069049.097594653, 4033434.5349058285, 4011851.7686528624, 3976083.217075855, 3949592.2147446494, 3938039.9457209697, 3899577.4734264542, 3881519.333619226, 3850186.2378393123, 3823198.4054184584, 3808773.2587171667, 3784495.988544207, 3761565.3901316617, 3746975.2839278127, 3723729.6121418993, 3699745.0362992603, 3680091.71095213, 3667951.1618961715, 3653602.1354131224, 3632124.2721405267, 3608965.8957424895, 3593001.8085261723, 3577712.029614562, 3560315.3167280406, 3552552.115932628, 3532308.4953923486, 3511941.7114949734, 3498429.793736455]"
   ]
  },
  {
   "cell_type": "code",
   "execution_count": 43,
   "metadata": {
    "ExecuteTime": {
     "end_time": "2019-07-25T18:13:23.170199Z",
     "start_time": "2019-07-25T18:13:23.150815Z"
    },
    "hidden": true
   },
   "outputs": [
    {
     "data": {
      "text/plain": [
       "58"
      ]
     },
     "execution_count": 43,
     "metadata": {},
     "output_type": "execute_result"
    }
   ],
   "source": [
    "len(error)"
   ]
  },
  {
   "cell_type": "code",
   "execution_count": 56,
   "metadata": {
    "ExecuteTime": {
     "end_time": "2019-07-25T18:19:15.895505Z",
     "start_time": "2019-07-25T18:19:15.877124Z"
    },
    "hidden": true
   },
   "outputs": [],
   "source": [
    "cluster = list(range(2, 60))"
   ]
  },
  {
   "cell_type": "code",
   "execution_count": 51,
   "metadata": {
    "ExecuteTime": {
     "end_time": "2019-07-25T18:14:17.911138Z",
     "start_time": "2019-07-25T18:14:17.795969Z"
    },
    "hidden": true
   },
   "outputs": [
    {
     "data": {
      "image/png": "[encoded data removed]",
      "text/plain": [
       "<Figure size 432x288 with 1 Axes>"
      ]
     },
     "metadata": {
      "needs_background": "light"
     },
     "output_type": "display_data"
    }
   ],
   "source": [
    "plt.plot(cluster, error);"
   ]
  },
  {
   "cell_type": "code",
   "execution_count": 58,
   "metadata": {
    "ExecuteTime": {
     "end_time": "2019-07-25T18:19:40.682266Z",
     "start_time": "2019-07-25T18:19:40.663477Z"
    },
    "hidden": true
   },
   "outputs": [],
   "source": [
    "error_diff = []\n",
    "for i in list(range(0,56)):\n",
    "    diff = error[i]-error[i+1]\n",
    "    error_diff.append(diff)"
   ]
  },
  {
   "cell_type": "code",
   "execution_count": 59,
   "metadata": {
    "ExecuteTime": {
     "end_time": "2019-07-25T18:19:41.438905Z",
     "start_time": "2019-07-25T18:19:41.420018Z"
    },
    "hidden": true
   },
   "outputs": [],
   "source": [
    "cluster_diff = list(range(2, len(error_diff)+2))"
   ]
  },
  {
   "cell_type": "code",
   "execution_count": 60,
   "metadata": {
    "ExecuteTime": {
     "end_time": "2019-07-25T18:19:42.053887Z",
     "start_time": "2019-07-25T18:19:41.932302Z"
    },
    "hidden": true,
    "scrolled": false
   },
   "outputs": [
    {
     "data": {
      "image/png": "[encoded data removed]",
      "text/plain": [
       "<Figure size 432x288 with 1 Axes>"
      ]
     },
     "metadata": {
      "needs_background": "light"
     },
     "output_type": "display_data"
    }
   ],
   "source": [
    "plt.plot(cluster_diff, error_diff);"
   ]
  },
  {
   "cell_type": "markdown",
   "metadata": {},
   "source": [
    "# KMeans Model"
   ]
  },
  {
   "cell_type": "code",
   "execution_count": 35,
   "metadata": {
    "ExecuteTime": {
     "end_time": "2019-07-26T13:16:28.430820Z",
     "start_time": "2019-07-26T13:16:28.402646Z"
    }
   },
   "outputs": [],
   "source": [
    "from sklearn.cluster import KMeans\n",
    "kmeans = KMeans(n_clusters = 9)"
   ]
  },
  {
   "cell_type": "code",
   "execution_count": 36,
   "metadata": {
    "ExecuteTime": {
     "end_time": "2019-07-26T13:17:10.894211Z",
     "start_time": "2019-07-26T13:16:29.477280Z"
    },
    "scrolled": true
   },
   "outputs": [
    {
     "data": {
      "text/plain": [
       "KMeans(algorithm='auto', copy_x=True, init='k-means++', max_iter=300,\n",
       "    n_clusters=9, n_init=10, n_jobs=None, precompute_distances='auto',\n",
       "    random_state=None, tol=0.0001, verbose=0)"
      ]
     },
     "execution_count": 36,
     "metadata": {},
     "output_type": "execute_result"
    }
   ],
   "source": [
    "kmeans.fit(user_factors_scaled)"
   ]
  },
  {
   "cell_type": "code",
   "execution_count": 37,
   "metadata": {
    "ExecuteTime": {
     "end_time": "2019-07-26T13:17:13.792455Z",
     "start_time": "2019-07-26T13:17:13.702998Z"
    }
   },
   "outputs": [],
   "source": [
    "preds = kmeans.predict(user_factors_scaled)"
   ]
  },
  {
   "cell_type": "code",
   "execution_count": 55,
   "metadata": {
    "ExecuteTime": {
     "end_time": "2019-07-26T15:19:46.582654Z",
     "start_time": "2019-07-26T15:19:46.529197Z"
    },
    "scrolled": true
   },
   "outputs": [],
   "source": [
    "centroids = kmeans.cluster_centers_ "
   ]
  },
  {
   "cell_type": "code",
   "execution_count": 71,
   "metadata": {
    "ExecuteTime": {
     "end_time": "2019-07-26T15:44:20.074779Z",
     "start_time": "2019-07-26T15:44:20.023141Z"
    }
   },
   "outputs": [],
   "source": [
    "centroids_df = pd.DataFrame(centroids)"
   ]
  },
  {
   "cell_type": "code",
   "execution_count": 72,
   "metadata": {
    "ExecuteTime": {
     "end_time": "2019-07-26T15:44:27.914021Z",
     "start_time": "2019-07-26T15:44:27.858229Z"
    }
   },
   "outputs": [],
   "source": [
    "centroids_df.to_csv('../data/processed/centroids.csv')"
   ]
  },
  {
   "cell_type": "markdown",
   "metadata": {},
   "source": [
    "# Gradient Boosting Machine"
   ]
  },
  {
   "cell_type": "code",
   "execution_count": 38,
   "metadata": {
    "ExecuteTime": {
     "end_time": "2019-07-26T13:17:18.373778Z",
     "start_time": "2019-07-26T13:17:18.318062Z"
    },
    "scrolled": false
   },
   "outputs": [
    {
     "data": {
      "text/html": [
       "<div>\n",
       "<style scoped>\n",
       "    .dataframe tbody tr th:only-of-type {\n",
       "        vertical-align: middle;\n",
       "    }\n",
       "\n",
       "    .dataframe tbody tr th {\n",
       "        vertical-align: top;\n",
       "    }\n",
       "\n",
       "    .dataframe thead th {\n",
       "        text-align: right;\n",
       "    }\n",
       "</style>\n",
       "<table border=\"1\" class=\"dataframe\">\n",
       "  <thead>\n",
       "    <tr style=\"text-align: right;\">\n",
       "      <th></th>\n",
       "      <th>id</th>\n",
       "      <th>1</th>\n",
       "      <th>2</th>\n",
       "      <th>3</th>\n",
       "      <th>4</th>\n",
       "      <th>5</th>\n",
       "      <th>6</th>\n",
       "      <th>7</th>\n",
       "      <th>8</th>\n",
       "      <th>9</th>\n",
       "      <th>...</th>\n",
       "      <th>34</th>\n",
       "      <th>35</th>\n",
       "      <th>36</th>\n",
       "      <th>37</th>\n",
       "      <th>38</th>\n",
       "      <th>39</th>\n",
       "      <th>40</th>\n",
       "      <th>41</th>\n",
       "      <th>42</th>\n",
       "      <th>cluster</th>\n",
       "    </tr>\n",
       "  </thead>\n",
       "  <tbody>\n",
       "    <tr>\n",
       "      <th>0</th>\n",
       "      <td>1</td>\n",
       "      <td>-0.380470</td>\n",
       "      <td>0.103641</td>\n",
       "      <td>0.310486</td>\n",
       "      <td>0.078450</td>\n",
       "      <td>0.129363</td>\n",
       "      <td>-0.033363</td>\n",
       "      <td>0.030401</td>\n",
       "      <td>-0.360824</td>\n",
       "      <td>-0.213137</td>\n",
       "      <td>...</td>\n",
       "      <td>-0.480875</td>\n",
       "      <td>0.194733</td>\n",
       "      <td>0.479119</td>\n",
       "      <td>0.328390</td>\n",
       "      <td>-0.123725</td>\n",
       "      <td>-0.188246</td>\n",
       "      <td>-0.525000</td>\n",
       "      <td>-0.133443</td>\n",
       "      <td>-0.167593</td>\n",
       "      <td>1</td>\n",
       "    </tr>\n",
       "    <tr>\n",
       "      <th>1</th>\n",
       "      <td>2</td>\n",
       "      <td>-0.226508</td>\n",
       "      <td>0.167774</td>\n",
       "      <td>0.536940</td>\n",
       "      <td>0.235142</td>\n",
       "      <td>-0.036765</td>\n",
       "      <td>0.118235</td>\n",
       "      <td>0.024486</td>\n",
       "      <td>-0.449235</td>\n",
       "      <td>-0.145772</td>\n",
       "      <td>...</td>\n",
       "      <td>-0.314272</td>\n",
       "      <td>0.170148</td>\n",
       "      <td>0.567598</td>\n",
       "      <td>0.492936</td>\n",
       "      <td>-0.072118</td>\n",
       "      <td>-0.063404</td>\n",
       "      <td>-0.715515</td>\n",
       "      <td>0.038176</td>\n",
       "      <td>-0.056638</td>\n",
       "      <td>8</td>\n",
       "    </tr>\n",
       "    <tr>\n",
       "      <th>2</th>\n",
       "      <td>3</td>\n",
       "      <td>-0.240955</td>\n",
       "      <td>0.179579</td>\n",
       "      <td>0.439598</td>\n",
       "      <td>0.231143</td>\n",
       "      <td>0.003269</td>\n",
       "      <td>0.110166</td>\n",
       "      <td>0.018843</td>\n",
       "      <td>-0.457156</td>\n",
       "      <td>-0.184155</td>\n",
       "      <td>...</td>\n",
       "      <td>-0.375902</td>\n",
       "      <td>0.142993</td>\n",
       "      <td>0.607431</td>\n",
       "      <td>0.525451</td>\n",
       "      <td>-0.006926</td>\n",
       "      <td>-0.018648</td>\n",
       "      <td>-0.715832</td>\n",
       "      <td>0.011471</td>\n",
       "      <td>-0.136575</td>\n",
       "      <td>6</td>\n",
       "    </tr>\n",
       "    <tr>\n",
       "      <th>3</th>\n",
       "      <td>4</td>\n",
       "      <td>-0.271722</td>\n",
       "      <td>0.041331</td>\n",
       "      <td>0.368844</td>\n",
       "      <td>-0.016227</td>\n",
       "      <td>0.102699</td>\n",
       "      <td>0.047941</td>\n",
       "      <td>0.020815</td>\n",
       "      <td>-0.335555</td>\n",
       "      <td>-0.272367</td>\n",
       "      <td>...</td>\n",
       "      <td>-0.530468</td>\n",
       "      <td>0.179969</td>\n",
       "      <td>0.527210</td>\n",
       "      <td>0.440110</td>\n",
       "      <td>0.124539</td>\n",
       "      <td>-0.082171</td>\n",
       "      <td>-0.663929</td>\n",
       "      <td>-0.065500</td>\n",
       "      <td>-0.327186</td>\n",
       "      <td>1</td>\n",
       "    </tr>\n",
       "    <tr>\n",
       "      <th>4</th>\n",
       "      <td>5</td>\n",
       "      <td>-0.368851</td>\n",
       "      <td>0.104798</td>\n",
       "      <td>0.349379</td>\n",
       "      <td>0.013516</td>\n",
       "      <td>0.070510</td>\n",
       "      <td>0.036399</td>\n",
       "      <td>-0.017281</td>\n",
       "      <td>-0.401808</td>\n",
       "      <td>-0.266340</td>\n",
       "      <td>...</td>\n",
       "      <td>-0.581576</td>\n",
       "      <td>0.247609</td>\n",
       "      <td>0.590982</td>\n",
       "      <td>0.318466</td>\n",
       "      <td>0.053089</td>\n",
       "      <td>-0.191376</td>\n",
       "      <td>-0.671003</td>\n",
       "      <td>-0.065487</td>\n",
       "      <td>-0.266448</td>\n",
       "      <td>1</td>\n",
       "    </tr>\n",
       "  </tbody>\n",
       "</table>\n",
       "<p>5 rows × 44 columns</p>\n",
       "</div>"
      ],
      "text/plain": [
       "   id         1         2         3         4         5         6         7  \\\n",
       "0   1 -0.380470  0.103641  0.310486  0.078450  0.129363 -0.033363  0.030401   \n",
       "1   2 -0.226508  0.167774  0.536940  0.235142 -0.036765  0.118235  0.024486   \n",
       "2   3 -0.240955  0.179579  0.439598  0.231143  0.003269  0.110166  0.018843   \n",
       "3   4 -0.271722  0.041331  0.368844 -0.016227  0.102699  0.047941  0.020815   \n",
       "4   5 -0.368851  0.104798  0.349379  0.013516  0.070510  0.036399 -0.017281   \n",
       "\n",
       "          8         9  ...        34        35        36        37        38  \\\n",
       "0 -0.360824 -0.213137  ... -0.480875  0.194733  0.479119  0.328390 -0.123725   \n",
       "1 -0.449235 -0.145772  ... -0.314272  0.170148  0.567598  0.492936 -0.072118   \n",
       "2 -0.457156 -0.184155  ... -0.375902  0.142993  0.607431  0.525451 -0.006926   \n",
       "3 -0.335555 -0.272367  ... -0.530468  0.179969  0.527210  0.440110  0.124539   \n",
       "4 -0.401808 -0.266340  ... -0.581576  0.247609  0.590982  0.318466  0.053089   \n",
       "\n",
       "         39        40        41        42  cluster  \n",
       "0 -0.188246 -0.525000 -0.133443 -0.167593        1  \n",
       "1 -0.063404 -0.715515  0.038176 -0.056638        8  \n",
       "2 -0.018648 -0.715832  0.011471 -0.136575        6  \n",
       "3 -0.082171 -0.663929 -0.065500 -0.327186        1  \n",
       "4 -0.191376 -0.671003 -0.065487 -0.266448        1  \n",
       "\n",
       "[5 rows x 44 columns]"
      ]
     },
     "execution_count": 38,
     "metadata": {},
     "output_type": "execute_result"
    }
   ],
   "source": [
    "preds_df = pd.DataFrame(preds, columns=['cluster'])\n",
    "user_factors_with_preds = user_factors.copy()\n",
    "user_factors_with_preds['cluster'] = preds_df\n",
    "X = user_factors_with_preds.drop(['id', 'cluster'], axis=1)\n",
    "y = preds\n",
    "X_train, X_test, y_train, y_test = train_test_split(X, y, random_state=142, shuffle=True)"
   ]
  },
  {
   "cell_type": "code",
   "execution_count": 45,
   "metadata": {
    "ExecuteTime": {
     "end_time": "2019-07-26T14:48:04.513829Z",
     "start_time": "2019-07-26T13:29:43.290759Z"
    }
   },
   "outputs": [
    {
     "data": {
      "text/plain": [
       "(0.9599441845194123, 1.0)"
      ]
     },
     "execution_count": 45,
     "metadata": {},
     "output_type": "execute_result"
    }
   ],
   "source": [
    "gbc = GradientBoostingClassifier()\n",
    "param_grid = {'learning_rate':[.15], \n",
    "             'max_depth': [10],\n",
    "             'min_samples_split': [25],\n",
    "             'n_estimators': [42],\n",
    "             'max_features': [7]}\n",
    "gs_gbc = GridSearchCV(gbc, param_grid, cv=5)\n",
    "gs_gbc.fit(X_train, y_train)\n",
    "gbc_train_preds = gs_gbc.predict(X_train)\n",
    "gbc_test_preds = gs_gbc.predict(X_test)\n",
    "accuracy_score(y_test, gbc_test_preds), accuracy_score(y_train, gbc_train_preds)"
   ]
  },
  {
   "cell_type": "code",
   "execution_count": 46,
   "metadata": {
    "ExecuteTime": {
     "end_time": "2019-07-26T14:49:02.284979Z",
     "start_time": "2019-07-26T14:49:02.111233Z"
    }
   },
   "outputs": [
    {
     "name": "stdout",
     "output_type": "stream",
     "text": [
      "[[ 4781     0     0    27    86     0    63    41    51]\n",
      " [    0 11728    25    17     0    64    62    64    68]\n",
      " [    0    53  3335    20    60     2    51     0    63]\n",
      " [   27    48    12  3206     9    16    29    45    26]\n",
      " [   46     0    40    19  4570     0    39     1    76]\n",
      " [    0    98     1    27     0  6246     2    66     1]\n",
      " [   46    63    26    18    31     0  7506    41   115]\n",
      " [   29    89     0    24     0    42    59  8484    42]\n",
      " [   25    80    32    25    53     0   113    42  8619]]\n",
      "[[15167     0     0     0     0     0     0     0     0]\n",
      " [    0 35737     0     0     0     0     0     0     0]\n",
      " [    0     0 10810     0     0     0     0     0     0]\n",
      " [    0     0     0 10983     0     0     0     0     0]\n",
      " [    0     0     0     0 14318     0     0     0     0]\n",
      " [    0     0     0     0     0 19062     0     0     0]\n",
      " [    0     0     0     0     0     0 23393     0     0]\n",
      " [    0     0     0     0     0     0     0 26886     0]\n",
      " [    0     0     0     0     0     0     0     0 26387]]\n"
     ]
    }
   ],
   "source": [
    "print(confusion_matrix(y_test, gbc_test_preds))\n",
    "print(confusion_matrix(y_train, gbc_train_preds))"
   ]
  },
  {
   "cell_type": "code",
   "execution_count": 48,
   "metadata": {
    "ExecuteTime": {
     "end_time": "2019-07-26T14:55:57.877447Z",
     "start_time": "2019-07-26T14:55:57.673074Z"
    }
   },
   "outputs": [
    {
     "data": {
      "text/plain": [
       "['../models/fifp_classification.joblib']"
      ]
     },
     "execution_count": 48,
     "metadata": {},
     "output_type": "execute_result"
    }
   ],
   "source": [
    "dump(gs_gbc, '../models/fifp_classification.joblib') "
   ]
  },
  {
   "cell_type": "markdown",
   "metadata": {},
   "source": [
    "# Clusters Distances and Ratings"
   ]
  },
  {
   "cell_type": "code",
   "execution_count": 64,
   "metadata": {
    "ExecuteTime": {
     "end_time": "2019-07-26T15:38:12.212150Z",
     "start_time": "2019-07-26T15:38:12.153238Z"
    }
   },
   "outputs": [],
   "source": [
    "cluster_distances = cm.cluster_distances(centroids)\n",
    "cluster_distances.to_csv('../data/processed/cluster_distances_df.csv')"
   ]
  },
  {
   "cell_type": "code",
   "execution_count": 77,
   "metadata": {
    "ExecuteTime": {
     "end_time": "2019-07-26T15:46:35.905108Z",
     "start_time": "2019-07-26T15:46:35.590145Z"
    }
   },
   "outputs": [],
   "source": [
    "item_factors_unstacked = pd.read_csv('../data/processed/item_factors.csv', index_col=['id'] )"
   ]
  },
  {
   "cell_type": "code",
   "execution_count": 122,
   "metadata": {
    "ExecuteTime": {
     "end_time": "2019-07-26T18:57:38.591236Z",
     "start_time": "2019-07-26T18:57:38.537950Z"
    }
   },
   "outputs": [
    {
     "data": {
      "text/plain": [
       "28755"
      ]
     },
     "execution_count": 122,
     "metadata": {},
     "output_type": "execute_result"
    }
   ],
   "source": [
    "len(item_factors_unstacked)"
   ]
  },
  {
   "cell_type": "code",
   "execution_count": null,
   "metadata": {},
   "outputs": [],
   "source": [
    "item_factors_unstacked_transposed = item_factors_unstacked.T"
   ]
  },
  {
   "cell_type": "code",
   "execution_count": 84,
   "metadata": {
    "ExecuteTime": {
     "end_time": "2019-07-26T16:01:34.983532Z",
     "start_time": "2019-07-26T16:01:34.917031Z"
    },
    "scrolled": false
   },
   "outputs": [
    {
     "data": {
      "text/html": [
       "<div>\n",
       "<style scoped>\n",
       "    .dataframe tbody tr th:only-of-type {\n",
       "        vertical-align: middle;\n",
       "    }\n",
       "\n",
       "    .dataframe tbody tr th {\n",
       "        vertical-align: top;\n",
       "    }\n",
       "\n",
       "    .dataframe thead th {\n",
       "        text-align: right;\n",
       "    }\n",
       "</style>\n",
       "<table border=\"1\" class=\"dataframe\">\n",
       "  <thead>\n",
       "    <tr style=\"text-align: right;\">\n",
       "      <th></th>\n",
       "      <th>0</th>\n",
       "      <th>1</th>\n",
       "      <th>2</th>\n",
       "      <th>3</th>\n",
       "      <th>4</th>\n",
       "      <th>5</th>\n",
       "      <th>6</th>\n",
       "      <th>7</th>\n",
       "      <th>8</th>\n",
       "    </tr>\n",
       "    <tr>\n",
       "      <th>id</th>\n",
       "      <th></th>\n",
       "      <th></th>\n",
       "      <th></th>\n",
       "      <th></th>\n",
       "      <th></th>\n",
       "      <th></th>\n",
       "      <th></th>\n",
       "      <th></th>\n",
       "      <th></th>\n",
       "    </tr>\n",
       "  </thead>\n",
       "  <tbody>\n",
       "    <tr>\n",
       "      <th>1</th>\n",
       "      <td>-0.574680</td>\n",
       "      <td>0.844685</td>\n",
       "      <td>-1.006109</td>\n",
       "      <td>-7.964015</td>\n",
       "      <td>1.771695</td>\n",
       "      <td>-3.114418</td>\n",
       "      <td>-0.538622</td>\n",
       "      <td>0.763970</td>\n",
       "      <td>3.833670</td>\n",
       "    </tr>\n",
       "    <tr>\n",
       "      <th>2</th>\n",
       "      <td>1.034825</td>\n",
       "      <td>-0.337082</td>\n",
       "      <td>0.714705</td>\n",
       "      <td>-5.945640</td>\n",
       "      <td>4.620170</td>\n",
       "      <td>-5.204503</td>\n",
       "      <td>-0.132226</td>\n",
       "      <td>-0.566126</td>\n",
       "      <td>3.937726</td>\n",
       "    </tr>\n",
       "    <tr>\n",
       "      <th>3</th>\n",
       "      <td>1.438076</td>\n",
       "      <td>-0.592763</td>\n",
       "      <td>1.162251</td>\n",
       "      <td>-5.542225</td>\n",
       "      <td>5.178301</td>\n",
       "      <td>-5.648232</td>\n",
       "      <td>0.102577</td>\n",
       "      <td>-0.743866</td>\n",
       "      <td>3.696378</td>\n",
       "    </tr>\n",
       "    <tr>\n",
       "      <th>4</th>\n",
       "      <td>2.321293</td>\n",
       "      <td>-0.936388</td>\n",
       "      <td>-0.820854</td>\n",
       "      <td>-4.300232</td>\n",
       "      <td>4.091545</td>\n",
       "      <td>-4.349577</td>\n",
       "      <td>-0.733859</td>\n",
       "      <td>0.335650</td>\n",
       "      <td>3.257888</td>\n",
       "    </tr>\n",
       "    <tr>\n",
       "      <th>5</th>\n",
       "      <td>2.761233</td>\n",
       "      <td>-1.173833</td>\n",
       "      <td>0.131194</td>\n",
       "      <td>-5.098391</td>\n",
       "      <td>5.388513</td>\n",
       "      <td>-5.980635</td>\n",
       "      <td>0.123744</td>\n",
       "      <td>-0.302588</td>\n",
       "      <td>3.626031</td>\n",
       "    </tr>\n",
       "  </tbody>\n",
       "</table>\n",
       "</div>"
      ],
      "text/plain": [
       "           0         1         2         3         4         5         6  \\\n",
       "id                                                                         \n",
       "1  -0.574680  0.844685 -1.006109 -7.964015  1.771695 -3.114418 -0.538622   \n",
       "2   1.034825 -0.337082  0.714705 -5.945640  4.620170 -5.204503 -0.132226   \n",
       "3   1.438076 -0.592763  1.162251 -5.542225  5.178301 -5.648232  0.102577   \n",
       "4   2.321293 -0.936388 -0.820854 -4.300232  4.091545 -4.349577 -0.733859   \n",
       "5   2.761233 -1.173833  0.131194 -5.098391  5.388513 -5.980635  0.123744   \n",
       "\n",
       "           7         8  \n",
       "id                      \n",
       "1   0.763970  3.833670  \n",
       "2  -0.566126  3.937726  \n",
       "3  -0.743866  3.696378  \n",
       "4   0.335650  3.257888  \n",
       "5  -0.302588  3.626031  "
      ]
     },
     "execution_count": 84,
     "metadata": {},
     "output_type": "execute_result"
    }
   ],
   "source": [
    "centroid_ratings_T_df = cm.centroid_ratings(centroids,item_factors_unstacked)\n",
    "centroid_ratings_T_df.head()"
   ]
  },
  {
   "cell_type": "code",
   "execution_count": 87,
   "metadata": {
    "ExecuteTime": {
     "end_time": "2019-07-26T16:03:42.705531Z",
     "start_time": "2019-07-26T16:03:42.591471Z"
    }
   },
   "outputs": [
    {
     "data": {
      "text/html": [
       "<div>\n",
       "<style scoped>\n",
       "    .dataframe tbody tr th:only-of-type {\n",
       "        vertical-align: middle;\n",
       "    }\n",
       "\n",
       "    .dataframe tbody tr th {\n",
       "        vertical-align: top;\n",
       "    }\n",
       "\n",
       "    .dataframe thead th {\n",
       "        text-align: right;\n",
       "    }\n",
       "</style>\n",
       "<table border=\"1\" class=\"dataframe\">\n",
       "  <thead>\n",
       "    <tr style=\"text-align: right;\">\n",
       "      <th></th>\n",
       "      <th>movieId</th>\n",
       "      <th>title</th>\n",
       "      <th>genres</th>\n",
       "    </tr>\n",
       "  </thead>\n",
       "  <tbody>\n",
       "    <tr>\n",
       "      <th>0</th>\n",
       "      <td>1</td>\n",
       "      <td>Toy Story (1995)</td>\n",
       "      <td>Adventure|Animation|Children|Comedy|Fantasy</td>\n",
       "    </tr>\n",
       "    <tr>\n",
       "      <th>1</th>\n",
       "      <td>2</td>\n",
       "      <td>Jumanji (1995)</td>\n",
       "      <td>Adventure|Children|Fantasy</td>\n",
       "    </tr>\n",
       "    <tr>\n",
       "      <th>2</th>\n",
       "      <td>3</td>\n",
       "      <td>Grumpier Old Men (1995)</td>\n",
       "      <td>Comedy|Romance</td>\n",
       "    </tr>\n",
       "    <tr>\n",
       "      <th>3</th>\n",
       "      <td>4</td>\n",
       "      <td>Waiting to Exhale (1995)</td>\n",
       "      <td>Comedy|Drama|Romance</td>\n",
       "    </tr>\n",
       "    <tr>\n",
       "      <th>4</th>\n",
       "      <td>5</td>\n",
       "      <td>Father of the Bride Part II (1995)</td>\n",
       "      <td>Comedy</td>\n",
       "    </tr>\n",
       "  </tbody>\n",
       "</table>\n",
       "</div>"
      ],
      "text/plain": [
       "   movieId                               title  \\\n",
       "0        1                    Toy Story (1995)   \n",
       "1        2                      Jumanji (1995)   \n",
       "2        3             Grumpier Old Men (1995)   \n",
       "3        4            Waiting to Exhale (1995)   \n",
       "4        5  Father of the Bride Part II (1995)   \n",
       "\n",
       "                                        genres  \n",
       "0  Adventure|Animation|Children|Comedy|Fantasy  \n",
       "1                   Adventure|Children|Fantasy  \n",
       "2                               Comedy|Romance  \n",
       "3                         Comedy|Drama|Romance  \n",
       "4                                       Comedy  "
      ]
     },
     "execution_count": 87,
     "metadata": {},
     "output_type": "execute_result"
    }
   ],
   "source": [
    "movies_df = pd.read_csv('../data/raw/movies.csv')\n",
    "movies_df.head()"
   ]
  },
  {
   "cell_type": "code",
   "execution_count": 200,
   "metadata": {
    "ExecuteTime": {
     "end_time": "2019-07-26T20:01:14.715525Z",
     "start_time": "2019-07-26T20:01:14.566911Z"
    },
    "scrolled": true
   },
   "outputs": [
    {
     "name": "stdout",
     "output_type": "stream",
     "text": [
      "['Gettysburg (1993)', 'Santa Claus Is a Stinker (Le Père Noël est une ordure) (1982)', 'Rainmaker, The (1997)', 'Snowriders (1996)', 'Visions of Light: The Art of Cinematography (1992)', 'Before Midnight (2013)', 'Bull Durham (1988)', 'Heartbeats (Les amours imaginaires) (2010)', 'Unknown (2006)', 'Murder at 1600 (1997)']\n"
     ]
    }
   ],
   "source": [
    "cm.get_recommendations(0, centroids, item_factors_unstacked)"
   ]
  },
  {
   "cell_type": "code",
   "execution_count": 201,
   "metadata": {
    "ExecuteTime": {
     "end_time": "2019-07-26T20:01:36.694314Z",
     "start_time": "2019-07-26T20:01:36.557055Z"
    }
   },
   "outputs": [
    {
     "name": "stdout",
     "output_type": "stream",
     "text": [
      "['Midnight Express (1978)', 'Frost/Nixon (2008)', 'Left Behind II: Tribulation Force (2002)', 'Mother Night (1996)', 'Yours, Mine and Ours (1968)', 'Love and Pigeons (1985)', 'Shooter (2007)', 'Survivor (2015)', 'Friends of Eddie Coyle, The (1973)', 'Baxter (1989)']\n"
     ]
    }
   ],
   "source": [
    "cm.get_recommendations(2, centroids, item_factors_unstacked)"
   ]
  },
  {
   "cell_type": "code",
   "execution_count": null,
   "metadata": {},
   "outputs": [],
   "source": [
    "tkinter"
   ]
  }
 ],
 "metadata": {
  "kernelspec": {
   "display_name": "Python 3",
   "language": "python",
   "name": "python3"
  },
  "language_info": {
   "codemirror_mode": {
    "name": "ipython",
    "version": 3
   },
   "file_extension": ".py",
   "mimetype": "text/x-python",
   "name": "python",
   "nbconvert_exporter": "python",
   "pygments_lexer": "ipython3",
   "version": "3.7.3"
  },
  "toc": {
   "base_numbering": 1,
   "nav_menu": {},
   "number_sections": true,
   "sideBar": true,
   "skip_h1_title": false,
   "title_cell": "Table of Contents",
   "title_sidebar": "Contents",
   "toc_cell": false,
   "toc_position": {},
   "toc_section_display": true,
   "toc_window_display": false
  },
  "varInspector": {
   "cols": {
    "lenName": 16,
    "lenType": 16,
    "lenVar": 40
   },
   "kernels_config": {
    "python": {
     "delete_cmd_postfix": "",
     "delete_cmd_prefix": "del ",
     "library": "var_list.py",
     "varRefreshCmd": "print(var_dic_list())"
    },
    "r": {
     "delete_cmd_postfix": ") ",
     "delete_cmd_prefix": "rm(",
     "library": "var_list.r",
     "varRefreshCmd": "cat(var_dic_list()) "
    }
   },
   "types_to_exclude": [
    "module",
    "function",
    "builtin_function_or_method",
    "instance",
    "_Feature"
   ],
   "window_display": false
  }
 },
 "nbformat": 4,
 "nbformat_minor": 2
}
