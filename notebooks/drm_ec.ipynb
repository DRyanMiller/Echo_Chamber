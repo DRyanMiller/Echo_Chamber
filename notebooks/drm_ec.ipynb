{
 "cells": [
  {
   "cell_type": "markdown",
   "metadata": {},
   "source": [
    "# Primary Notebook"
   ]
  },
  {
   "cell_type": "markdown",
   "metadata": {},
   "source": [
    "## Local Code Imports - Do not delete"
   ]
  },
  {
   "cell_type": "code",
   "execution_count": 1,
   "metadata": {
    "ExecuteTime": {
     "end_time": "2019-07-29T17:21:21.448255Z",
     "start_time": "2019-07-29T17:21:21.430627Z"
    },
    "tags": [
     "hidecode"
    ]
   },
   "outputs": [],
   "source": [
    "# DO NOT REMOVE THESE\n",
    "%load_ext autoreload\n",
    "%autoreload 2"
   ]
  },
  {
   "cell_type": "code",
   "execution_count": 2,
   "metadata": {
    "ExecuteTime": {
     "end_time": "2019-07-29T17:21:21.740704Z",
     "start_time": "2019-07-29T17:21:21.716246Z"
    }
   },
   "outputs": [],
   "source": [
    "# DO NOT REMOVE This\n",
    "%reload_ext autoreload"
   ]
  },
  {
   "cell_type": "code",
   "execution_count": 3,
   "metadata": {
    "ExecuteTime": {
     "end_time": "2019-07-29T17:21:22.025504Z",
     "start_time": "2019-07-29T17:21:22.012556Z"
    }
   },
   "outputs": [],
   "source": [
    "# Uncomment to filter warnings\n",
    "import warnings\n",
    "warnings.filterwarnings('ignore')"
   ]
  },
  {
   "cell_type": "code",
   "execution_count": 4,
   "metadata": {
    "ExecuteTime": {
     "end_time": "2019-07-29T17:21:23.065120Z",
     "start_time": "2019-07-29T17:21:22.364644Z"
    }
   },
   "outputs": [],
   "source": [
    "# DO NOT REMOVE\n",
    "# import local src module -\n",
    "from src import recapp as ra"
   ]
  },
  {
   "cell_type": "markdown",
   "metadata": {},
   "source": [
    "# Recommendations"
   ]
  },
  {
   "cell_type": "code",
   "execution_count": 5,
   "metadata": {
    "ExecuteTime": {
     "end_time": "2019-07-29T17:21:29.363960Z",
     "start_time": "2019-07-29T17:21:24.059789Z"
    },
    "scrolled": true
   },
   "outputs": [
    {
     "name": "stdout",
     "output_type": "stream",
     "text": [
      "Enter a ranking from 1 (lowest) to 5 (highest) for           the following movies. If you have not seen the movie,           press enter.\n",
      "Raiders of the Lost Ark (Indiana Jones and the Raiders of the Lost Ark) (1981): 3\n",
      "Yojimbo (1961): 3\n",
      "Intouchables (2011): 3\n",
      "Sherlock - A Study in Pink (2010): 3\n",
      "Last Year's Snow Was Falling (1983): 3\n",
      "When We Were Kings (1996): 3\n",
      "Cinema Paradiso (Nuovo cinema Paradiso) (1989): 3\n",
      "Children of Paradise (Les enfants du paradis) (1945): 3\n",
      "Maltese Falcon, The (1941): 3\n",
      "Band of Brothers (2001): 3\n",
      "\n",
      "\n",
      "\n",
      "\n",
      "Try:\n",
      "    Forsyte Saga, The (1967)\n",
      "    Grin Without a Cat, A (Fond de l'air est rouge, Le) (1977)\n",
      "    Welfare (1975)\n",
      "    Shock and Awe: The Story of Electricity (2011)\n",
      "    A Song of Lisbon (1933)\n",
      "    Kaaka Muttai (2015)\n",
      "    Planet Earth II (2016)\n",
      "    Planet Earth (2006)\n",
      "    Cosmos\n",
      "    One Lucky Elephant (2010)\n",
      "\n",
      "\n",
      "You may also like:\n",
      "    Definitely, Maybe (2008)\n",
      "    Small Soldiers (1998)\n",
      "    21 and Over (2013)\n",
      "    Boundin' (2003)\n",
      "    Summer Rental (1985)\n",
      "    House of D (2004)\n",
      "    Deadly Mantis, The (1957)\n",
      "    Duck, You Sucker (1971)\n",
      "    Cemetery Junction (2010)\n",
      "    Communion (1989)\n"
     ]
    }
   ],
   "source": [
    "ra.get_recommendations()"
   ]
  },
  {
   "cell_type": "code",
   "execution_count": null,
   "metadata": {},
   "outputs": [],
   "source": []
  }
 ],
 "metadata": {
  "kernelspec": {
   "display_name": "Python 3",
   "language": "python",
   "name": "python3"
  },
  "language_info": {
   "codemirror_mode": {
    "name": "ipython",
    "version": 3
   },
   "file_extension": ".py",
   "mimetype": "text/x-python",
   "name": "python",
   "nbconvert_exporter": "python",
   "pygments_lexer": "ipython3",
   "version": "3.7.3"
  },
  "toc": {
   "base_numbering": 1,
   "nav_menu": {},
   "number_sections": true,
   "sideBar": true,
   "skip_h1_title": false,
   "title_cell": "Table of Contents",
   "title_sidebar": "Contents",
   "toc_cell": false,
   "toc_position": {},
   "toc_section_display": true,
   "toc_window_display": false
  },
  "varInspector": {
   "cols": {
    "lenName": 16,
    "lenType": 16,
    "lenVar": 40
   },
   "kernels_config": {
    "python": {
     "delete_cmd_postfix": "",
     "delete_cmd_prefix": "del ",
     "library": "var_list.py",
     "varRefreshCmd": "print(var_dic_list())"
    },
    "r": {
     "delete_cmd_postfix": ") ",
     "delete_cmd_prefix": "rm(",
     "library": "var_list.r",
     "varRefreshCmd": "cat(var_dic_list()) "
    }
   },
   "types_to_exclude": [
    "module",
    "function",
    "builtin_function_or_method",
    "instance",
    "_Feature"
   ],
   "window_display": false
  }
 },
 "nbformat": 4,
 "nbformat_minor": 2
}
