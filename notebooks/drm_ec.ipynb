{
 "cells": [
  {
   "cell_type": "markdown",
   "metadata": {},
   "source": [
    "# Primary Notebook"
   ]
  },
  {
   "cell_type": "markdown",
   "metadata": {},
   "source": [
    "## Local Code Imports - Do not delete"
   ]
  },
  {
   "cell_type": "code",
   "execution_count": 21,
   "metadata": {
    "ExecuteTime": {
     "end_time": "2019-07-29T19:54:16.706438Z",
     "start_time": "2019-07-29T19:54:16.613637Z"
    },
    "tags": [
     "hidecode"
    ]
   },
   "outputs": [
    {
     "name": "stdout",
     "output_type": "stream",
     "text": [
      "The autoreload extension is already loaded. To reload it, use:\n",
      "  %reload_ext autoreload\n"
     ]
    }
   ],
   "source": [
    "# DO NOT REMOVE THESE\n",
    "%load_ext autoreload\n",
    "%autoreload 2"
   ]
  },
  {
   "cell_type": "code",
   "execution_count": 22,
   "metadata": {
    "ExecuteTime": {
     "end_time": "2019-07-29T19:54:16.958392Z",
     "start_time": "2019-07-29T19:54:16.825852Z"
    }
   },
   "outputs": [],
   "source": [
    "# DO NOT REMOVE This\n",
    "%reload_ext autoreload"
   ]
  },
  {
   "cell_type": "code",
   "execution_count": 23,
   "metadata": {
    "ExecuteTime": {
     "end_time": "2019-07-29T19:54:17.101082Z",
     "start_time": "2019-07-29T19:54:16.985327Z"
    }
   },
   "outputs": [],
   "source": [
    "# Uncomment to filter warnings\n",
    "import warnings\n",
    "warnings.filterwarnings('ignore')"
   ]
  },
  {
   "cell_type": "code",
   "execution_count": 24,
   "metadata": {
    "ExecuteTime": {
     "end_time": "2019-07-29T19:54:17.259120Z",
     "start_time": "2019-07-29T19:54:17.144948Z"
    }
   },
   "outputs": [],
   "source": [
    "# DO NOT REMOVE\n",
    "# import local src module -\n",
    "from src import recapp as ra"
   ]
  },
  {
   "cell_type": "markdown",
   "metadata": {},
   "source": [
    "# Recommendations"
   ]
  },
  {
   "cell_type": "code",
   "execution_count": 25,
   "metadata": {
    "ExecuteTime": {
     "end_time": "2019-07-29T19:54:22.599417Z",
     "start_time": "2019-07-29T19:54:17.670070Z"
    },
    "scrolled": true
   },
   "outputs": [
    {
     "name": "stdout",
     "output_type": "stream",
     "text": [
      "Enter a ranking from 1 (lowest) to 5 (highest) for           the following movies. If you have not seen the movie,           press enter.\n",
      "Piper (2016): 3\n",
      "Matrix, The (1999): 3\n",
      "Good, the Bad and the Ugly, The (Buono, il brutto, il cattivo, Il) (1966): 3\n",
      "Rear Window (1954): 3\n",
      "Whiplash (2013): 3\n",
      "Planet Earth II (2016): 3\n",
      "Ran (1985): 3\n",
      "All About Eve (1950): 3\n",
      "City of God (Cidade de Deus) (2002): 3\n",
      "Yojimbo (1961): 3\n",
      "\n",
      "\n",
      "\n",
      "\n",
      "Try:\n",
      "    Planet Earth II (2016)\n",
      "    Cosmos\n",
      "    Planet Earth (2006)\n",
      "    Band of Brothers (2001)\n",
      "    The Godfather Trilogy: 1972-1990 (1992)\n",
      "    Godfather, The (1972)\n",
      "    The Blue Planet (2001)\n",
      "    Life (2009)\n",
      "    Blue Planet II (2017)\n",
      "    Frozen Planet (2011)\n",
      "\n",
      "\n",
      "You may also like:\n",
      "    Humanoids from the Deep (1980)\n",
      "    Machete (2010)\n",
      "    Sniper (1993)\n",
      "    Charade (1963)\n",
      "    Illusionist, The (2006)\n",
      "    Joan of Arc (1948)\n",
      "    Burn Notice: The Fall of Sam Axe (2011)\n",
      "    Ambassador, The (Ambassadøren) (2011)\n",
      "    Gnomeo & Juliet (2011)\n",
      "    A Wrinkle in Time (2018)\n"
     ]
    }
   ],
   "source": [
    "ra.get_recommendations()"
   ]
  },
  {
   "cell_type": "code",
   "execution_count": null,
   "metadata": {},
   "outputs": [],
   "source": []
  }
 ],
 "metadata": {
  "kernelspec": {
   "display_name": "Python 3",
   "language": "python",
   "name": "python3"
  },
  "language_info": {
   "codemirror_mode": {
    "name": "ipython",
    "version": 3
   },
   "file_extension": ".py",
   "mimetype": "text/x-python",
   "name": "python",
   "nbconvert_exporter": "python",
   "pygments_lexer": "ipython3",
   "version": "3.7.3"
  },
  "toc": {
   "base_numbering": 1,
   "nav_menu": {},
   "number_sections": true,
   "sideBar": true,
   "skip_h1_title": false,
   "title_cell": "Table of Contents",
   "title_sidebar": "Contents",
   "toc_cell": false,
   "toc_position": {},
   "toc_section_display": true,
   "toc_window_display": false
  },
  "varInspector": {
   "cols": {
    "lenName": 16,
    "lenType": 16,
    "lenVar": 40
   },
   "kernels_config": {
    "python": {
     "delete_cmd_postfix": "",
     "delete_cmd_prefix": "del ",
     "library": "var_list.py",
     "varRefreshCmd": "print(var_dic_list())"
    },
    "r": {
     "delete_cmd_postfix": ") ",
     "delete_cmd_prefix": "rm(",
     "library": "var_list.r",
     "varRefreshCmd": "cat(var_dic_list()) "
    }
   },
   "types_to_exclude": [
    "module",
    "function",
    "builtin_function_or_method",
    "instance",
    "_Feature"
   ],
   "window_display": false
  }
 },
 "nbformat": 4,
 "nbformat_minor": 2
}
