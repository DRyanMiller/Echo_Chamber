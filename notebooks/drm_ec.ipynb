{
 "cells": [
  {
   "cell_type": "markdown",
   "metadata": {},
   "source": [
    "# Primary Notebook"
   ]
  },
  {
   "cell_type": "markdown",
   "metadata": {},
   "source": [
    "## Local Code Imports - Do not delete"
   ]
  },
  {
   "cell_type": "code",
   "execution_count": 1,
   "metadata": {
    "ExecuteTime": {
     "end_time": "2019-07-29T13:23:49.018814Z",
     "start_time": "2019-07-29T13:23:49.000897Z"
    },
    "tags": [
     "hidecode"
    ]
   },
   "outputs": [],
   "source": [
    "# DO NOT REMOVE THESE\n",
    "%load_ext autoreload\n",
    "%autoreload 2"
   ]
  },
  {
   "cell_type": "code",
   "execution_count": 2,
   "metadata": {
    "ExecuteTime": {
     "end_time": "2019-07-29T13:23:49.244522Z",
     "start_time": "2019-07-29T13:23:49.219200Z"
    }
   },
   "outputs": [],
   "source": [
    "# DO NOT REMOVE This\n",
    "%reload_ext autoreload"
   ]
  },
  {
   "cell_type": "code",
   "execution_count": 3,
   "metadata": {
    "ExecuteTime": {
     "end_time": "2019-07-29T13:23:49.456729Z",
     "start_time": "2019-07-29T13:23:49.444069Z"
    }
   },
   "outputs": [],
   "source": [
    "## Uncomment to filter warnings\n",
    "#import warnings\n",
    "#warnings.filterwarnings('ignore')"
   ]
  },
  {
   "cell_type": "code",
   "execution_count": 4,
   "metadata": {
    "ExecuteTime": {
     "end_time": "2019-07-29T13:23:50.833589Z",
     "start_time": "2019-07-29T13:23:49.863794Z"
    }
   },
   "outputs": [],
   "source": [
    "## DO NOT REMOVE\n",
    "## import local src module -\n",
    "## src in this project will contain all your local code\n",
    "## clean_data.py, model.py, visualize.py, custom.py\n",
    "#from src import make_data as mk\n",
    "from src import visualize as viz\n",
    "from src import model as mdl\n",
    "from src import custom as cm\n",
    "from src import recapp as ra\n",
    "#from src import pandas_operators as po\n",
    "\n",
    "#def test_src():\n",
    "    #mk.test_make_data()\n",
    "    #viz.test_viz()\n",
    "    #mdl.test_model()\n",
    "    #po.test_pandas()\n",
    "\n",
    "#    return 1"
   ]
  },
  {
   "cell_type": "code",
   "execution_count": null,
   "metadata": {
    "ExecuteTime": {
     "end_time": "2019-07-27T14:28:20.367779Z",
     "start_time": "2019-07-27T14:28:20.337059Z"
    }
   },
   "outputs": [],
   "source": [
    "#test_src()"
   ]
  },
  {
   "cell_type": "markdown",
   "metadata": {},
   "source": [
    "## Code Imports"
   ]
  },
  {
   "cell_type": "code",
   "execution_count": 2,
   "metadata": {
    "ExecuteTime": {
     "end_time": "2019-07-27T16:28:47.182217Z",
     "start_time": "2019-07-27T16:28:47.166158Z"
    }
   },
   "outputs": [],
   "source": [
    "## Some standard imports\n",
    "import numpy as np\n",
    "import pandas as pd\n",
    "import matplotlib.pyplot as plt\n",
    "import seaborn as sns\n",
    "from sklearn.model_selection import train_test_split\n",
    "from sklearn.metrics import confusion_matrix, accuracy_score\n",
    "from sklearn.ensemble import GradientBoostingClassifier\n",
    "from sklearn.model_selection import GridSearchCV\n",
    "from joblib import dump\n",
    "%matplotlib inline\n",
    "import warnings\n",
    "warnings.filterwarnings(\"ignore\")"
   ]
  },
  {
   "cell_type": "markdown",
   "metadata": {},
   "source": [
    "# Project Overview"
   ]
  },
  {
   "cell_type": "markdown",
   "metadata": {},
   "source": [
    "# EDA, Data Cleaning & Feature Engineering"
   ]
  },
  {
   "cell_type": "code",
   "execution_count": null,
   "metadata": {
    "ExecuteTime": {
     "end_time": "2019-07-26T12:56:43.825320Z",
     "start_time": "2019-07-26T12:56:42.140193Z"
    }
   },
   "outputs": [],
   "source": [
    "user_factors = pd.read_csv('../data/processed/user_factors_unstacked.csv')"
   ]
  },
  {
   "cell_type": "code",
   "execution_count": null,
   "metadata": {
    "ExecuteTime": {
     "end_time": "2019-07-26T12:56:47.178563Z",
     "start_time": "2019-07-26T12:56:44.923947Z"
    }
   },
   "outputs": [],
   "source": [
    "user_factors_scaled = pd.read_csv('../data/processed/user_factors_scaled.csv')"
   ]
  },
  {
   "cell_type": "code",
   "execution_count": null,
   "metadata": {
    "ExecuteTime": {
     "end_time": "2019-07-26T13:16:08.841508Z",
     "start_time": "2019-07-26T13:16:08.768880Z"
    }
   },
   "outputs": [],
   "source": [
    "user_factors_scaled.drop(['Unnamed: 0'], axis=1, inplace=True)"
   ]
  },
  {
   "cell_type": "code",
   "execution_count": null,
   "metadata": {},
   "outputs": [],
   "source": [
    "item_factors_unstacked_transposed = item_factors_unstacked.T"
   ]
  },
  {
   "cell_type": "code",
   "execution_count": null,
   "metadata": {
    "ExecuteTime": {
     "end_time": "2019-07-26T16:01:34.983532Z",
     "start_time": "2019-07-26T16:01:34.917031Z"
    },
    "scrolled": false
   },
   "outputs": [],
   "source": [
    "centroid_ratings_T_df = cm.centroid_ratings(centroids,item_factors_unstacked)\n",
    "centroid_ratings_T_df.head()"
   ]
  },
  {
   "cell_type": "markdown",
   "metadata": {},
   "source": [
    "# Recommendations"
   ]
  },
  {
   "cell_type": "code",
   "execution_count": 2,
   "metadata": {
    "ExecuteTime": {
     "end_time": "2019-07-29T11:47:51.848183Z",
     "start_time": "2019-07-29T11:47:51.728216Z"
    },
    "scrolled": true
   },
   "outputs": [
    {
     "ename": "NameError",
     "evalue": "name 'ra' is not defined",
     "output_type": "error",
     "traceback": [
      "\u001b[0;31m---------------------------------------------------------------------------\u001b[0m",
      "\u001b[0;31mNameError\u001b[0m                                 Traceback (most recent call last)",
      "\u001b[0;32m<ipython-input-2-e9d078fb23a9>\u001b[0m in \u001b[0;36m<module>\u001b[0;34m\u001b[0m\n\u001b[0;32m----> 1\u001b[0;31m \u001b[0mra\u001b[0m\u001b[0;34m.\u001b[0m\u001b[0mrecommendations\u001b[0m\u001b[0;34m(\u001b[0m\u001b[0;34m)\u001b[0m\u001b[0;34m\u001b[0m\u001b[0;34m\u001b[0m\u001b[0m\n\u001b[0m",
      "\u001b[0;31mNameError\u001b[0m: name 'ra' is not defined"
     ]
    }
   ],
   "source": [
    "ra.recommendations()"
   ]
  },
  {
   "cell_type": "code",
   "execution_count": null,
   "metadata": {},
   "outputs": [],
   "source": []
  }
 ],
 "metadata": {
  "kernelspec": {
   "display_name": "Python 3",
   "language": "python",
   "name": "python3"
  },
  "language_info": {
   "codemirror_mode": {
    "name": "ipython",
    "version": 3
   },
   "file_extension": ".py",
   "mimetype": "text/x-python",
   "name": "python",
   "nbconvert_exporter": "python",
   "pygments_lexer": "ipython3",
   "version": "3.7.3"
  },
  "toc": {
   "base_numbering": 1,
   "nav_menu": {},
   "number_sections": true,
   "sideBar": true,
   "skip_h1_title": false,
   "title_cell": "Table of Contents",
   "title_sidebar": "Contents",
   "toc_cell": false,
   "toc_position": {},
   "toc_section_display": true,
   "toc_window_display": false
  },
  "varInspector": {
   "cols": {
    "lenName": 16,
    "lenType": 16,
    "lenVar": 40
   },
   "kernels_config": {
    "python": {
     "delete_cmd_postfix": "",
     "delete_cmd_prefix": "del ",
     "library": "var_list.py",
     "varRefreshCmd": "print(var_dic_list())"
    },
    "r": {
     "delete_cmd_postfix": ") ",
     "delete_cmd_prefix": "rm(",
     "library": "var_list.r",
     "varRefreshCmd": "cat(var_dic_list()) "
    }
   },
   "types_to_exclude": [
    "module",
    "function",
    "builtin_function_or_method",
    "instance",
    "_Feature"
   ],
   "window_display": false
  }
 },
 "nbformat": 4,
 "nbformat_minor": 2
}
