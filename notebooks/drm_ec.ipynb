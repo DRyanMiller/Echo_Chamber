{
 "cells": [
  {
   "cell_type": "markdown",
   "metadata": {},
   "source": [
    "# Overcoming Echo Chambers in Recommendation Systems"
   ]
  },
  {
   "cell_type": "markdown",
   "metadata": {},
   "source": [
    "## Introduction"
   ]
  },
  {
   "cell_type": "markdown",
   "metadata": {},
   "source": [
    "\n",
    "\n",
    "Continue reading to learn more about how this project was developed or skip to the <a href = #Get_Recommendations> Get Recommendations</a> in Section 2 to test the recommendation engine."
   ]
  },
  {
   "cell_type": "markdown",
   "metadata": {},
   "source": [
    "# Recommendations"
   ]
  },
  {
   "cell_type": "markdown",
   "metadata": {
    "heading_collapsed": true
   },
   "source": [
    "## Local Code Imports"
   ]
  },
  {
   "cell_type": "code",
   "execution_count": 31,
   "metadata": {
    "ExecuteTime": {
     "end_time": "2019-07-29T21:32:02.254985Z",
     "start_time": "2019-07-29T21:32:02.131428Z"
    },
    "hidden": true,
    "tags": [
     "hidecode"
    ]
   },
   "outputs": [
    {
     "name": "stdout",
     "output_type": "stream",
     "text": [
      "The autoreload extension is already loaded. To reload it, use:\n",
      "  %reload_ext autoreload\n"
     ]
    }
   ],
   "source": [
    "# DO NOT REMOVE THESE\n",
    "%load_ext autoreload\n",
    "%autoreload 2"
   ]
  },
  {
   "cell_type": "code",
   "execution_count": 32,
   "metadata": {
    "ExecuteTime": {
     "end_time": "2019-07-29T21:32:02.565811Z",
     "start_time": "2019-07-29T21:32:02.399720Z"
    },
    "hidden": true
   },
   "outputs": [],
   "source": [
    "# DO NOT REMOVE This\n",
    "%reload_ext autoreload"
   ]
  },
  {
   "cell_type": "code",
   "execution_count": 33,
   "metadata": {
    "ExecuteTime": {
     "end_time": "2019-07-29T21:32:02.877808Z",
     "start_time": "2019-07-29T21:32:02.735872Z"
    },
    "hidden": true
   },
   "outputs": [],
   "source": [
    "# Uncomment to filter warnings\n",
    "import warnings\n",
    "warnings.filterwarnings('ignore')"
   ]
  },
  {
   "cell_type": "code",
   "execution_count": 34,
   "metadata": {
    "ExecuteTime": {
     "end_time": "2019-07-29T21:32:03.190771Z",
     "start_time": "2019-07-29T21:32:03.046146Z"
    },
    "hidden": true
   },
   "outputs": [],
   "source": [
    "# DO NOT REMOVE\n",
    "# import local src module -\n",
    "from src import recapp as ra"
   ]
  },
  {
   "cell_type": "code",
   "execution_count": null,
   "metadata": {
    "hidden": true
   },
   "outputs": [],
   "source": []
  },
  {
   "cell_type": "code",
   "execution_count": null,
   "metadata": {
    "hidden": true
   },
   "outputs": [],
   "source": []
  },
  {
   "cell_type": "code",
   "execution_count": null,
   "metadata": {
    "hidden": true
   },
   "outputs": [],
   "source": []
  },
  {
   "cell_type": "code",
   "execution_count": null,
   "metadata": {
    "hidden": true
   },
   "outputs": [],
   "source": []
  },
  {
   "cell_type": "markdown",
   "metadata": {
    "hidden": true
   },
   "source": [
    "<a id='Get_Recommendations'></a>"
   ]
  },
  {
   "cell_type": "markdown",
   "metadata": {},
   "source": [
    "## Get Recommendations"
   ]
  },
  {
   "cell_type": "code",
   "execution_count": 36,
   "metadata": {
    "ExecuteTime": {
     "end_time": "2019-07-29T21:32:58.838719Z",
     "start_time": "2019-07-29T21:32:33.568620Z"
    },
    "scrolled": true
   },
   "outputs": [
    {
     "name": "stdout",
     "output_type": "stream",
     "text": [
      "Enter a ranking from 1 (lowest) to 5 (highest) for           the following movies. If you have not seen the movie,           press enter.\n",
      "Matrix, The (1999): 4\n",
      "12 Angry Men (1957): 1\n",
      "Strangers on a Train (1951): 5\n",
      "Black Mirror: White Christmas (2014): 1\n",
      "Good, the Bad and the Ugly, The (Buono, il brutto, il cattivo, Il) (1966): 4\n",
      "Dark Knight, The (2008): 5\n",
      "Shadow of a Doubt (1943): \n",
      "Piper (2016): \n",
      "The Night Of (2016): \n",
      "Rear Window (1954): 5\n",
      "Voices from the List (2004): \n",
      "Cosmos: \n",
      "Vertigo (1958): 4\n",
      "Schindler's List (1993): \n",
      "American Beauty (1999): \n",
      "The Blue Planet (2001): \n",
      "North by Northwest (1959): 5\n",
      "One Flew Over the Cuckoo's Nest (1975): 4\n",
      "\n",
      "\n",
      "\n",
      "\n",
      "Try:\n",
      "    Shawshank Redemption, The (1994)\n",
      "    Planet Earth II (2016)\n",
      "    Band of Brothers (2001)\n",
      "    Planet Earth (2006)\n",
      "    Voices from the List (2004)\n",
      "    Intouchables (2011)\n",
      "    Schindler's List (1993)\n",
      "    Black Mirror: White Christmas (2014)\n",
      "    Life Is Beautiful (La Vita è bella) (1997)\n",
      "    The Blue Planet (2001)\n",
      "\n",
      "\n",
      "You may also like:\n",
      "    Quest for Camelot (1998)\n",
      "    Terminator, The (1984)\n",
      "    Darwin Awards, The (2006)\n",
      "    SuperBabies: Baby Geniuses 2 (2004)\n",
      "    Lone Survivor (2013)\n",
      "    Whale Rider (2002)\n",
      "    Princess Diaries 2: Royal Engagement, The (2004)\n",
      "    Babette's Feast (Babettes gæstebud) (1987)\n",
      "    Control (2007)\n",
      "    Operation 'Y' & Other Shurik's Adventures (1965)\n"
     ]
    }
   ],
   "source": [
    "ra.get_recommendations()"
   ]
  },
  {
   "cell_type": "code",
   "execution_count": null,
   "metadata": {},
   "outputs": [],
   "source": []
  }
 ],
 "metadata": {
  "kernelspec": {
   "display_name": "Python 3",
   "language": "python",
   "name": "python3"
  },
  "language_info": {
   "codemirror_mode": {
    "name": "ipython",
    "version": 3
   },
   "file_extension": ".py",
   "mimetype": "text/x-python",
   "name": "python",
   "nbconvert_exporter": "python",
   "pygments_lexer": "ipython3",
   "version": "3.7.3"
  },
  "toc": {
   "base_numbering": 1,
   "nav_menu": {},
   "number_sections": true,
   "sideBar": true,
   "skip_h1_title": false,
   "title_cell": "Table of Contents",
   "title_sidebar": "Contents",
   "toc_cell": false,
   "toc_position": {},
   "toc_section_display": true,
   "toc_window_display": false
  },
  "varInspector": {
   "cols": {
    "lenName": 16,
    "lenType": 16,
    "lenVar": 40
   },
   "kernels_config": {
    "python": {
     "delete_cmd_postfix": "",
     "delete_cmd_prefix": "del ",
     "library": "var_list.py",
     "varRefreshCmd": "print(var_dic_list())"
    },
    "r": {
     "delete_cmd_postfix": ") ",
     "delete_cmd_prefix": "rm(",
     "library": "var_list.r",
     "varRefreshCmd": "cat(var_dic_list()) "
    }
   },
   "types_to_exclude": [
    "module",
    "function",
    "builtin_function_or_method",
    "instance",
    "_Feature"
   ],
   "window_display": false
  }
 },
 "nbformat": 4,
 "nbformat_minor": 2
}
