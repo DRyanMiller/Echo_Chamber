{
 "cells": [
  {
   "cell_type": "markdown",
   "metadata": {},
   "source": [
    "# AWS Data Output Processing"
   ]
  },
  {
   "cell_type": "markdown",
   "metadata": {},
   "source": [
    "The following code downloads the output of the AWS Spark implementation of the ALS model and processes the data for further analysis. "
   ]
  },
  {
   "cell_type": "markdown",
   "metadata": {},
   "source": [
    "## Local Code Imports"
   ]
  },
  {
   "cell_type": "code",
   "execution_count": null,
   "metadata": {
    "ExecuteTime": {
     "end_time": "2019-07-31T19:33:48.476767Z",
     "start_time": "2019-07-31T19:33:48.357767Z"
    }
   },
   "outputs": [],
   "source": [
    "# DO NOT REMOVE THESE\n",
    "%load_ext autoreload\n",
    "%autoreload 2"
   ]
  },
  {
   "cell_type": "code",
   "execution_count": null,
   "metadata": {
    "ExecuteTime": {
     "end_time": "2019-07-31T19:33:48.701552Z",
     "start_time": "2019-07-31T19:33:48.546773Z"
    }
   },
   "outputs": [],
   "source": [
    "# DO NOT REMOVE This\n",
    "%reload_ext autoreload"
   ]
  },
  {
   "cell_type": "code",
   "execution_count": null,
   "metadata": {
    "ExecuteTime": {
     "end_time": "2019-07-31T19:33:48.950410Z",
     "start_time": "2019-07-31T19:33:48.822597Z"
    }
   },
   "outputs": [],
   "source": [
    "from src import model as mdl\n",
    "from src import custom as cm\n",
    "from src import make_data as md"
   ]
  },
  {
   "cell_type": "markdown",
   "metadata": {},
   "source": [
    "## Code Imports"
   ]
  },
  {
   "cell_type": "code",
   "execution_count": null,
   "metadata": {
    "ExecuteTime": {
     "end_time": "2019-07-31T19:30:12.916483Z",
     "start_time": "2019-07-31T19:30:12.838835Z"
    }
   },
   "outputs": [],
   "source": [
    "import boto3\n",
    "import os\n",
    "import pandas as pd\n",
    "import numpy as np\n",
    "from sklearn.preprocessing import StandardScaler\n",
    "from scipy.spatial import distance_matrix"
   ]
  },
  {
   "cell_type": "markdown",
   "metadata": {},
   "source": [
    "# AWS ALS Factor Importation and Convertion"
   ]
  },
  {
   "cell_type": "markdown",
   "metadata": {},
   "source": [
    "## Link to AWS S3 and view objects"
   ]
  },
  {
   "cell_type": "markdown",
   "metadata": {},
   "source": [
    "In order to download objects from AWS S3, a client connection must be established. The following cells establish a client connection and list the objects in the specified bucket."
   ]
  },
  {
   "cell_type": "code",
   "execution_count": null,
   "metadata": {
    "ExecuteTime": {
     "end_time": "2019-07-31T19:27:52.648775Z",
     "start_time": "2019-07-31T19:27:52.459975Z"
    }
   },
   "outputs": [],
   "source": [
    "s3 = boto3.resource('s3')\n",
    "client = boto3.client('s3')\n",
    "my_bucket = s3.Bucket('fp-movielens-data')"
   ]
  },
  {
   "cell_type": "code",
   "execution_count": null,
   "metadata": {
    "ExecuteTime": {
     "end_time": "2019-07-31T19:28:04.198062Z",
     "start_time": "2019-07-31T19:28:03.031264Z"
    },
    "scrolled": true
   },
   "outputs": [],
   "source": [
    "for obj in my_bucket.objects.all():\n",
    "    print(os.path.join(obj.bucket_name, obj.key))"
   ]
  },
  {
   "cell_type": "markdown",
   "metadata": {},
   "source": [
    "## Item Factors"
   ]
  },
  {
   "cell_type": "markdown",
   "metadata": {},
   "source": [
    "The output of the ALS model is saved as a set of files (a function of the MapReduce process).  To work with the output outside of AWS EMR, these files need to be combined into a single csv file. The following code completes this task for the item factors."
   ]
  },
  {
   "cell_type": "code",
   "execution_count": null,
   "metadata": {
    "ExecuteTime": {
     "end_time": "2019-07-31T19:29:30.814501Z",
     "start_time": "2019-07-31T19:29:30.757431Z"
    }
   },
   "outputs": [],
   "source": [
    "bucket = 'fp-movielens-data'\n",
    "key = 'item_factors.csv/part-0000{}-40db7616-e552-48cd-bb18-9fba706fe5aa-c000.csv'"
   ]
  },
  {
   "cell_type": "code",
   "execution_count": null,
   "metadata": {
    "ExecuteTime": {
     "end_time": "2019-07-31T19:40:09.324442Z",
     "start_time": "2019-07-31T19:39:51.057035Z"
    },
    "scrolled": true
   },
   "outputs": [],
   "source": [
    "item_factors_df = md.get_factors(client, bucket, key, 10)"
   ]
  },
  {
   "cell_type": "markdown",
   "metadata": {},
   "source": [
    "Further analysis required the item factors to be unstacked.  To unstack the factors, the features had to be assigned a label (indicated by the 'value' column in the output below).  The function for unstacking the data is in the model.py file located in the src folder. The unstacked data was then saved."
   ]
  },
  {
   "cell_type": "code",
   "execution_count": null,
   "metadata": {
    "ExecuteTime": {
     "end_time": "2019-07-31T19:34:09.208647Z",
     "start_time": "2019-07-31T19:34:09.040336Z"
    }
   },
   "outputs": [],
   "source": [
    "rank = item_factors_df.groupby(['id']).agg('count')[0:1]['features'][1]"
   ]
  },
  {
   "cell_type": "code",
   "execution_count": null,
   "metadata": {
    "ExecuteTime": {
     "end_time": "2019-07-31T19:34:24.315117Z",
     "start_time": "2019-07-31T19:34:23.900495Z"
    }
   },
   "outputs": [],
   "source": [
    "item_factors_unstacked = mdl.unstack(item_factors_df, rank)\n",
    "item_factors_unstacked.head()"
   ]
  },
  {
   "cell_type": "code",
   "execution_count": null,
   "metadata": {
    "ExecuteTime": {
     "end_time": "2019-07-26T21:29:05.013800Z",
     "start_time": "2019-07-26T21:29:03.778351Z"
    }
   },
   "outputs": [],
   "source": [
    "item_factors_unstacked.to_csv('../data/processed/item_factors_unstacked.csv')"
   ]
  },
  {
   "cell_type": "markdown",
   "metadata": {},
   "source": [
    "## User Factors"
   ]
  },
  {
   "cell_type": "markdown",
   "metadata": {},
   "source": [
    "The output of the ALS model is saved as a set of files (a function of the MapReduce process). To work with the output outside of AWS EMR, these files need to be combined into a single csv file. The following code completes this task for the user factors."
   ]
  },
  {
   "cell_type": "code",
   "execution_count": null,
   "metadata": {
    "ExecuteTime": {
     "end_time": "2019-07-31T19:36:17.233584Z",
     "start_time": "2019-07-31T19:36:17.105780Z"
    }
   },
   "outputs": [],
   "source": [
    "key = 'user_factors.csv/part-0000{}-59dd1ef1-da71-4926-b18b-5a0d5f059a90-c000.csv'"
   ]
  },
  {
   "cell_type": "code",
   "execution_count": null,
   "metadata": {
    "ExecuteTime": {
     "end_time": "2019-07-31T19:38:11.439740Z",
     "start_time": "2019-07-31T19:36:27.450263Z"
    }
   },
   "outputs": [],
   "source": [
    "user_factors_df = md.get_factors(client, bucket, key, 10)"
   ]
  },
  {
   "cell_type": "markdown",
   "metadata": {},
   "source": [
    "Further analysis required the user factors to be unstacked.  To unstack the factors, the features had to be assigned a label (indicated by the 'value' column in the output below).  The unstacked data was then saved."
   ]
  },
  {
   "cell_type": "code",
   "execution_count": null,
   "metadata": {
    "ExecuteTime": {
     "end_time": "2019-07-31T19:38:44.459633Z",
     "start_time": "2019-07-31T19:38:40.833239Z"
    }
   },
   "outputs": [],
   "source": [
    "user_factors_unstacked = mdl.unstack(user_factors_df, rank)"
   ]
  },
  {
   "cell_type": "code",
   "execution_count": null,
   "metadata": {
    "ExecuteTime": {
     "end_time": "2019-07-25T14:25:08.736222Z",
     "start_time": "2019-07-25T14:24:58.677474Z"
    }
   },
   "outputs": [],
   "source": [
    "user_factors_unstacked.to_csv('../data/processed/user_factors.csv')"
   ]
  },
  {
   "cell_type": "markdown",
   "metadata": {},
   "source": [
    "The user factors needed to be processed for use in the KMeans model.  The following code uses sklearn's StandardScaler to transform the user factors to the same scale. "
   ]
  },
  {
   "cell_type": "code",
   "execution_count": null,
   "metadata": {
    "ExecuteTime": {
     "end_time": "2019-07-25T14:36:15.808881Z",
     "start_time": "2019-07-25T14:36:15.558785Z"
    }
   },
   "outputs": [],
   "source": [
    "scaler = StandardScaler()\n",
    "user_factors_scaled = scaler.fit_transform(user_factors_unstacked)\n",
    "user_factors_scaled = pd.DataFrame(user_factors_scaled)"
   ]
  },
  {
   "cell_type": "code",
   "execution_count": null,
   "metadata": {
    "ExecuteTime": {
     "end_time": "2019-07-25T14:36:37.806450Z",
     "start_time": "2019-07-25T14:36:24.546897Z"
    }
   },
   "outputs": [],
   "source": [
    "user_factors_scaled.to_csv('../data/processed/user_factors_scaled.csv')"
   ]
  }
 ],
 "metadata": {
  "kernelspec": {
   "display_name": "Python 3",
   "language": "python",
   "name": "python3"
  },
  "language_info": {
   "codemirror_mode": {
    "name": "ipython",
    "version": 3
   },
   "file_extension": ".py",
   "mimetype": "text/x-python",
   "name": "python",
   "nbconvert_exporter": "python",
   "pygments_lexer": "ipython3",
   "version": "3.7.3"
  },
  "toc": {
   "base_numbering": 1,
   "nav_menu": {},
   "number_sections": true,
   "sideBar": true,
   "skip_h1_title": false,
   "title_cell": "Table of Contents",
   "title_sidebar": "Contents",
   "toc_cell": false,
   "toc_position": {},
   "toc_section_display": true,
   "toc_window_display": false
  }
 },
 "nbformat": 4,
 "nbformat_minor": 2
}
